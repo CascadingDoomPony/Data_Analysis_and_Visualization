{
 "cells": [
  {
   "cell_type": "markdown",
   "metadata": {},
   "source": [
    "# Toronto Dwellings Analysis Dashboard\n",
    "\n",
    "In this notebook, you will compile the visualizations from the previous analysis into functions to create a Panel dashboard."
   ]
  },
  {
   "cell_type": "code",
   "execution_count": 7,
   "metadata": {},
   "outputs": [],
   "source": [
    "# imports\n",
    "import panel as pn\n",
    "pn.extension('plotly')\n",
    "import plotly.express as px\n",
    "import pandas as pd\n",
    "import hvplot.pandas\n",
    "import matplotlib.pyplot as plt\n",
    "import os\n",
    "from pathlib import Path\n",
    "from dotenv import load_dotenv"
   ]
  },
  {
   "cell_type": "code",
   "execution_count": 8,
   "metadata": {},
   "outputs": [],
   "source": [
    "# Initialize the Panel Extensions (for Plotly)\n",
    "import panel as pn\n",
    "pn.extension(\"plotly\")"
   ]
  },
  {
   "cell_type": "code",
   "execution_count": 12,
   "metadata": {},
   "outputs": [],
   "source": [
    "# Read the Mapbox API key\n",
    "load_dotenv()\n",
    "map_box_api = os.getenv(\"MAPBOX_PUBLIC_API_KEY\")\n",
    "px.set_mapbox_access_token(map_box_api)"
   ]
  },
  {
   "cell_type": "markdown",
   "metadata": {},
   "source": [
    "# Import Data"
   ]
  },
  {
   "cell_type": "code",
   "execution_count": 10,
   "metadata": {},
   "outputs": [],
   "source": [
    "# Import the CSVs to Pandas DataFrames\n",
    "file_path = Path(\"Data/toronto_neighbourhoods_census_data.csv\")\n",
    "to_data = pd.read_csv(file_path, index_col=\"year\")\n",
    "\n",
    "file_path = Path(\"Data/toronto_neighbourhoods_coordinates.csv\")\n",
    "df_neighbourhood_locations = pd.read_csv(file_path)"
   ]
  },
  {
   "cell_type": "markdown",
   "metadata": {},
   "source": [
    "- - -"
   ]
  },
  {
   "cell_type": "markdown",
   "metadata": {},
   "source": [
    "## Panel Visualizations\n",
    "\n",
    "In this section, you will copy the code for each plot type from your analysis notebook and place it into separate functions that Panel can use to create panes for the dashboard. \n",
    "\n",
    "These functions will convert the plot object to a Panel pane.\n",
    "\n",
    "Be sure to include any DataFrame transformation/manipulation code required along with the plotting code.\n",
    "\n",
    "Return a Panel pane object from each function that can be used to build the dashboard.\n",
    "\n",
    "Note: Remove any `.show()` lines from the code. We want to return the plots instead of showing them. The Panel dashboard will then display the plots."
   ]
  },
  {
   "cell_type": "markdown",
   "metadata": {},
   "source": [
    "### Global available data"
   ]
  },
  {
   "cell_type": "code",
   "execution_count": 29,
   "metadata": {},
   "outputs": [],
   "source": [
    "# Getting the data from the top 10 expensive neighbourhoods\n",
    "# Group by neightbourhood with no column filters, getting mean data, sorting by average_house_value, and then resetting index\n",
    "total_avg_house_value = to_data.groupby(\n",
    "            [to_data.loc[:, \"neighbourhood\"]]).mean().sort_values(\"average_house_value\", ascending=False).reset_index()\n",
    "# Remove all but the top 10 neighbourhoods\n",
    "total_avg_house_value_top10 = total_avg_house_value.iloc[:10]\n",
    "\n",
    "# Calculate the mean number of dwelling types units per year\n",
    "# We do not do this at any point in the analysis\n",
    "# According to the specs it doesnt actually matter what exactly is in the dashboard\n",
    "# I will use the previously made graphs and follow the given example\n",
    "# This is the number of dwelling types per year\n",
    "dwellings_list = [\"single_detached_house\", \"apartment_five_storeys_plus\", \"movable_dwelling\", \"semi_detached_house\", \n",
    "                  \"row_house\", \"duplex\", \"apartment_five_storeys_less\", \"other_house\"]\n",
    "# Group by index (year) and specify dwellings\n",
    "dwelling_units_py = to_data.groupby(to_data.index).sum().loc[:,dwellings_list]\n",
    "\n",
    "# Calculate the average monthly shelter costs for owned and rented dwellings\n",
    "shelter_costs = to_data.groupby(to_data.index).mean().loc[:,[\"shelter_costs_owned\", \"shelter_costs_rented\"]]"
   ]
  },
  {
   "cell_type": "markdown",
   "metadata": {},
   "source": [
    "### Panel Visualization Functions"
   ]
  },
  {
   "cell_type": "code",
   "execution_count": 44,
   "metadata": {},
   "outputs": [],
   "source": [
    "# Define Panel visualization functions\n",
    "def neighbourhood_map():\n",
    "    mean_values_by_neighbourhood = to_data.groupby([to_data.loc[:, \"neighbourhood\"]]).mean().reset_index()\n",
    "    \n",
    "    mean_neighbour_values_with_locations = pd.concat([df_neighbourhood_locations, mean_values_by_neighbourhood], axis=\"columns\", join=\"inner\")\n",
    "    \n",
    "    return px.scatter_mapbox(\n",
    "                mean_neighbour_values_with_locations,\n",
    "                lat='lat',\n",
    "                lon='lon',\n",
    "                color='average_house_value',\n",
    "                size='average_house_value',\n",
    "                zoom=8\n",
    ")\n",
    "    \n",
    "def create_bar_chart(data, title, xlabel, ylabel, color):\n",
    "    return data.hvplot.bar(\n",
    "        title=title, \n",
    "        xlabel=xlabel, \n",
    "        ylabel=ylabel, \n",
    "        color=color\n",
    "    ).opts(\n",
    "        # Rotate x label name 90% for visibility, format y axis to not use scientific format, and increase height so the chart\n",
    "        # doesn't look squished\n",
    "        xrotation=90, \n",
    "        yformatter=\"%.0f\",\n",
    "        frame_height = 300)\n",
    "\n",
    "def create_line_chart(data, title, xlabel, ylabel, color):\n",
    "    return data.hvplot.line(\n",
    "        title=title, \n",
    "        xlabel=xlabel, \n",
    "        ylabel=ylabel, \n",
    "        color=color\n",
    "    ).opts(\n",
    "        # Format Y to not use scientific notation and increase width so the chart doesn't look squished \n",
    "        yformatter=\"%.0f\",\n",
    "        frame_width = 500\n",
    "    )\n",
    "\n",
    "def average_house_value():\n",
    "    avg_house_value = to_data.loc[:, \"average_house_value\"].groupby(to_data.index).mean()\n",
    "    return create_line_chart(\n",
    "        avg_house_value, \n",
    "        \"Average House Value in Toronto\", \n",
    "        \"Year\",\n",
    "        \"Avg House Value\",\n",
    "        \"blue\"\n",
    "    )\n",
    "\n",
    "def average_value_by_neighbourhood():\n",
    "    avg_house_value_neighbourhood = to_data.loc[:, \"average_house_value\"].groupby(\n",
    "                                    [to_data.index, to_data.loc[:, \"neighbourhood\"]]).mean().reset_index()\n",
    "    \n",
    "    return avg_house_value_neighbourhood.hvplot.line(\n",
    "        x=\"year\",\n",
    "        y=\"average_house_value\",\n",
    "        groupby=\"neighbourhood\",\n",
    "        xlabel=\"Year\", \n",
    "        ylabel=\"Avg House Value\", \n",
    "        color=\"blue\"\n",
    "    ).opts(\n",
    "        # Format Y to not use scientific notation and increase width so the chart doesn't look squished \n",
    "        yformatter=\"%.0f\",\n",
    "        frame_width = 500,\n",
    "    )\n",
    "\n",
    "def number_dwelling_types():\n",
    "\n",
    "    dwelling_type_count_neighbourhood = to_data.loc[:, dwellings_list].groupby(\n",
    "                                    [to_data.index, to_data.loc[:, \"neighbourhood\"]]).sum().reset_index()\n",
    "    year = [\"2001\", \"2006\", \"2011\", \"2016\"]\n",
    "\n",
    "    return dwelling_type_count_neighbourhood.hvplot.bar(\n",
    "        x=\"year\",\n",
    "        groupby=\"neighbourhood\",\n",
    "        xlabel=\"Year\", \n",
    "        ylabel=\"Dwelling Type Units\"\n",
    "    ).opts(\n",
    "        # Format Y to not use scientific notation and increase width so the chart doesn't look squished \n",
    "        # Rotate x for visibility\n",
    "        xrotation = 90,\n",
    "        yformatter=\"%.0f\",\n",
    "        frame_width = 600,\n",
    "        frame_height = 300\n",
    "    )\n",
    "\n",
    "def average_house_value_snapshot():\n",
    "    \"\"\"filler\"\"\"\n",
    "    # filler\n",
    "\n",
    "def top_most_expensive_neighbourhoods():\n",
    "    # Group by neightbourhood with no column filters, getting mean data, sorting by average_house_value, and then resetting index\n",
    "    total_avg_house_value = to_data.groupby(\n",
    "                [to_data.loc[:, \"neighbourhood\"]]).mean().sort_values(\"average_house_value\", ascending=False).reset_index()\n",
    "    # Remove all but the top 10 neighbourhoods\n",
    "    total_avg_house_value_top10 = total_avg_house_value.iloc[:10]\n",
    "\n",
    "    return total_avg_house_value_top10.hvplot.bar(\n",
    "        x=\"neighbourhood\",\n",
    "        y=\"average_house_value\",\n",
    "        xlabel=\"Neighbourhood\", \n",
    "        ylabel=\"Avg House Value\",\n",
    "        title=\"Top 10 Expensive Neighbourhoods in Toronto\"\n",
    "    ).opts(\n",
    "        # Format Y to not use scientific notation and increase width so the chart doesn't look squished \n",
    "        # Rotate x for visibility\n",
    "        xrotation = 90,\n",
    "        yformatter=\"%.0f\",\n",
    "        frame_width = 600,\n",
    "        frame_height = 300\n",
    "    )\n",
    "def sunburts_cost_analysis():\n",
    "    \"\"\"Sunburst chart to conduct a costs analysis of most expensive neighbourhoods in Toronto per year.\"\"\"\n",
    "    \n",
    "    # YOUR CODE HERE!"
   ]
  },
  {
   "cell_type": "markdown",
   "metadata": {},
   "source": [
    "## Panel Dashboard\n",
    "\n",
    "In this section, you will combine all of the plots into a single dashboard view using Panel. Be creative with your dashboard design!"
   ]
  },
  {
   "cell_type": "code",
   "execution_count": 47,
   "metadata": {},
   "outputs": [],
   "source": [
    "# Create a Title for the Dashboard\n",
    "dash_title = pn.Column(\"#A Graphical Analysis of Real Estate in Toronto\")\n",
    "\n",
    "# Define a welcome text\n",
    "welcome_text = pn.Column(\"\"\"This is a display of data regarding the quantity and cost of dwellings within Toronto and its \n",
    "                            neighbourhood. This data is produced using census data over the 2001-2016 period. The data is\n",
    "                            organised in tabs, which you can click through at the top of the panel\"\"\"\n",
    "                         , neighbourhood_map())\n",
    "\n",
    "# Create a tab layout for the dashboard\n",
    "\n",
    "# First tab: Yearly housing count\n",
    "# Bar chart for 2001\n",
    "df_2001 = dwelling_units_py.loc[2001]\n",
    "bar_2001 = create_bar_chart(df_2001, \"Number of dwellings by type - 2001\", \"Dwelling Type\", \"Number of Dwellings\", \"red\")\n",
    "\n",
    "# Bar chart for 2006\n",
    "df_2006 = dwelling_units_py.loc[2006]\n",
    "bar_2006 = create_bar_chart(df_2006, \"Number of dwellings by type - 2006\", \"Dwelling Type\", \"Number of Dwellings\", \"blue\")\n",
    "\n",
    "# Bar chart for 2011\n",
    "df_2011 = dwelling_units_py.loc[2011]\n",
    "bar_2011 = create_bar_chart(df_2011, \"Number of dwellings by type - 2011\", \"Dwelling Type\", \"Number of Dwellings\", \"green\")\n",
    "\n",
    "# Bar chart for 2016\n",
    "df_2016 = dwelling_units_py.loc[2016]\n",
    "bar_2016 = create_bar_chart(df_2016, \"Number of dwellings by type - 2016\", \"Dwelling Type\", \"Number of Dwellings\", \"yellow\")\n",
    "\n",
    "row_1 = pn.Row(bar_2001, bar_2006)\n",
    "row_2 = pn.Row(bar_2011, bar_2016)\n",
    "yearly_housing_count = pn.Column(row_1, row_2)\n",
    "\n",
    "#Second tab: Average house costs analysis\n",
    "df_owned = shelter_costs.loc[:,\"shelter_costs_owned\"]\n",
    "line_owned = create_line_chart(\n",
    "    df_owned, \n",
    "    \"Average Monthly Shelter Cost for Owned Dwellings in Toronto\", \n",
    "    \"Year\",\n",
    "    \"Avg Monthly Shelter Costs\",\n",
    "    \"blue\"\n",
    ")\n",
    "\n",
    "# Line chart for rented dwellings\n",
    "df_rented = shelter_costs.loc[:,\"shelter_costs_rented\"]\n",
    "line_rented = create_line_chart(\n",
    "    df_rented, \n",
    "    \"Average Monthly Shelter Cost for Rented Dwellings in Toronto\", \n",
    "    \"Year\",\n",
    "    \"Avg Monthly Shelter Costs\",\n",
    "    \"yellow\"\n",
    ")\n",
    "\n",
    "row_1 = pn.Row(line_owned, line_rented)\n",
    "avg_house_cost = pn.Column(average_house_value(), row_1)\n",
    "\n",
    "# Neighbourhood analysis\n",
    "\n",
    "row_1 = pn.Column(average_value_by_neighbourhood(), number_dwelling_types())\n",
    "neighbourhood = pn.Row(row_1, top_most_expensive_neighbourhoods())\n",
    "\n",
    "all_tabs = pn.Tabs(\n",
    "        (\"Welcome\", welcome_text),\n",
    "        (\"Yearly Housing Count\", yearly_housing_count),\n",
    "        (\"Average Housing Cost\", avg_house_cost),\n",
    "        (\"Neighbourhood Analysis\", neighbourhood)\n",
    ")\n",
    "\n",
    "# Create the main dashboard\n",
    "dashboard = pn.Column(dash_title, all_tabs)"
   ]
  },
  {
   "cell_type": "markdown",
   "metadata": {},
   "source": [
    "## Serve the Panel Dashboard"
   ]
  },
  {
   "cell_type": "code",
   "execution_count": 48,
   "metadata": {},
   "outputs": [
    {
     "data": {},
     "metadata": {},
     "output_type": "display_data"
    },
    {
     "data": {},
     "metadata": {},
     "output_type": "display_data"
    },
    {
     "data": {
      "application/vnd.holoviews_exec.v0+json": "",
      "text/html": [
       "<div id='8033'>\n",
       "\n",
       "\n",
       "\n",
       "\n",
       "\n",
       "  <div class=\"bk-root\" id=\"f6a63dea-3925-4885-8fce-159cf0c31174\" data-root-id=\"8033\"></div>\n",
       "</div>\n",
       "<script type=\"application/javascript\">(function(root) {\n",
       "  function embed_document(root) {\n",
       "    var docs_json = {\"c6b40bce-8e57-4f26-b0d8-1b795fd192f1\":{\"defs\":[{\"extends\":null,\"module\":null,\"name\":\"ReactiveHTML1\",\"overrides\":[],\"properties\":[]},{\"extends\":null,\"module\":null,\"name\":\"FlexBox1\",\"overrides\":[],\"properties\":[{\"default\":\"flex-start\",\"kind\":null,\"name\":\"align_content\"},{\"default\":\"flex-start\",\"kind\":null,\"name\":\"align_items\"},{\"default\":\"row\",\"kind\":null,\"name\":\"flex_direction\"},{\"default\":\"wrap\",\"kind\":null,\"name\":\"flex_wrap\"},{\"default\":\"flex-start\",\"kind\":null,\"name\":\"justify_content\"}]},{\"extends\":null,\"module\":null,\"name\":\"TemplateActions1\",\"overrides\":[],\"properties\":[{\"default\":0,\"kind\":null,\"name\":\"open_modal\"},{\"default\":0,\"kind\":null,\"name\":\"close_modal\"}]},{\"extends\":null,\"module\":null,\"name\":\"MaterialTemplateActions1\",\"overrides\":[],\"properties\":[{\"default\":0,\"kind\":null,\"name\":\"open_modal\"},{\"default\":0,\"kind\":null,\"name\":\"close_modal\"}]}],\"roots\":{\"references\":[{\"attributes\":{\"axis_label\":\"Dwelling Type\",\"coordinates\":null,\"formatter\":{\"id\":\"8292\"},\"group\":null,\"major_label_orientation\":1.5707963267948966,\"major_label_policy\":{\"id\":\"8293\"},\"ticker\":{\"id\":\"8262\"}},\"id\":\"8261\",\"type\":\"CategoricalAxis\"},{\"attributes\":{\"children\":[{\"id\":\"8530\"},{\"id\":\"8610\"}],\"margin\":[0,0,0,0],\"name\":\"Column16902\"},\"id\":\"8529\",\"type\":\"Column\"},{\"attributes\":{\"css_classes\":[\"markdown\"],\"margin\":[5,5,5,5],\"name\":\"Markdown15959\",\"text\":\"&lt;p&gt;This is a display of data regarding the quantity and cost of dwellings within Toronto and its \\n                            neighbourhood. This data is produced using census data over the 2001-2016 period. The data is\\n                            organised in tabs, which you can click through at the top of the panel&lt;/p&gt;\"},\"id\":\"8038\",\"type\":\"panel.models.markup.HTML\"},{\"attributes\":{\"source\":{\"id\":\"8281\"}},\"id\":\"8288\",\"type\":\"CDSView\"},{\"attributes\":{\"axis\":{\"id\":\"8623\"},\"coordinates\":null,\"grid_line_color\":null,\"group\":null,\"ticker\":null},\"id\":\"8625\",\"type\":\"Grid\"},{\"attributes\":{},\"id\":\"8482\",\"type\":\"ResetTool\"},{\"attributes\":{\"fill_alpha\":{\"value\":0.2},\"fill_color\":{\"value\":\"yellow\"},\"hatch_alpha\":{\"value\":0.2},\"hatch_color\":{\"value\":\"yellow\"},\"line_alpha\":{\"value\":0.2},\"top\":{\"field\":\"A_2016\"},\"width\":{\"value\":0.8},\"x\":{\"field\":\"index\"}},\"id\":\"8286\",\"type\":\"VBar\"},{\"attributes\":{\"axis_label\":\"Year\",\"coordinates\":null,\"formatter\":{\"id\":\"8655\"},\"group\":null,\"major_label_orientation\":1.5707963267948966,\"major_label_policy\":{\"id\":\"8656\"},\"ticker\":{\"id\":\"8624\"}},\"id\":\"8623\",\"type\":\"CategoricalAxis\"},{\"attributes\":{\"coordinates\":null,\"group\":null,\"text\":\"neighbourhood: Agincourt North\",\"text_color\":\"black\",\"text_font_size\":\"12pt\"},\"id\":\"8615\",\"type\":\"Title\"},{\"attributes\":{\"coordinates\":null,\"group\":null,\"text\":\"Number of dwellings by type - 2016\",\"text_color\":\"black\",\"text_font_size\":\"12pt\"},\"id\":\"8253\",\"type\":\"Title\"},{\"attributes\":{},\"id\":\"8565\",\"type\":\"Selection\"},{\"attributes\":{\"tools\":[{\"id\":\"8460\"},{\"id\":\"8478\"},{\"id\":\"8479\"},{\"id\":\"8480\"},{\"id\":\"8481\"},{\"id\":\"8482\"}]},\"id\":\"8484\",\"type\":\"Toolbar\"},{\"attributes\":{\"axis\":{\"id\":\"8261\"},\"coordinates\":null,\"grid_line_color\":null,\"group\":null,\"ticker\":null},\"id\":\"8263\",\"type\":\"Grid\"},{\"attributes\":{},\"id\":\"8257\",\"type\":\"CategoricalScale\"},{\"attributes\":{},\"id\":\"8621\",\"type\":\"LinearScale\"},{\"attributes\":{\"bottom_units\":\"screen\",\"coordinates\":null,\"fill_alpha\":0.5,\"fill_color\":\"lightgrey\",\"group\":null,\"left_units\":\"screen\",\"level\":\"overlay\",\"line_alpha\":1.0,\"line_color\":\"black\",\"line_dash\":[4,4],\"line_width\":2,\"right_units\":\"screen\",\"syncable\":false,\"top_units\":\"screen\"},\"id\":\"8483\",\"type\":\"BoxAnnotation\"},{\"attributes\":{\"format\":\"%.0f\"},\"id\":\"8290\",\"type\":\"PrintfTickFormatter\"},{\"attributes\":{},\"id\":\"8624\",\"type\":\"CategoricalTicker\"},{\"attributes\":{\"below\":[{\"id\":\"8124\"}],\"center\":[{\"id\":\"8126\"},{\"id\":\"8130\"}],\"frame_height\":300,\"height\":null,\"left\":[{\"id\":\"8127\"}],\"margin\":[5,5,5,5],\"min_border_bottom\":10,\"min_border_left\":10,\"min_border_right\":10,\"min_border_top\":10,\"renderers\":[{\"id\":\"8150\"}],\"sizing_mode\":\"fixed\",\"title\":{\"id\":\"8116\"},\"toolbar\":{\"id\":\"8137\"},\"width\":700,\"x_range\":{\"id\":\"8044\"},\"x_scale\":{\"id\":\"8120\"},\"y_range\":{\"id\":\"8113\"},\"y_scale\":{\"id\":\"8122\"}},\"id\":\"8115\",\"subtype\":\"Figure\",\"type\":\"Plot\"},{\"attributes\":{\"axis\":{\"id\":\"8626\"},\"coordinates\":null,\"dimension\":1,\"grid_line_color\":null,\"group\":null,\"ticker\":null},\"id\":\"8629\",\"type\":\"Grid\"},{\"attributes\":{\"source\":{\"id\":\"8491\"}},\"id\":\"8498\",\"type\":\"CDSView\"},{\"attributes\":{},\"id\":\"8259\",\"type\":\"LinearScale\"},{\"attributes\":{},\"id\":\"8265\",\"type\":\"BasicTicker\"},{\"attributes\":{},\"id\":\"8627\",\"type\":\"BasicTicker\"},{\"attributes\":{\"data\":{\"A_2006\":[266860,379400,165,69430,54690,44095,162850,1335],\"index\":[\"single_detached_house\",\"apartment_five_storeys_plus\",\"movable_dwelling\",\"semi_detached_house\",\"row_house\",\"duplex\",\"apartment_five_storeys_less\",\"other_house\"]},\"selected\":{\"id\":\"8145\"},\"selection_policy\":{\"id\":\"8168\"}},\"id\":\"8144\",\"type\":\"ColumnDataSource\"},{\"attributes\":{},\"id\":\"8155\",\"type\":\"CategoricalTickFormatter\"},{\"attributes\":{},\"id\":\"8262\",\"type\":\"CategoricalTicker\"},{\"attributes\":{\"axis_label\":\"Dwelling Type Units\",\"coordinates\":null,\"formatter\":{\"id\":\"8653\"},\"group\":null,\"major_label_policy\":{\"id\":\"8659\"},\"ticker\":{\"id\":\"8627\"}},\"id\":\"8626\",\"type\":\"LinearAxis\"},{\"attributes\":{\"children\":[{\"id\":\"8614\"},{\"id\":\"8686\"}],\"margin\":[0,0,0,0],\"name\":\"Row16894\"},\"id\":\"8610\",\"type\":\"Row\"},{\"attributes\":{\"axis_label\":\"Number of Dwellings\",\"coordinates\":null,\"formatter\":{\"id\":\"8290\"},\"group\":null,\"major_label_policy\":{\"id\":\"8296\"},\"ticker\":{\"id\":\"8265\"}},\"id\":\"8264\",\"type\":\"LinearAxis\"},{\"attributes\":{},\"id\":\"8506\",\"type\":\"AllLabels\"},{\"attributes\":{\"axis\":{\"id\":\"8264\"},\"coordinates\":null,\"dimension\":1,\"grid_line_color\":null,\"group\":null,\"ticker\":null},\"id\":\"8267\",\"type\":\"Grid\"},{\"attributes\":{\"fill_color\":{\"value\":\"yellow\"},\"hatch_color\":{\"value\":\"yellow\"},\"top\":{\"field\":\"A_2016\"},\"width\":{\"value\":0.8},\"x\":{\"field\":\"index\"}},\"id\":\"8284\",\"type\":\"VBar\"},{\"attributes\":{\"coordinates\":null,\"data_source\":{\"id\":\"8491\"},\"glyph\":{\"id\":\"8494\"},\"group\":null,\"hover_glyph\":null,\"muted_glyph\":{\"id\":\"8496\"},\"nonselection_glyph\":{\"id\":\"8495\"},\"selection_glyph\":{\"id\":\"8499\"},\"view\":{\"id\":\"8498\"}},\"id\":\"8497\",\"type\":\"GlyphRenderer\"},{\"attributes\":{\"fill_alpha\":{\"value\":0.1},\"fill_color\":{\"value\":\"yellow\"},\"hatch_alpha\":{\"value\":0.1},\"hatch_color\":{\"value\":\"yellow\"},\"line_alpha\":{\"value\":0.1},\"top\":{\"field\":\"A_2016\"},\"width\":{\"value\":0.8},\"x\":{\"field\":\"index\"}},\"id\":\"8285\",\"type\":\"VBar\"},{\"attributes\":{\"factors\":[[\"2001\",\"other_house\"],[\"2001\",\"apartment_five_storeys_less\"],[\"2001\",\"duplex\"],[\"2001\",\"row_house\"],[\"2001\",\"semi_detached_house\"],[\"2001\",\"movable_dwelling\"],[\"2001\",\"apartment_five_storeys_plus\"],[\"2001\",\"single_detached_house\"],[\"2006\",\"other_house\"],[\"2006\",\"apartment_five_storeys_less\"],[\"2006\",\"duplex\"],[\"2006\",\"row_house\"],[\"2006\",\"semi_detached_house\"],[\"2006\",\"movable_dwelling\"],[\"2006\",\"apartment_five_storeys_plus\"],[\"2006\",\"single_detached_house\"],[\"2011\",\"other_house\"],[\"2011\",\"apartment_five_storeys_less\"],[\"2011\",\"duplex\"],[\"2011\",\"row_house\"],[\"2011\",\"semi_detached_house\"],[\"2011\",\"movable_dwelling\"],[\"2011\",\"apartment_five_storeys_plus\"],[\"2011\",\"single_detached_house\"],[\"2016\",\"other_house\"],[\"2016\",\"apartment_five_storeys_less\"],[\"2016\",\"duplex\"],[\"2016\",\"row_house\"],[\"2016\",\"semi_detached_house\"],[\"2016\",\"movable_dwelling\"],[\"2016\",\"apartment_five_storeys_plus\"],[\"2016\",\"single_detached_house\"]],\"tags\":[[[\"year\",\"year\",null],[\"Variable\",\"Variable\",null]]]},\"id\":\"8611\",\"type\":\"FactorRange\"},{\"attributes\":{\"tools\":[{\"id\":\"8613\"},{\"id\":\"8630\"},{\"id\":\"8631\"},{\"id\":\"8632\"},{\"id\":\"8633\"},{\"id\":\"8634\"}]},\"id\":\"8636\",\"type\":\"Toolbar\"},{\"attributes\":{\"bottom\":{\"value\":0},\"fill_alpha\":{\"value\":1.0},\"fill_color\":{\"value\":\"yellow\"},\"hatch_alpha\":{\"value\":1.0},\"hatch_color\":{\"value\":\"yellow\"},\"hatch_scale\":{\"value\":12.0},\"hatch_weight\":{\"value\":1.0},\"line_alpha\":{\"value\":1.0},\"line_cap\":{\"value\":\"butt\"},\"line_color\":{\"value\":\"black\"},\"line_dash\":{\"value\":[]},\"line_dash_offset\":{\"value\":0},\"line_join\":{\"value\":\"bevel\"},\"line_width\":{\"value\":1},\"top\":{\"field\":\"A_2016\"},\"width\":{\"value\":0.8},\"x\":{\"field\":\"index\"}},\"id\":\"8289\",\"type\":\"VBar\"},{\"attributes\":{\"bottom_units\":\"screen\",\"coordinates\":null,\"fill_alpha\":0.5,\"fill_color\":\"lightgrey\",\"group\":null,\"left_units\":\"screen\",\"level\":\"overlay\",\"line_alpha\":1.0,\"line_color\":\"black\",\"line_dash\":[4,4],\"line_width\":2,\"right_units\":\"screen\",\"syncable\":false,\"top_units\":\"screen\"},\"id\":\"8635\",\"type\":\"BoxAnnotation\"},{\"attributes\":{},\"id\":\"8630\",\"type\":\"SaveTool\"},{\"attributes\":{\"children\":[{\"id\":\"8043\"},{\"id\":\"8180\"}],\"margin\":[0,0,0,0],\"name\":\"Column16450\"},\"id\":\"8042\",\"type\":\"Column\"},{\"attributes\":{\"line_color\":\"yellow\",\"line_width\":2,\"x\":{\"field\":\"year\"},\"y\":{\"field\":\"shelter_costs_rented\"}},\"id\":\"8499\",\"type\":\"Line\"},{\"attributes\":{\"coordinates\":null,\"data_source\":{\"id\":\"8281\"},\"glyph\":{\"id\":\"8284\"},\"group\":null,\"hover_glyph\":null,\"muted_glyph\":{\"id\":\"8286\"},\"nonselection_glyph\":{\"id\":\"8285\"},\"selection_glyph\":{\"id\":\"8289\"},\"view\":{\"id\":\"8288\"}},\"id\":\"8287\",\"type\":\"GlyphRenderer\"},{\"attributes\":{},\"id\":\"8631\",\"type\":\"PanTool\"},{\"attributes\":{\"bottom_units\":\"screen\",\"coordinates\":null,\"fill_alpha\":0.5,\"fill_color\":\"lightgrey\",\"group\":null,\"left_units\":\"screen\",\"level\":\"overlay\",\"line_alpha\":1.0,\"line_color\":\"black\",\"line_dash\":[4,4],\"line_width\":2,\"right_units\":\"screen\",\"syncable\":false,\"top_units\":\"screen\"},\"id\":\"8714\",\"type\":\"BoxAnnotation\"},{\"attributes\":{\"bottom_units\":\"screen\",\"coordinates\":null,\"fill_alpha\":0.5,\"fill_color\":\"lightgrey\",\"group\":null,\"left_units\":\"screen\",\"level\":\"overlay\",\"line_alpha\":1.0,\"line_color\":\"black\",\"line_dash\":[4,4],\"line_width\":2,\"right_units\":\"screen\",\"syncable\":false,\"top_units\":\"screen\"},\"id\":\"8273\",\"type\":\"BoxAnnotation\"},{\"attributes\":{},\"id\":\"8634\",\"type\":\"ResetTool\"},{\"attributes\":{\"children\":[{\"id\":\"8322\"},{\"id\":\"8388\"}],\"margin\":[0,0,0,0],\"name\":\"Column16818\"},\"id\":\"8318\",\"type\":\"Column\"},{\"attributes\":{},\"id\":\"8632\",\"type\":\"WheelZoomTool\"},{\"attributes\":{},\"id\":\"8268\",\"type\":\"SaveTool\"},{\"attributes\":{\"children\":[{\"id\":\"8047\"},{\"id\":\"8115\"}],\"margin\":[0,0,0,0],\"name\":\"Row16438\"},\"id\":\"8043\",\"type\":\"Row\"},{\"attributes\":{},\"id\":\"8269\",\"type\":\"PanTool\"},{\"attributes\":{\"overlay\":{\"id\":\"8635\"}},\"id\":\"8633\",\"type\":\"BoxZoomTool\"},{\"attributes\":{},\"id\":\"8272\",\"type\":\"ResetTool\"},{\"attributes\":{\"child\":{\"id\":\"8318\"},\"name\":\"Column16818\",\"title\":\"Average Housing Cost\"},\"id\":\"8527\",\"type\":\"Panel\"},{\"attributes\":{\"callback\":null,\"renderers\":[{\"id\":\"8082\"}],\"tags\":[\"hv_created\"],\"tooltips\":[[\"index\",\"@{index}\"],[\"2001\",\"@{A_2001}\"]]},\"id\":\"8046\",\"type\":\"HoverTool\"},{\"attributes\":{},\"id\":\"8270\",\"type\":\"WheelZoomTool\"},{\"attributes\":{},\"id\":\"8087\",\"type\":\"CategoricalTickFormatter\"},{\"attributes\":{\"overlay\":{\"id\":\"8273\"}},\"id\":\"8271\",\"type\":\"BoxZoomTool\"},{\"attributes\":{},\"id\":\"8503\",\"type\":\"AllLabels\"},{\"attributes\":{\"end\":390509.0,\"reset_end\":390509.0,\"reset_start\":0.0,\"tags\":[[[\"2001\",\"2001\",null]]]},\"id\":\"8045\",\"type\":\"Range1d\"},{\"attributes\":{\"margin\":[5,5,5,5],\"name\":\"VSpacer16891\",\"sizing_mode\":\"stretch_height\"},\"id\":\"8609\",\"type\":\"Spacer\"},{\"attributes\":{},\"id\":\"8423\",\"type\":\"Selection\"},{\"attributes\":{\"children\":[{\"id\":\"8607\"},{\"id\":\"8609\"}],\"margin\":[0,0,0,0],\"name\":\"Column16892\"},\"id\":\"8606\",\"type\":\"Column\"},{\"attributes\":{\"children\":[{\"id\":\"8608\"}],\"css_classes\":[\"panel-widget-box\"],\"margin\":[5,5,5,5],\"name\":\"WidgetBox16886\"},\"id\":\"8607\",\"type\":\"Column\"},{\"attributes\":{\"axis_label\":\"Dwelling Type\",\"coordinates\":null,\"formatter\":{\"id\":\"8087\"},\"group\":null,\"major_label_orientation\":1.5707963267948966,\"major_label_policy\":{\"id\":\"8088\"},\"ticker\":{\"id\":\"8057\"}},\"id\":\"8056\",\"type\":\"CategoricalAxis\"},{\"attributes\":{},\"id\":\"8077\",\"type\":\"Selection\"},{\"attributes\":{\"tools\":[{\"id\":\"8251\"},{\"id\":\"8268\"},{\"id\":\"8269\"},{\"id\":\"8270\"},{\"id\":\"8271\"},{\"id\":\"8272\"}]},\"id\":\"8274\",\"type\":\"Toolbar\"},{\"attributes\":{},\"id\":\"8214\",\"type\":\"Selection\"},{\"attributes\":{},\"id\":\"8296\",\"type\":\"AllLabels\"},{\"attributes\":{\"below\":[{\"id\":\"8543\"}],\"center\":[{\"id\":\"8546\"},{\"id\":\"8550\"}],\"frame_width\":500,\"height\":300,\"left\":[{\"id\":\"8547\"}],\"margin\":[5,5,5,5],\"min_border_bottom\":10,\"min_border_left\":10,\"min_border_right\":10,\"min_border_top\":10,\"renderers\":[{\"id\":\"8570\"}],\"sizing_mode\":\"fixed\",\"title\":{\"id\":\"8535\"},\"toolbar\":{\"id\":\"8557\"},\"width\":null,\"x_range\":{\"id\":\"8319\"},\"x_scale\":{\"id\":\"8539\"},\"y_range\":{\"id\":\"8320\"},\"y_scale\":{\"id\":\"8541\"}},\"id\":\"8534\",\"subtype\":\"Figure\",\"type\":\"Plot\"},{\"attributes\":{\"margin\":[20,20,20,20],\"min_width\":250,\"options\":[\"Agincourt North\",\"Agincourt South-Malvern West\",\"Alderwood\",\"Annex\",\"Banbury-Don Mills\",\"Bathurst Manor\",\"Bay Street Corridor\",\"Bayview Village\",\"Bayview Woods-Steeles\",\"Bedford Park-Nortown\",\"Beechborough-Greenbrook\",\"Bendale\",\"Birchcliffe-Cliffside\",\"Black Creek\",\"Blake-Jones\",\"Briar Hill-Belgravia\",\"Bridle Path-Sunnybrook-York Mills\",\"Broadview North\",\"Brookhaven-Amesbury\",\"Cabbagetown-South St.James Town\",\"Caledonia-Fairbank\",\"Casa Loma\",\"Centennial Scarborough\",\"Church-Yonge Corridor\",\"Clairlea-Birchmount\",\"Clanton Park\",\"Cliffcrest\",\"Corso Italia-Davenport\",\"Danforth\",\"Danforth-East York\",\"Don Valley Village\",\"Dorset Park\",\"Dovercourt-Wallace Emerson-Juncti\",\"Downsview-Roding-CFB\",\"Dufferin Grove\",\"East End-Danforth\",\"Edenbridge-Humber Valley\",\"Eglinton East\",\"Elms-Old Rexdale\",\"Englemount-Lawrence\",\"Eringate-Centennial-West Deane\",\"Etobicoke West Mall\",\"Flemingdon Park\",\"Forest Hill North\",\"Forest Hill South\",\"Glenfield-Jane Heights\",\"Greenwood-Coxwell\",\"Guildwood\",\"Henry Farm\",\"High Park North\",\"High Park-Swansea\",\"Highland Creek\",\"Hillcrest Village\",\"Humber Heights-Westmount\",\"Humber Summit\",\"Humbermede\",\"Humewood-Cedarvale\",\"Ionview\",\"Islington-City Centre West\",\"Junction Area\",\"Keelesdale-Eglinton West\",\"Kennedy Park\",\"Kensington-Chinatown\",\"Kingsview Village-The Westway\",\"Kingsway South\",\"L'Amoreaux\",\"Lambton Baby Point\",\"Lansing-Westgate\",\"Lawrence Park North\",\"Lawrence Park South\",\"Leaside-Bennington\",\"Little Portugal\",\"Long Branch\",\"Malvern\",\"Maple Leaf\",\"Markland Wood\",\"Milliken\",\"Mimico\",\"Morningside\",\"Moss Park\",\"Mount Dennis\",\"Mount Olive-Silverstone-Jamestown\",\"Mount Pleasant East\",\"Mount Pleasant West\",\"New Toronto\",\"Newtonbrook East\",\"Newtonbrook West\",\"Niagara\",\"North Riverdale\",\"North St.James Town\",\"O'Connor-Parkview\",\"Oakridge\",\"Oakwood Village\",\"Old East York\",\"Palmerston-Little Italy\",\"Parkwoods-Donalda\",\"Pelmo Park-Humberlea\",\"Playter Estates-Danforth\",\"Pleasant View\",\"Princess-Rosethorn\",\"Regent Park\",\"Rexdale-Kipling\",\"Rockcliffe-Smythe\",\"Roncesvalles\",\"Rosedale-Moore Park\",\"Rouge\",\"Runnymede-Bloor West Village\",\"Rustic\",\"Scarborough Village\",\"South Parkdale\",\"South Riverdale\",\"St.Andrew-Windfields\",\"Steeles\",\"Stonegate-Queensway\",\"Tam O'Shanter-Sullivan\",\"Taylor-Massey\",\"The Beaches\",\"Thistletown-Beaumond Heights\",\"Thorncliffe Park\",\"Trinity-Bellwoods\",\"University\",\"Victoria Village\",\"Waterfront Communities-The Island\",\"West Hill\",\"West Humber-Clairville\",\"Westminster-Branson\",\"Weston\",\"Weston-Pellam Park\",\"Wexford/Maryvale\",\"Willowdale East\",\"Willowdale West\",\"Willowridge-Martingrove-Richview\",\"Woburn\",\"Woodbine Corridor\",\"Woodbine-Lumsden\",\"Wychwood\",\"Yonge-Eglinton\",\"Yonge-St.Clair\",\"York University Heights\",\"Yorkdale-Glen Park\"],\"title\":\"neighbourhood\",\"value\":\"Agincourt North\",\"width\":250},\"id\":\"8608\",\"type\":\"Select\"},{\"attributes\":{\"coordinates\":null,\"group\":null,\"text\":\"Number of dwellings by type - 2001\",\"text_color\":\"black\",\"text_font_size\":\"12pt\"},\"id\":\"8048\",\"type\":\"Title\"},{\"attributes\":{\"coordinates\":null,\"data_source\":{\"id\":\"8076\"},\"glyph\":{\"id\":\"8079\"},\"group\":null,\"hover_glyph\":null,\"muted_glyph\":{\"id\":\"8081\"},\"nonselection_glyph\":{\"id\":\"8080\"},\"selection_glyph\":{\"id\":\"8084\"},\"view\":{\"id\":\"8083\"}},\"id\":\"8082\",\"type\":\"GlyphRenderer\"},{\"attributes\":{\"format\":\"%.0f\"},\"id\":\"8500\",\"type\":\"PrintfTickFormatter\"},{\"attributes\":{\"callback\":null,\"renderers\":[{\"id\":\"8497\"}],\"tags\":[\"hv_created\"],\"tooltips\":[[\"year\",\"@{year}\"],[\"shelter_costs_rented\",\"@{shelter_costs_rented}\"]]},\"id\":\"8460\",\"type\":\"HoverTool\"},{\"attributes\":{\"source\":{\"id\":\"8076\"}},\"id\":\"8083\",\"type\":\"CDSView\"},{\"attributes\":{\"below\":[{\"id\":\"8056\"}],\"center\":[{\"id\":\"8058\"},{\"id\":\"8062\"}],\"frame_height\":300,\"height\":null,\"left\":[{\"id\":\"8059\"}],\"margin\":[5,5,5,5],\"min_border_bottom\":10,\"min_border_left\":10,\"min_border_right\":10,\"min_border_top\":10,\"renderers\":[{\"id\":\"8082\"}],\"sizing_mode\":\"fixed\",\"title\":{\"id\":\"8048\"},\"toolbar\":{\"id\":\"8069\"},\"width\":700,\"x_range\":{\"id\":\"8044\"},\"x_scale\":{\"id\":\"8052\"},\"y_range\":{\"id\":\"8045\"},\"y_scale\":{\"id\":\"8054\"}},\"id\":\"8047\",\"subtype\":\"Figure\",\"type\":\"Plot\"},{\"attributes\":{},\"id\":\"8576\",\"type\":\"AllLabels\"},{\"attributes\":{},\"id\":\"8433\",\"type\":\"BasicTickFormatter\"},{\"attributes\":{\"data\":{\"average_house_value\":{\"__ndarray__\":\"AAAAACB2CEEAAAAAUOQRQQAAAAAsYRZBAAAAAKwEHEE=\",\"dtype\":\"float64\",\"order\":\"little\",\"shape\":[4]},\"year\":[2001,2006,2011,2016]},\"selected\":{\"id\":\"8565\"},\"selection_policy\":{\"id\":\"8594\"}},\"id\":\"8564\",\"type\":\"ColumnDataSource\"},{\"attributes\":{\"tools\":[{\"id\":\"8692\"},{\"id\":\"8709\"},{\"id\":\"8710\"},{\"id\":\"8711\"},{\"id\":\"8712\"},{\"id\":\"8713\"}]},\"id\":\"8715\",\"type\":\"Toolbar\"},{\"attributes\":{\"source\":{\"id\":\"8722\"}},\"id\":\"8729\",\"type\":\"CDSView\"},{\"attributes\":{\"bottom\":{\"value\":0},\"fill_alpha\":{\"value\":1.0},\"fill_color\":{\"value\":\"#30a2da\"},\"hatch_alpha\":{\"value\":1.0},\"hatch_color\":{\"value\":\"#30a2da\"},\"hatch_scale\":{\"value\":12.0},\"hatch_weight\":{\"value\":1.0},\"line_alpha\":{\"value\":1.0},\"line_cap\":{\"value\":\"butt\"},\"line_color\":{\"value\":\"black\"},\"line_dash\":{\"value\":[]},\"line_dash_offset\":{\"value\":0},\"line_join\":{\"value\":\"bevel\"},\"line_width\":{\"value\":1},\"top\":{\"field\":\"average_house_value\"},\"width\":{\"value\":0.8},\"x\":{\"field\":\"neighbourhood\"}},\"id\":\"8730\",\"type\":\"VBar\"},{\"attributes\":{\"format\":\"%.0f\"},\"id\":\"8431\",\"type\":\"PrintfTickFormatter\"},{\"attributes\":{\"bottom_units\":\"screen\",\"coordinates\":null,\"fill_alpha\":0.5,\"fill_color\":\"lightgrey\",\"group\":null,\"left_units\":\"screen\",\"level\":\"overlay\",\"line_alpha\":1.0,\"line_color\":\"black\",\"line_dash\":[4,4],\"line_width\":2,\"right_units\":\"screen\",\"syncable\":false,\"top_units\":\"screen\"},\"id\":\"8068\",\"type\":\"BoxAnnotation\"},{\"attributes\":{\"format\":\"%.0f\"},\"id\":\"8085\",\"type\":\"PrintfTickFormatter\"},{\"attributes\":{\"axis\":{\"id\":\"8127\"},\"coordinates\":null,\"dimension\":1,\"grid_line_color\":null,\"group\":null,\"ticker\":null},\"id\":\"8130\",\"type\":\"Grid\"},{\"attributes\":{\"tools\":[{\"id\":\"8046\"},{\"id\":\"8063\"},{\"id\":\"8064\"},{\"id\":\"8065\"},{\"id\":\"8066\"},{\"id\":\"8067\"}]},\"id\":\"8069\",\"type\":\"Toolbar\"},{\"attributes\":{},\"id\":\"8437\",\"type\":\"AllLabels\"},{\"attributes\":{},\"id\":\"8292\",\"type\":\"CategoricalTickFormatter\"},{\"attributes\":{\"bottom\":{\"value\":0},\"fill_alpha\":{\"value\":1.0},\"fill_color\":{\"value\":\"red\"},\"hatch_alpha\":{\"value\":1.0},\"hatch_color\":{\"value\":\"red\"},\"hatch_scale\":{\"value\":12.0},\"hatch_weight\":{\"value\":1.0},\"line_alpha\":{\"value\":1.0},\"line_cap\":{\"value\":\"butt\"},\"line_color\":{\"value\":\"black\"},\"line_dash\":{\"value\":[]},\"line_dash_offset\":{\"value\":0},\"line_join\":{\"value\":\"bevel\"},\"line_width\":{\"value\":1},\"top\":{\"field\":\"A_2001\"},\"width\":{\"value\":0.8},\"x\":{\"field\":\"index\"}},\"id\":\"8084\",\"type\":\"VBar\"},{\"attributes\":{},\"id\":\"8159\",\"type\":\"AllLabels\"},{\"attributes\":{},\"id\":\"8088\",\"type\":\"AllLabels\"},{\"attributes\":{\"children\":[{\"id\":\"8035\"}],\"margin\":[0,0,0,0],\"name\":\"Column15958\"},\"id\":\"8034\",\"type\":\"Column\"},{\"attributes\":{\"children\":[{\"id\":\"8038\"},{\"id\":\"8040\"}],\"margin\":[0,0,0,0],\"name\":\"Column15963\"},\"id\":\"8037\",\"type\":\"Column\"},{\"attributes\":{\"data\":{\"shelter_costs_owned\":{\"__ndarray__\":\"UAd1UAd3ikAzMzMzM5OUQG7btm3boJZA1EEd1EGFm0A=\",\"dtype\":\"float64\",\"order\":\"little\",\"shape\":[4]},\"year\":[2001,2006,2011,2016]},\"selected\":{\"id\":\"8423\"},\"selection_policy\":{\"id\":\"8446\"}},\"id\":\"8422\",\"type\":\"ColumnDataSource\"},{\"attributes\":{},\"id\":\"8145\",\"type\":\"Selection\"},{\"attributes\":{\"end\":417323.5,\"reset_end\":417323.5,\"reset_start\":0.0,\"tags\":[[[\"2006\",\"2006\",null]]]},\"id\":\"8113\",\"type\":\"Range1d\"},{\"attributes\":{\"tools\":[{\"id\":\"8114\"},{\"id\":\"8131\"},{\"id\":\"8132\"},{\"id\":\"8133\"},{\"id\":\"8134\"},{\"id\":\"8135\"}]},\"id\":\"8137\",\"type\":\"Toolbar\"},{\"attributes\":{\"children\":[{\"id\":\"8688\"}],\"css_classes\":[\"panel-widget-box\"],\"margin\":[5,5,5,5],\"name\":\"WidgetBox16895\"},\"id\":\"8687\",\"type\":\"Column\"},{\"attributes\":{\"children\":[{\"id\":\"8034\"},{\"id\":\"8036\"}],\"margin\":[0,0,0,0],\"name\":\"Column17038\"},\"id\":\"8033\",\"type\":\"Column\"},{\"attributes\":{},\"id\":\"8579\",\"type\":\"AllLabels\"},{\"attributes\":{\"data\":{\"lat\":[{\"__ndarray__\":\"U/xKrRjnRUArfwi78uRFQGLShJJuzUVAiKL+gvbVRUAuVWmLa95FQG3/DGfl4UVA2X/4VCnURUAcpxHIX+NFQFWFipr95UVAhKk9V6HdRUCIzGRRu9hFQBE36a5T4UVAOpzQVuvYRUC/Y3js5+FFQGUFO9WM1kVAdJqBoXnZRUCGn6zWkd1FQBmI6Wsr2EVAHqN+D8XZRUCgzBZ7ddVFQINmfAQj2EVAvhr77UbXRUBYVMTpJORFQJdFtF9v1EVALWO//lbbRUD+lzEm+d5FQDjN0LJN3EVAIh27l73WRUD5o4cljtdFQMEXiX1A2EVASdu290LkRUCm6w3nL+FFQJ0G0uY01UVAGNQShtzdRUBnHFUT5dNFQFCwewKT10VAC2bplt/VRUBFsLuK1t5FQGYM97pa3EVAvL8PQTTcRUC/NajkOdRFQNNidGmR0kVA4j0HlqPbRUAFvA7NI9pFQPu2WDjm2EVAPX0E/nDfRUAjKwEpGNZFQOrKyqPZ30VAqebm2bTiRUA9uUMWK9RFQDl05XmR0kVActOPGzjlRUDPdyJOyOZFQPibmhWb2EVA7URJSCThRUD3o9GyKN9FQCSyUc5+2EVA0svFayDeRUB4u7lTFdFFQNK9d2l91UVANs/w6sXXRUCyaYQC39xFQARCZ6mn00VABCaqlnjZRUAWD7WOptNFQGHg2gXa5UVAgQrDVybURUB9yAD1i+BFQJAhlZxy3UVAf+fNl83bRUBIcQoCFtpFQN8qFXXi0kVABfoCgtLLRUDEFJtF3uZFQL4VR+2X20VAR3Nk5RfRRUDWllNlDOlFQFfD0ZfWzkVAZDE9oyXkRUDqkvXECNRFQCu+BBsV2EVAvbczXZnfRUATVY2YONpFQK+mgO4q2kVA26xVFuDMRUDu1HULUeVFQEJCUhOW5EVAVMtSwn7RRUAKKeTvA9ZFQAJLSzi21UVAY6w+cHjaRUBCKGurRNlFQAytkOoi2EVAxI7vIDDZRUCOtoVCX9RFQIiEzu+k4EVAhrO2hNfbRUDo3MxsANdFQNDffNG75EVAlz1kJUHVRUBidVifetRFQOLwWQmj3EVAmjORiF/WRUAzn3sotNJFQAHy66hm10VAJ5F1Hx3pRUAVlrLrYtRFQLn39AEW20VAL+rmJIzeRUCz469ef9FFQFGgkQAc00VADsvRqczgRUAW7PEID+hFQLsueKhY0UVAEzGAS9vjRUAjamCz9dhFQPyDUPfk1UVAHZ9eY3beRUAkXK+Gl9pFQDCRHPo400VA2TLPAM3URUCSMtIgP91FQGvj2/0i0UVAalnvHj3iRUCiBKLMq9tFQNbLziaw40VA6Y96mfLZRUDRRVxjRNZFQJX/PTbR30VAO3ZIGKPiRUDqcHwGt+JFQDujlK2B10VA4alPiyTiRUD1G7t+oNZFQNkdWn3Y2EVAUldnSqXWRUCS/uJCM9pFQO50a8IL2EVAsfM+pwPiRUC7XVBbettFQA==\",\"dtype\":\"float64\",\"order\":\"little\",\"shape\":[140]}],\"lon\":[{\"__ndarray__\":\"GObrzxHRU8Chm6LI/9BTwGXg48Cp4lPArp1qJdvZU8AVu4XHYdZTwNBX+wEw3VPA04cuqK/YU8AYHsGuIthTwLud2J502FPAoEhBAeXaU8D8cXetr95TwDbIZj950FPAkB3pRvfQU8CnJfMbaOFTwLWAt92X1VPA39wEhPvcU8C8WlH3P9hTwFK8RqLC1lPASb/55BPfU8AP46BKbtdTwAYW2TEi3VPAPJPsxxzaU8Aw3odqp8lTwHBxO9FB2FPAlLK5KALSU8AbTrI4kNxTwAUZnuoSz1PACZRmVqPcU8BO4t7CG9VTwJG4hbY11VPAbzH9GqLWU8BDObCg2dFTwMIdAw0R3FPAlEH/TmTfU8Dq/0Vl/dtTwCRbRLEo01PAcy+s8m/hU8DAcNfgt89TwAYea4gi41PAaU9ugP7bU8DPusoDJuVTwOWkKH5p5FPA9ZJSEkrVU8AxjZGyZttTwFG2Di+E2lPA7kGlndzgU8DTWV6gwdRTwDtKb8l7zFPAxW0b49bVU8AMjQ7l191TwNjmUp7x3VPAyKV9tVvLU8BcH9YbtdZTwKN5W0Rv4VPAU8rvXZjjU8DYtJQktuJTwMxS/Clf21PANesQKHDRU8BCq7yyxeJTwI3rIRIs3lPAh2SOBizeU8BBGiUaqtBTwBZR0WBs2VPANshFMRDjU8AqhlBKreBTwEy/yPQZ1FPAS0KeNL/fU8DWnA8RL9tTwHgfDcja2VPAlLW4jPzZU8BLEa66bddTwEWLQ2iK21PAG070VCLiU8DabVm2Pc5TwCRMSb3E3lPAp28+GrPkU8CIYAO/mdFTwDQVHD0C4FPAZf6wKUDNU8Am8WbLgddTwLNDHdL/31PASP7cp5XlU8CeLBCYothTwG+0iM0s2VPAI3P6tKngU8Av/hHh+tlTwGwP92ic21PAAo2IGGXaU8AXVfEMe9ZTwEtCOwoE2FPAZUMvivvTU8D7Lc+95tFTwMN2/3El3FPA4JgrpHjVU8B/7Wg1x9pTwGANSKkh1VPAxgMlYM/hU8A6FC55ttZTwJQsistv1VPAHFI1D9riU8CsN4uTEtdTwAfBFRY95FPAUM6rlaTfU8D/RwH9WdxTwK8S4oBM2FPAueQTDe3LU8D7H8PXFd9TwEOEC7vg31PApRAKQuDNU8C472ocHtxTwJeQrE971VPAWGHIJELYU8CKzNinjtRTwGVDDnwS4FPA+jIoBWPTU8D8T0AL8NJTwLRV7qos01PAV5+jPBDkU8CBxachZtZTwGZ2SPeU2lPAUYTU7azZU8DXjZDkJtRTwD5bKBUk2FPAk7X6qE7LU8COYD60KuZTwLZ9l2v03FPA04MnmQHhU8CGaN+idN1TwIlij9wc01PAJfsQ6bHZU8CVCWQbXdtTwE4gkVt441PAyJ41JqHOU8AXgW+iL9RTwLVDcBrq01PAYY0OozvbU8DGSN1r1NlTwMxL9rZ22VPADfug20nfU8DQ2DRCQd1TwA==\",\"dtype\":\"float64\",\"order\":\"little\",\"shape\":[140]}],\"marker.color\":[{\"__ndarray__\":\"AAAAAE4hFEEAAAAAtGUUQQAAAABKHhpBAAAAAMLLJkEAAAAAjq0iQQAAAAAjnR5BAAAAAJbbGUEAAACA9XQgQQAAAABLQSFBAAAAgN5kLEEAAAAAv6MWQQAAAAANYRJBAAAAAAyxGkEAAAAATtcPQQAAAAA0Nx9BAAAAAFJPFkEAAADA1Uo3QQAAAAC1DxtBAAAAAHxrFUEAAAAAeigeQQAAAADJExZBAAAAgJDwLUEAAAAAGwQZQQAAAACWyRhBAAAAAO2jFUEAAACAEtUgQQAAAAA4ehlBAAAAAGqhGUEAAAAA/H8cQQAAAAC9vBlBAAAAAOlKGEEAAAAAgvsPQQAAAAAuiBpBAAAAAJ5HF0EAAAAA0+0bQQAAAACZLR1BAAAAAAVMKEEAAAAAmmoQQQAAAADVYBBBAAAAgNFcIUEAAAAAV0cYQQAAAACQ4hJBAAAAALhdCUEAAAAAwf0pQQAAAIDYPzJBAAAAALf+E0EAAAAAvp8XQQAAAAB2ixZBAAAAAJiUFkEAAAAAIkAgQQAAAICDyiFBAAAAAJosGkEAAAAAPBwYQQAAAAD6aRtBAAAAAEp9FUEAAAAAn4QTQQAAAAD7RSVBAAAAABePEUEAAAAAlZEbQQAAAADVcRpBAAAAAFuzE0EAAAAABogRQQAAAACX4hpBAAAAAKOmFEEAAACAxLspQQAAAICH2CNBAAAAAKeLFEEAAAAAwbYiQQAAAADBLCdBAAAAwIuxMEEAAACAj5woQQAAAABBfCBBAAAAAJmMF0EAAAAAglsPQQAAAAC0qRtBAAAAABsZG0EAAAAAcQ4VQQAAAABKBBhBAAAAAFZlEUEAAAAAwP0YQQAAAACTAhBBAAAAAPLnDkEAAACA9KskQQAAAABXkxxBAAAAABDkGEEAAACAqhMhQQAAAABiHBxBAAAAACSVFkEAAACArnQlQQAAAAD/HBlBAAAAAC81EkEAAAAAxsUZQQAAAADL7RpBAAAAAFYQG0EAAACA3/wiQQAAAADyvxtBAAAAAN2+GEEAAACANs0jQQAAAAD9yRZBAAAAAGVeJ0EAAAAACfYXQQAAAACdCBZBAAAAAPEYFUEAAAAAJRAfQQAAAAAIsDBBAAAAAHv3FkEAAAAAJNkgQQAAAADKTxpBAAAAAK8hFEEAAAAA2k8bQQAAAACyxRtBAAAAAIZ9LkEAAAAAOvMWQQAAAIBAzCBBAAAAABqaFUEAAAAAsDkNQQAAAACEVSRBAAAAAODwFkEAAAAABikPQQAAAICDTyBBAAAAgJneIkEAAAAAFH4VQQAAAAB8ABdBAAAAAJ5fEUEAAAAAWfMUQQAAAAAhUhVBAAAAAJ/MEkEAAAAA6HgVQQAAAAB9QhVBAAAAANagHEEAAAAAW3McQQAAAABYVhxBAAAAACc4EkEAAAAAGy8bQQAAAAD6kxZBAAAAALFFIUEAAACAI7YoQQAAAIBI0ShBAAAAAK6rEkEAAAAANUwaQQ==\",\"dtype\":\"float64\",\"order\":\"little\",\"shape\":[140]}],\"marker.size\":[{\"__ndarray__\":\"AAAAAE4hFEEAAAAAtGUUQQAAAABKHhpBAAAAAMLLJkEAAAAAjq0iQQAAAAAjnR5BAAAAAJbbGUEAAACA9XQgQQAAAABLQSFBAAAAgN5kLEEAAAAAv6MWQQAAAAANYRJBAAAAAAyxGkEAAAAATtcPQQAAAAA0Nx9BAAAAAFJPFkEAAADA1Uo3QQAAAAC1DxtBAAAAAHxrFUEAAAAAeigeQQAAAADJExZBAAAAgJDwLUEAAAAAGwQZQQAAAACWyRhBAAAAAO2jFUEAAACAEtUgQQAAAAA4ehlBAAAAAGqhGUEAAAAA/H8cQQAAAAC9vBlBAAAAAOlKGEEAAAAAgvsPQQAAAAAuiBpBAAAAAJ5HF0EAAAAA0+0bQQAAAACZLR1BAAAAAAVMKEEAAAAAmmoQQQAAAADVYBBBAAAAgNFcIUEAAAAAV0cYQQAAAACQ4hJBAAAAALhdCUEAAAAAwf0pQQAAAIDYPzJBAAAAALf+E0EAAAAAvp8XQQAAAAB2ixZBAAAAAJiUFkEAAAAAIkAgQQAAAICDyiFBAAAAAJosGkEAAAAAPBwYQQAAAAD6aRtBAAAAAEp9FUEAAAAAn4QTQQAAAAD7RSVBAAAAABePEUEAAAAAlZEbQQAAAADVcRpBAAAAAFuzE0EAAAAABogRQQAAAACX4hpBAAAAAKOmFEEAAACAxLspQQAAAICH2CNBAAAAAKeLFEEAAAAAwbYiQQAAAADBLCdBAAAAwIuxMEEAAACAj5woQQAAAABBfCBBAAAAAJmMF0EAAAAAglsPQQAAAAC0qRtBAAAAABsZG0EAAAAAcQ4VQQAAAABKBBhBAAAAAFZlEUEAAAAAwP0YQQAAAACTAhBBAAAAAPLnDkEAAACA9KskQQAAAABXkxxBAAAAABDkGEEAAACAqhMhQQAAAABiHBxBAAAAACSVFkEAAACArnQlQQAAAAD/HBlBAAAAAC81EkEAAAAAxsUZQQAAAADL7RpBAAAAAFYQG0EAAACA3/wiQQAAAADyvxtBAAAAAN2+GEEAAACANs0jQQAAAAD9yRZBAAAAAGVeJ0EAAAAACfYXQQAAAACdCBZBAAAAAPEYFUEAAAAAJRAfQQAAAAAIsDBBAAAAAHv3FkEAAAAAJNkgQQAAAADKTxpBAAAAAK8hFEEAAAAA2k8bQQAAAACyxRtBAAAAAIZ9LkEAAAAAOvMWQQAAAIBAzCBBAAAAABqaFUEAAAAAsDkNQQAAAACEVSRBAAAAAODwFkEAAAAABikPQQAAAICDTyBBAAAAgJneIkEAAAAAFH4VQQAAAAB8ABdBAAAAAJ5fEUEAAAAAWfMUQQAAAAAhUhVBAAAAAJ/MEkEAAAAA6HgVQQAAAAB9QhVBAAAAANagHEEAAAAAW3McQQAAAABYVhxBAAAAACc4EkEAAAAAGy8bQQAAAAD6kxZBAAAAALFFIUEAAACAI7YoQQAAAIBI0ShBAAAAAK6rEkEAAAAANUwaQQ==\",\"dtype\":\"float64\",\"order\":\"little\",\"shape\":[140]}]},\"selected\":{\"id\":\"8762\"},\"selection_policy\":{\"id\":\"8761\"}},\"id\":\"8039\",\"type\":\"ColumnDataSource\"},{\"attributes\":{},\"id\":\"8067\",\"type\":\"ResetTool\"},{\"attributes\":{},\"id\":\"8762\",\"type\":\"Selection\"},{\"attributes\":{\"child\":{\"id\":\"8042\"},\"name\":\"Column16450\",\"title\":\"Yearly Housing Count\"},\"id\":\"8317\",\"type\":\"Panel\"},{\"attributes\":{},\"id\":\"8168\",\"type\":\"UnionRenderers\"},{\"attributes\":{\"callback\":null,\"renderers\":[{\"id\":\"8150\"}],\"tags\":[\"hv_created\"],\"tooltips\":[[\"index\",\"@{index}\"],[\"2006\",\"@{A_2006}\"]]},\"id\":\"8114\",\"type\":\"HoverTool\"},{\"attributes\":{\"bottom_units\":\"screen\",\"coordinates\":null,\"fill_alpha\":0.5,\"fill_color\":\"lightgrey\",\"group\":null,\"left_units\":\"screen\",\"level\":\"overlay\",\"line_alpha\":1.0,\"line_color\":\"black\",\"line_dash\":[4,4],\"line_width\":2,\"right_units\":\"screen\",\"syncable\":false,\"top_units\":\"screen\"},\"id\":\"8136\",\"type\":\"BoxAnnotation\"},{\"attributes\":{\"js_property_callbacks\":{\"change:active\":[{\"id\":\"9221\"}]},\"margin\":[0,0,0,0],\"tabs\":[{\"id\":\"8041\"},{\"id\":\"8317\"},{\"id\":\"8527\"},{\"id\":\"8758\"}]},\"id\":\"8036\",\"type\":\"Tabs\"},{\"attributes\":{},\"id\":\"8594\",\"type\":\"UnionRenderers\"},{\"attributes\":{},\"id\":\"8761\",\"type\":\"UnionRenderers\"},{\"attributes\":{\"margin\":[20,20,20,20],\"min_width\":250,\"options\":[\"Agincourt North\",\"Agincourt South-Malvern West\",\"Alderwood\",\"Annex\",\"Banbury-Don Mills\",\"Bathurst Manor\",\"Bay Street Corridor\",\"Bayview Village\",\"Bayview Woods-Steeles\",\"Bedford Park-Nortown\",\"Beechborough-Greenbrook\",\"Bendale\",\"Birchcliffe-Cliffside\",\"Black Creek\",\"Blake-Jones\",\"Briar Hill-Belgravia\",\"Bridle Path-Sunnybrook-York Mills\",\"Broadview North\",\"Brookhaven-Amesbury\",\"Cabbagetown-South St.James Town\",\"Caledonia-Fairbank\",\"Casa Loma\",\"Centennial Scarborough\",\"Church-Yonge Corridor\",\"Clairlea-Birchmount\",\"Clanton Park\",\"Cliffcrest\",\"Corso Italia-Davenport\",\"Danforth\",\"Danforth-East York\",\"Don Valley Village\",\"Dorset Park\",\"Dovercourt-Wallace Emerson-Juncti\",\"Downsview-Roding-CFB\",\"Dufferin Grove\",\"East End-Danforth\",\"Edenbridge-Humber Valley\",\"Eglinton East\",\"Elms-Old Rexdale\",\"Englemount-Lawrence\",\"Eringate-Centennial-West Deane\",\"Etobicoke West Mall\",\"Flemingdon Park\",\"Forest Hill North\",\"Forest Hill South\",\"Glenfield-Jane Heights\",\"Greenwood-Coxwell\",\"Guildwood\",\"Henry Farm\",\"High Park North\",\"High Park-Swansea\",\"Highland Creek\",\"Hillcrest Village\",\"Humber Heights-Westmount\",\"Humber Summit\",\"Humbermede\",\"Humewood-Cedarvale\",\"Ionview\",\"Islington-City Centre West\",\"Junction Area\",\"Keelesdale-Eglinton West\",\"Kennedy Park\",\"Kensington-Chinatown\",\"Kingsview Village-The Westway\",\"Kingsway South\",\"L'Amoreaux\",\"Lambton Baby Point\",\"Lansing-Westgate\",\"Lawrence Park North\",\"Lawrence Park South\",\"Leaside-Bennington\",\"Little Portugal\",\"Long Branch\",\"Malvern\",\"Maple Leaf\",\"Markland Wood\",\"Milliken\",\"Mimico\",\"Morningside\",\"Moss Park\",\"Mount Dennis\",\"Mount Olive-Silverstone-Jamestown\",\"Mount Pleasant East\",\"Mount Pleasant West\",\"New Toronto\",\"Newtonbrook East\",\"Newtonbrook West\",\"Niagara\",\"North Riverdale\",\"North St.James Town\",\"O'Connor-Parkview\",\"Oakridge\",\"Oakwood Village\",\"Old East York\",\"Palmerston-Little Italy\",\"Parkwoods-Donalda\",\"Pelmo Park-Humberlea\",\"Playter Estates-Danforth\",\"Pleasant View\",\"Princess-Rosethorn\",\"Regent Park\",\"Rexdale-Kipling\",\"Rockcliffe-Smythe\",\"Roncesvalles\",\"Rosedale-Moore Park\",\"Rouge\",\"Runnymede-Bloor West Village\",\"Rustic\",\"Scarborough Village\",\"South Parkdale\",\"South Riverdale\",\"St.Andrew-Windfields\",\"Steeles\",\"Stonegate-Queensway\",\"Tam O'Shanter-Sullivan\",\"Taylor-Massey\",\"The Beaches\",\"Thistletown-Beaumond Heights\",\"Thorncliffe Park\",\"Trinity-Bellwoods\",\"University\",\"Victoria Village\",\"Waterfront Communities-The Island\",\"West Hill\",\"West Humber-Clairville\",\"Westminster-Branson\",\"Weston\",\"Weston-Pellam Park\",\"Wexford/Maryvale\",\"Willowdale East\",\"Willowdale West\",\"Willowridge-Martingrove-Richview\",\"Woburn\",\"Woodbine Corridor\",\"Woodbine-Lumsden\",\"Wychwood\",\"Yonge-Eglinton\",\"Yonge-St.Clair\",\"York University Heights\",\"Yorkdale-Glen Park\"],\"title\":\"neighbourhood\",\"value\":\"Agincourt North\",\"width\":250},\"id\":\"8688\",\"type\":\"Select\"},{\"attributes\":{},\"id\":\"8100\",\"type\":\"UnionRenderers\"},{\"attributes\":{\"child\":{\"id\":\"8037\"},\"name\":\"Column15963\",\"title\":\"Welcome\"},\"id\":\"8041\",\"type\":\"Panel\"},{\"attributes\":{},\"id\":\"8446\",\"type\":\"UnionRenderers\"},{\"attributes\":{\"margin\":[5,5,5,5],\"name\":\"VSpacer16900\",\"sizing_mode\":\"stretch_height\"},\"id\":\"8689\",\"type\":\"Spacer\"},{\"attributes\":{\"format\":\"%.0f\"},\"id\":\"8153\",\"type\":\"PrintfTickFormatter\"},{\"attributes\":{},\"id\":\"8737\",\"type\":\"AllLabels\"},{\"attributes\":{\"children\":[{\"id\":\"8687\"},{\"id\":\"8689\"}],\"margin\":[0,0,0,0],\"name\":\"Column16901\"},\"id\":\"8686\",\"type\":\"Column\"},{\"attributes\":{\"format\":\"%.0f\"},\"id\":\"8731\",\"type\":\"PrintfTickFormatter\"},{\"attributes\":{},\"id\":\"8674\",\"type\":\"UnionRenderers\"},{\"attributes\":{},\"id\":\"8723\",\"type\":\"Selection\"},{\"attributes\":{},\"id\":\"8156\",\"type\":\"AllLabels\"},{\"attributes\":{},\"id\":\"8065\",\"type\":\"WheelZoomTool\"},{\"attributes\":{},\"id\":\"8733\",\"type\":\"CategoricalTickFormatter\"},{\"attributes\":{\"below\":[{\"id\":\"8401\"}],\"center\":[{\"id\":\"8404\"},{\"id\":\"8408\"}],\"frame_width\":500,\"height\":300,\"left\":[{\"id\":\"8405\"}],\"margin\":[5,5,5,5],\"min_border_bottom\":10,\"min_border_left\":10,\"min_border_right\":10,\"min_border_top\":10,\"renderers\":[{\"id\":\"8428\"}],\"sizing_mode\":\"fixed\",\"title\":{\"id\":\"8393\"},\"toolbar\":{\"id\":\"8415\"},\"width\":null,\"x_range\":{\"id\":\"8319\"},\"x_scale\":{\"id\":\"8397\"},\"y_range\":{\"id\":\"8390\"},\"y_scale\":{\"id\":\"8399\"}},\"id\":\"8392\",\"subtype\":\"Figure\",\"type\":\"Plot\"},{\"attributes\":{\"line_alpha\":0.2,\"line_color\":\"blue\",\"line_width\":2,\"x\":{\"field\":\"year\"},\"y\":{\"field\":\"average_house_value\"}},\"id\":\"8357\",\"type\":\"Line\"},{\"attributes\":{\"source\":{\"id\":\"8564\"}},\"id\":\"8571\",\"type\":\"CDSView\"},{\"attributes\":{\"end\":1852.7578571428571,\"reset_end\":1852.7578571428571,\"reset_start\":755.435,\"start\":755.435,\"tags\":[[[\"shelter_costs_owned\",\"shelter_costs_owned\",null]]]},\"id\":\"8390\",\"type\":\"Range1d\"},{\"attributes\":{},\"id\":\"8332\",\"type\":\"BasicTicker\"},{\"attributes\":{\"fill_alpha\":{\"value\":0.2},\"fill_color\":{\"value\":\"green\"},\"hatch_alpha\":{\"value\":0.2},\"hatch_color\":{\"value\":\"green\"},\"line_alpha\":{\"value\":0.2},\"top\":{\"field\":\"A_2011\"},\"width\":{\"value\":0.8},\"x\":{\"field\":\"index\"}},\"id\":\"8218\",\"type\":\"VBar\"},{\"attributes\":{},\"id\":\"8367\",\"type\":\"AllLabels\"},{\"attributes\":{\"coordinates\":null,\"group\":null,\"text\":\"neighbourhood: Agincourt North\",\"text_color\":\"black\",\"text_font_size\":\"12pt\"},\"id\":\"8535\",\"type\":\"Title\"},{\"attributes\":{\"coordinates\":null,\"group\":null,\"text\":\"Number of dwellings by type - 2011\",\"text_color\":\"black\",\"text_font_size\":\"12pt\"},\"id\":\"8185\",\"type\":\"Title\"},{\"attributes\":{\"coordinates\":null,\"data_source\":{\"id\":\"8422\"},\"glyph\":{\"id\":\"8425\"},\"group\":null,\"hover_glyph\":null,\"muted_glyph\":{\"id\":\"8427\"},\"nonselection_glyph\":{\"id\":\"8426\"},\"selection_glyph\":{\"id\":\"8430\"},\"view\":{\"id\":\"8429\"}},\"id\":\"8428\",\"type\":\"GlyphRenderer\"},{\"attributes\":{},\"id\":\"8544\",\"type\":\"BasicTicker\"},{\"attributes\":{\"below\":[{\"id\":\"8331\"}],\"center\":[{\"id\":\"8334\"},{\"id\":\"8338\"}],\"frame_width\":500,\"height\":300,\"left\":[{\"id\":\"8335\"}],\"margin\":[5,5,5,5],\"min_border_bottom\":10,\"min_border_left\":10,\"min_border_right\":10,\"min_border_top\":10,\"renderers\":[{\"id\":\"8358\"}],\"sizing_mode\":\"fixed\",\"title\":{\"id\":\"8323\"},\"toolbar\":{\"id\":\"8345\"},\"width\":null,\"x_range\":{\"id\":\"8319\"},\"x_scale\":{\"id\":\"8327\"},\"y_range\":{\"id\":\"8320\"},\"y_scale\":{\"id\":\"8329\"}},\"id\":\"8322\",\"subtype\":\"Figure\",\"type\":\"Plot\"},{\"attributes\":{\"coordinates\":null,\"group\":null,\"text\":\"Average House Value in Toronto\",\"text_color\":\"black\",\"text_font_size\":\"12pt\"},\"id\":\"8323\",\"type\":\"Title\"},{\"attributes\":{},\"id\":\"8434\",\"type\":\"AllLabels\"},{\"attributes\":{\"line_alpha\":0.2,\"line_color\":\"blue\",\"line_width\":2,\"x\":{\"field\":\"year\"},\"y\":{\"field\":\"average_house_value\"}},\"id\":\"8569\",\"type\":\"Line\"},{\"attributes\":{\"axis_label\":\"Dwelling Type\",\"coordinates\":null,\"formatter\":{\"id\":\"8224\"},\"group\":null,\"major_label_orientation\":1.5707963267948966,\"major_label_policy\":{\"id\":\"8225\"},\"ticker\":{\"id\":\"8194\"}},\"id\":\"8193\",\"type\":\"CategoricalAxis\"},{\"attributes\":{},\"id\":\"8336\",\"type\":\"BasicTicker\"},{\"attributes\":{\"coordinates\":null,\"group\":null,\"text\":\"Average Monthly Shelter Cost for Owned Dwellings in Toronto\",\"text_color\":\"black\",\"text_font_size\":\"12pt\"},\"id\":\"8393\",\"type\":\"Title\"},{\"attributes\":{},\"id\":\"8327\",\"type\":\"LinearScale\"},{\"attributes\":{\"line_alpha\":0.1,\"line_color\":\"blue\",\"line_width\":2,\"x\":{\"field\":\"year\"},\"y\":{\"field\":\"average_house_value\"}},\"id\":\"8568\",\"type\":\"Line\"},{\"attributes\":{},\"id\":\"8225\",\"type\":\"AllLabels\"},{\"attributes\":{\"line_alpha\":0.2,\"line_color\":\"blue\",\"line_width\":2,\"x\":{\"field\":\"year\"},\"y\":{\"field\":\"shelter_costs_owned\"}},\"id\":\"8427\",\"type\":\"Line\"},{\"attributes\":{\"source\":{\"id\":\"8422\"}},\"id\":\"8429\",\"type\":\"CDSView\"},{\"attributes\":{\"axis\":{\"id\":\"8331\"},\"coordinates\":null,\"grid_line_color\":null,\"group\":null,\"ticker\":null},\"id\":\"8334\",\"type\":\"Grid\"},{\"attributes\":{},\"id\":\"8548\",\"type\":\"BasicTicker\"},{\"attributes\":{\"source\":{\"id\":\"8213\"}},\"id\":\"8220\",\"type\":\"CDSView\"},{\"attributes\":{},\"id\":\"8064\",\"type\":\"PanTool\"},{\"attributes\":{},\"id\":\"8539\",\"type\":\"LinearScale\"},{\"attributes\":{},\"id\":\"8329\",\"type\":\"LinearScale\"},{\"attributes\":{\"axis_label\":\"Avg House Value\",\"coordinates\":null,\"formatter\":{\"id\":\"8361\"},\"group\":null,\"major_label_policy\":{\"id\":\"8367\"},\"ticker\":{\"id\":\"8336\"}},\"id\":\"8335\",\"type\":\"LinearAxis\"},{\"attributes\":{\"axis\":{\"id\":\"8543\"},\"coordinates\":null,\"grid_line_color\":null,\"group\":null,\"ticker\":null},\"id\":\"8546\",\"type\":\"Grid\"},{\"attributes\":{\"axis\":{\"id\":\"8193\"},\"coordinates\":null,\"grid_line_color\":null,\"group\":null,\"ticker\":null},\"id\":\"8195\",\"type\":\"Grid\"},{\"attributes\":{\"axis_label\":\"Year\",\"coordinates\":null,\"formatter\":{\"id\":\"8363\"},\"group\":null,\"major_label_policy\":{\"id\":\"8364\"},\"ticker\":{\"id\":\"8332\"}},\"id\":\"8331\",\"type\":\"LinearAxis\"},{\"attributes\":{},\"id\":\"8189\",\"type\":\"CategoricalScale\"},{\"attributes\":{},\"id\":\"8402\",\"type\":\"BasicTicker\"},{\"attributes\":{},\"id\":\"8541\",\"type\":\"LinearScale\"},{\"attributes\":{\"axis_label\":\"Avg House Value\",\"coordinates\":null,\"formatter\":{\"id\":\"8573\"},\"group\":null,\"major_label_policy\":{\"id\":\"8579\"},\"ticker\":{\"id\":\"8548\"}},\"id\":\"8547\",\"type\":\"LinearAxis\"},{\"attributes\":{\"axis\":{\"id\":\"8335\"},\"coordinates\":null,\"dimension\":1,\"grid_line_color\":null,\"group\":null,\"ticker\":null},\"id\":\"8338\",\"type\":\"Grid\"},{\"attributes\":{\"axis_label\":\"Year\",\"coordinates\":null,\"formatter\":{\"id\":\"8575\"},\"group\":null,\"major_label_policy\":{\"id\":\"8576\"},\"ticker\":{\"id\":\"8544\"}},\"id\":\"8543\",\"type\":\"LinearAxis\"},{\"attributes\":{\"source\":{\"id\":\"8352\"}},\"id\":\"8359\",\"type\":\"CDSView\"},{\"attributes\":{},\"id\":\"8191\",\"type\":\"LinearScale\"},{\"attributes\":{},\"id\":\"8406\",\"type\":\"BasicTicker\"},{\"attributes\":{},\"id\":\"8397\",\"type\":\"LinearScale\"},{\"attributes\":{},\"id\":\"8197\",\"type\":\"BasicTicker\"},{\"attributes\":{},\"id\":\"8194\",\"type\":\"CategoricalTicker\"},{\"attributes\":{\"data\":{\"average_house_value\":{\"__ndarray__\":\"i6/4imuxEUGogzqo7uEZQfEVX3HxLyBBqIM6qAhEJEE=\",\"dtype\":\"float64\",\"order\":\"little\",\"shape\":[4]},\"year\":[2001,2006,2011,2016]},\"selected\":{\"id\":\"8353\"},\"selection_policy\":{\"id\":\"8376\"}},\"id\":\"8352\",\"type\":\"ColumnDataSource\"},{\"attributes\":{\"axis\":{\"id\":\"8547\"},\"coordinates\":null,\"dimension\":1,\"grid_line_color\":null,\"group\":null,\"ticker\":null},\"id\":\"8550\",\"type\":\"Grid\"},{\"attributes\":{\"axis\":{\"id\":\"8401\"},\"coordinates\":null,\"grid_line_color\":null,\"group\":null,\"ticker\":null},\"id\":\"8404\",\"type\":\"Grid\"},{\"attributes\":{\"line_color\":\"blue\",\"line_width\":2,\"x\":{\"field\":\"year\"},\"y\":{\"field\":\"average_house_value\"}},\"id\":\"8567\",\"type\":\"Line\"},{\"attributes\":{\"below\":[{\"id\":\"8261\"}],\"center\":[{\"id\":\"8263\"},{\"id\":\"8267\"}],\"frame_height\":300,\"height\":null,\"left\":[{\"id\":\"8264\"}],\"margin\":[5,5,5,5],\"min_border_bottom\":10,\"min_border_left\":10,\"min_border_right\":10,\"min_border_top\":10,\"renderers\":[{\"id\":\"8287\"}],\"sizing_mode\":\"fixed\",\"title\":{\"id\":\"8253\"},\"toolbar\":{\"id\":\"8274\"},\"width\":700,\"x_range\":{\"id\":\"8044\"},\"x_scale\":{\"id\":\"8257\"},\"y_range\":{\"id\":\"8250\"},\"y_scale\":{\"id\":\"8259\"}},\"id\":\"8252\",\"subtype\":\"Figure\",\"type\":\"Plot\"},{\"attributes\":{\"axis_label\":\"Number of Dwellings\",\"coordinates\":null,\"formatter\":{\"id\":\"8222\"},\"group\":null,\"major_label_policy\":{\"id\":\"8228\"},\"ticker\":{\"id\":\"8197\"}},\"id\":\"8196\",\"type\":\"LinearAxis\"},{\"attributes\":{\"coordinates\":null,\"data_source\":{\"id\":\"8352\"},\"glyph\":{\"id\":\"8355\"},\"group\":null,\"hover_glyph\":null,\"muted_glyph\":{\"id\":\"8357\"},\"nonselection_glyph\":{\"id\":\"8356\"},\"selection_glyph\":{\"id\":\"8360\"},\"view\":{\"id\":\"8359\"}},\"id\":\"8358\",\"type\":\"GlyphRenderer\"},{\"attributes\":{\"axis\":{\"id\":\"8059\"},\"coordinates\":null,\"dimension\":1,\"grid_line_color\":null,\"group\":null,\"ticker\":null},\"id\":\"8062\",\"type\":\"Grid\"},{\"attributes\":{\"factors\":[\"single_detached_house\",\"apartment_five_storeys_plus\",\"movable_dwelling\",\"semi_detached_house\",\"row_house\",\"duplex\",\"apartment_five_storeys_less\",\"other_house\"],\"tags\":[[[\"index\",\"index\",null]]]},\"id\":\"8044\",\"type\":\"FactorRange\"},{\"attributes\":{\"axis\":{\"id\":\"8196\"},\"coordinates\":null,\"dimension\":1,\"grid_line_color\":null,\"group\":null,\"ticker\":null},\"id\":\"8199\",\"type\":\"Grid\"},{\"attributes\":{},\"id\":\"8399\",\"type\":\"LinearScale\"},{\"attributes\":{\"line_color\":\"blue\",\"line_width\":2,\"x\":{\"field\":\"year\"},\"y\":{\"field\":\"average_house_value\"}},\"id\":\"8360\",\"type\":\"Line\"},{\"attributes\":{\"axis_label\":\"Avg Monthly Shelter Costs\",\"coordinates\":null,\"formatter\":{\"id\":\"8431\"},\"group\":null,\"major_label_policy\":{\"id\":\"8437\"},\"ticker\":{\"id\":\"8406\"}},\"id\":\"8405\",\"type\":\"LinearAxis\"},{\"attributes\":{\"fill_color\":{\"value\":\"green\"},\"hatch_color\":{\"value\":\"green\"},\"top\":{\"field\":\"A_2011\"},\"width\":{\"value\":0.8},\"x\":{\"field\":\"index\"}},\"id\":\"8216\",\"type\":\"VBar\"},{\"attributes\":{\"tools\":[{\"id\":\"8321\"},{\"id\":\"8339\"},{\"id\":\"8340\"},{\"id\":\"8341\"},{\"id\":\"8342\"},{\"id\":\"8343\"}]},\"id\":\"8345\",\"type\":\"Toolbar\"},{\"attributes\":{\"axis_label\":\"Year\",\"coordinates\":null,\"formatter\":{\"id\":\"8433\"},\"group\":null,\"major_label_policy\":{\"id\":\"8434\"},\"ticker\":{\"id\":\"8402\"}},\"id\":\"8401\",\"type\":\"LinearAxis\"},{\"attributes\":{\"child\":{\"id\":\"8528\"},\"name\":\"Row17036\",\"title\":\"Neighbourhood Analysis\"},\"id\":\"8758\",\"type\":\"Panel\"},{\"attributes\":{\"overlay\":{\"id\":\"8068\"}},\"id\":\"8066\",\"type\":\"BoxZoomTool\"},{\"attributes\":{\"bottom_units\":\"screen\",\"coordinates\":null,\"fill_alpha\":0.5,\"fill_color\":\"lightgrey\",\"group\":null,\"left_units\":\"screen\",\"level\":\"overlay\",\"line_alpha\":1.0,\"line_color\":\"black\",\"line_dash\":[4,4],\"line_width\":2,\"right_units\":\"screen\",\"syncable\":false,\"top_units\":\"screen\"},\"id\":\"8344\",\"type\":\"BoxAnnotation\"},{\"attributes\":{\"fill_alpha\":{\"value\":0.1},\"fill_color\":{\"value\":\"green\"},\"hatch_alpha\":{\"value\":0.1},\"hatch_color\":{\"value\":\"green\"},\"line_alpha\":{\"value\":0.1},\"top\":{\"field\":\"A_2011\"},\"width\":{\"value\":0.8},\"x\":{\"field\":\"index\"}},\"id\":\"8217\",\"type\":\"VBar\"},{\"attributes\":{\"coordinates\":null,\"data_source\":{\"id\":\"8564\"},\"glyph\":{\"id\":\"8567\"},\"group\":null,\"hover_glyph\":null,\"muted_glyph\":{\"id\":\"8569\"},\"nonselection_glyph\":{\"id\":\"8568\"},\"selection_glyph\":{\"id\":\"8572\"},\"view\":{\"id\":\"8571\"}},\"id\":\"8570\",\"type\":\"GlyphRenderer\"},{\"attributes\":{},\"id\":\"8339\",\"type\":\"SaveTool\"},{\"attributes\":{},\"id\":\"8340\",\"type\":\"PanTool\"},{\"attributes\":{},\"id\":\"8376\",\"type\":\"UnionRenderers\"},{\"attributes\":{\"callback\":null,\"renderers\":[{\"id\":\"8428\"}],\"tags\":[\"hv_created\"],\"tooltips\":[[\"year\",\"@{year}\"],[\"shelter_costs_owned\",\"@{shelter_costs_owned}\"]]},\"id\":\"8391\",\"type\":\"HoverTool\"},{\"attributes\":{},\"id\":\"8343\",\"type\":\"ResetTool\"},{\"attributes\":{\"tools\":[{\"id\":\"8533\"},{\"id\":\"8551\"},{\"id\":\"8552\"},{\"id\":\"8553\"},{\"id\":\"8554\"},{\"id\":\"8555\"}]},\"id\":\"8557\",\"type\":\"Toolbar\"},{\"attributes\":{\"axis\":{\"id\":\"8405\"},\"coordinates\":null,\"dimension\":1,\"grid_line_color\":null,\"group\":null,\"ticker\":null},\"id\":\"8408\",\"type\":\"Grid\"},{\"attributes\":{\"bottom\":{\"value\":0},\"fill_alpha\":{\"value\":1.0},\"fill_color\":{\"value\":\"green\"},\"hatch_alpha\":{\"value\":1.0},\"hatch_color\":{\"value\":\"green\"},\"hatch_scale\":{\"value\":12.0},\"hatch_weight\":{\"value\":1.0},\"line_alpha\":{\"value\":1.0},\"line_cap\":{\"value\":\"butt\"},\"line_color\":{\"value\":\"black\"},\"line_dash\":{\"value\":[]},\"line_dash_offset\":{\"value\":0},\"line_join\":{\"value\":\"bevel\"},\"line_width\":{\"value\":1},\"top\":{\"field\":\"A_2011\"},\"width\":{\"value\":0.8},\"x\":{\"field\":\"index\"}},\"id\":\"8221\",\"type\":\"VBar\"},{\"attributes\":{},\"id\":\"8341\",\"type\":\"WheelZoomTool\"},{\"attributes\":{\"bottom_units\":\"screen\",\"coordinates\":null,\"fill_alpha\":0.5,\"fill_color\":\"lightgrey\",\"group\":null,\"left_units\":\"screen\",\"level\":\"overlay\",\"line_alpha\":1.0,\"line_color\":\"black\",\"line_dash\":[4,4],\"line_width\":2,\"right_units\":\"screen\",\"syncable\":false,\"top_units\":\"screen\"},\"id\":\"8556\",\"type\":\"BoxAnnotation\"},{\"attributes\":{\"callback\":null,\"renderers\":[{\"id\":\"8358\"}],\"tags\":[\"hv_created\"],\"tooltips\":[[\"year\",\"@{year}\"],[\"average_house_value\",\"@{average_house_value}\"]]},\"id\":\"8321\",\"type\":\"HoverTool\"},{\"attributes\":{\"line_alpha\":0.1,\"line_color\":\"blue\",\"line_width\":2,\"x\":{\"field\":\"year\"},\"y\":{\"field\":\"shelter_costs_owned\"}},\"id\":\"8426\",\"type\":\"Line\"},{\"attributes\":{},\"id\":\"8091\",\"type\":\"AllLabels\"},{\"attributes\":{},\"id\":\"8551\",\"type\":\"SaveTool\"},{\"attributes\":{\"coordinates\":null,\"data_source\":{\"id\":\"8213\"},\"glyph\":{\"id\":\"8216\"},\"group\":null,\"hover_glyph\":null,\"muted_glyph\":{\"id\":\"8218\"},\"nonselection_glyph\":{\"id\":\"8217\"},\"selection_glyph\":{\"id\":\"8221\"},\"view\":{\"id\":\"8220\"}},\"id\":\"8219\",\"type\":\"GlyphRenderer\"},{\"attributes\":{\"overlay\":{\"id\":\"8344\"}},\"id\":\"8342\",\"type\":\"BoxZoomTool\"},{\"attributes\":{},\"id\":\"8552\",\"type\":\"PanTool\"},{\"attributes\":{\"tools\":[{\"id\":\"8183\"},{\"id\":\"8200\"},{\"id\":\"8201\"},{\"id\":\"8202\"},{\"id\":\"8203\"},{\"id\":\"8204\"}]},\"id\":\"8206\",\"type\":\"Toolbar\"},{\"attributes\":{\"line_color\":\"blue\",\"line_width\":2,\"x\":{\"field\":\"year\"},\"y\":{\"field\":\"shelter_costs_owned\"}},\"id\":\"8425\",\"type\":\"Line\"},{\"attributes\":{},\"id\":\"8555\",\"type\":\"ResetTool\"},{\"attributes\":{\"bottom_units\":\"screen\",\"coordinates\":null,\"fill_alpha\":0.5,\"fill_color\":\"lightgrey\",\"group\":null,\"left_units\":\"screen\",\"level\":\"overlay\",\"line_alpha\":1.0,\"line_color\":\"black\",\"line_dash\":[4,4],\"line_width\":2,\"right_units\":\"screen\",\"syncable\":false,\"top_units\":\"screen\"},\"id\":\"8205\",\"type\":\"BoxAnnotation\"},{\"attributes\":{},\"id\":\"8553\",\"type\":\"WheelZoomTool\"},{\"attributes\":{},\"id\":\"8200\",\"type\":\"SaveTool\"},{\"attributes\":{\"data\":[{\"hovertemplate\":\"average_house_value=%{marker.color}<br>lat=%{lat}<br>lon=%{lon}<extra></extra>\",\"legendgroup\":\"\",\"marker\":{\"coloraxis\":\"coloraxis\",\"sizemode\":\"area\",\"sizeref\":3816.214375},\"mode\":\"markers\",\"name\":\"\",\"showlegend\":false,\"subplot\":\"mapbox\",\"type\":\"scattermapbox\"}],\"data_sources\":[{\"id\":\"8039\"}],\"layout\":{\"coloraxis\":{\"colorbar\":{\"title\":{\"text\":\"average_house_value\"}},\"colorscale\":[[0.0,\"#0d0887\"],[0.1111111111111111,\"#46039f\"],[0.2222222222222222,\"#7201a8\"],[0.3333333333333333,\"#9c179e\"],[0.4444444444444444,\"#bd3786\"],[0.5555555555555556,\"#d8576b\"],[0.6666666666666666,\"#ed7953\"],[0.7777777777777778,\"#fb9f3a\"],[0.8888888888888888,\"#fdca26\"],[1.0,\"#f0f921\"]]},\"legend\":{\"itemsizing\":\"constant\",\"tracegroupgap\":0},\"mapbox\":{\"accesstoken\":\"pk.eyJ1IjoiYmVsbHlmbG9wIiwiYSI6ImNreXowaDI3bjB2dDIybnFrOXR0bTl2YTQifQ.Grtljl_gDcKPV_JFMvJ78Q\",\"center\":{\"lat\":43.708840577642846,\"lon\":-79.4001855035},\"domain\":{\"x\":[0.0,1.0],\"y\":[0.0,1.0]},\"zoom\":8},\"margin\":{\"t\":60},\"template\":{\"data\":{\"bar\":[{\"error_x\":{\"color\":\"#2a3f5f\"},\"error_y\":{\"color\":\"#2a3f5f\"},\"marker\":{\"line\":{\"color\":\"#E5ECF6\",\"width\":0.5},\"pattern\":{\"fillmode\":\"overlay\",\"size\":10,\"solidity\":0.2}},\"type\":\"bar\"}],\"barpolar\":[{\"marker\":{\"line\":{\"color\":\"#E5ECF6\",\"width\":0.5},\"pattern\":{\"fillmode\":\"overlay\",\"size\":10,\"solidity\":0.2}},\"type\":\"barpolar\"}],\"carpet\":[{\"aaxis\":{\"endlinecolor\":\"#2a3f5f\",\"gridcolor\":\"white\",\"linecolor\":\"white\",\"minorgridcolor\":\"white\",\"startlinecolor\":\"#2a3f5f\"},\"baxis\":{\"endlinecolor\":\"#2a3f5f\",\"gridcolor\":\"white\",\"linecolor\":\"white\",\"minorgridcolor\":\"white\",\"startlinecolor\":\"#2a3f5f\"},\"type\":\"carpet\"}],\"choropleth\":[{\"colorbar\":{\"outlinewidth\":0,\"ticks\":\"\"},\"type\":\"choropleth\"}],\"contour\":[{\"colorbar\":{\"outlinewidth\":0,\"ticks\":\"\"},\"colorscale\":[[0.0,\"#0d0887\"],[0.1111111111111111,\"#46039f\"],[0.2222222222222222,\"#7201a8\"],[0.3333333333333333,\"#9c179e\"],[0.4444444444444444,\"#bd3786\"],[0.5555555555555556,\"#d8576b\"],[0.6666666666666666,\"#ed7953\"],[0.7777777777777778,\"#fb9f3a\"],[0.8888888888888888,\"#fdca26\"],[1.0,\"#f0f921\"]],\"type\":\"contour\"}],\"contourcarpet\":[{\"colorbar\":{\"outlinewidth\":0,\"ticks\":\"\"},\"type\":\"contourcarpet\"}],\"heatmap\":[{\"colorbar\":{\"outlinewidth\":0,\"ticks\":\"\"},\"colorscale\":[[0.0,\"#0d0887\"],[0.1111111111111111,\"#46039f\"],[0.2222222222222222,\"#7201a8\"],[0.3333333333333333,\"#9c179e\"],[0.4444444444444444,\"#bd3786\"],[0.5555555555555556,\"#d8576b\"],[0.6666666666666666,\"#ed7953\"],[0.7777777777777778,\"#fb9f3a\"],[0.8888888888888888,\"#fdca26\"],[1.0,\"#f0f921\"]],\"type\":\"heatmap\"}],\"heatmapgl\":[{\"colorbar\":{\"outlinewidth\":0,\"ticks\":\"\"},\"colorscale\":[[0.0,\"#0d0887\"],[0.1111111111111111,\"#46039f\"],[0.2222222222222222,\"#7201a8\"],[0.3333333333333333,\"#9c179e\"],[0.4444444444444444,\"#bd3786\"],[0.5555555555555556,\"#d8576b\"],[0.6666666666666666,\"#ed7953\"],[0.7777777777777778,\"#fb9f3a\"],[0.8888888888888888,\"#fdca26\"],[1.0,\"#f0f921\"]],\"type\":\"heatmapgl\"}],\"histogram\":[{\"marker\":{\"pattern\":{\"fillmode\":\"overlay\",\"size\":10,\"solidity\":0.2}},\"type\":\"histogram\"}],\"histogram2d\":[{\"colorbar\":{\"outlinewidth\":0,\"ticks\":\"\"},\"colorscale\":[[0.0,\"#0d0887\"],[0.1111111111111111,\"#46039f\"],[0.2222222222222222,\"#7201a8\"],[0.3333333333333333,\"#9c179e\"],[0.4444444444444444,\"#bd3786\"],[0.5555555555555556,\"#d8576b\"],[0.6666666666666666,\"#ed7953\"],[0.7777777777777778,\"#fb9f3a\"],[0.8888888888888888,\"#fdca26\"],[1.0,\"#f0f921\"]],\"type\":\"histogram2d\"}],\"histogram2dcontour\":[{\"colorbar\":{\"outlinewidth\":0,\"ticks\":\"\"},\"colorscale\":[[0.0,\"#0d0887\"],[0.1111111111111111,\"#46039f\"],[0.2222222222222222,\"#7201a8\"],[0.3333333333333333,\"#9c179e\"],[0.4444444444444444,\"#bd3786\"],[0.5555555555555556,\"#d8576b\"],[0.6666666666666666,\"#ed7953\"],[0.7777777777777778,\"#fb9f3a\"],[0.8888888888888888,\"#fdca26\"],[1.0,\"#f0f921\"]],\"type\":\"histogram2dcontour\"}],\"mesh3d\":[{\"colorbar\":{\"outlinewidth\":0,\"ticks\":\"\"},\"type\":\"mesh3d\"}],\"parcoords\":[{\"line\":{\"colorbar\":{\"outlinewidth\":0,\"ticks\":\"\"}},\"type\":\"parcoords\"}],\"pie\":[{\"automargin\":true,\"type\":\"pie\"}],\"scatter\":[{\"marker\":{\"colorbar\":{\"outlinewidth\":0,\"ticks\":\"\"}},\"type\":\"scatter\"}],\"scatter3d\":[{\"line\":{\"colorbar\":{\"outlinewidth\":0,\"ticks\":\"\"}},\"marker\":{\"colorbar\":{\"outlinewidth\":0,\"ticks\":\"\"}},\"type\":\"scatter3d\"}],\"scattercarpet\":[{\"marker\":{\"colorbar\":{\"outlinewidth\":0,\"ticks\":\"\"}},\"type\":\"scattercarpet\"}],\"scattergeo\":[{\"marker\":{\"colorbar\":{\"outlinewidth\":0,\"ticks\":\"\"}},\"type\":\"scattergeo\"}],\"scattergl\":[{\"marker\":{\"colorbar\":{\"outlinewidth\":0,\"ticks\":\"\"}},\"type\":\"scattergl\"}],\"scattermapbox\":[{\"marker\":{\"colorbar\":{\"outlinewidth\":0,\"ticks\":\"\"}},\"type\":\"scattermapbox\"}],\"scatterpolar\":[{\"marker\":{\"colorbar\":{\"outlinewidth\":0,\"ticks\":\"\"}},\"type\":\"scatterpolar\"}],\"scatterpolargl\":[{\"marker\":{\"colorbar\":{\"outlinewidth\":0,\"ticks\":\"\"}},\"type\":\"scatterpolargl\"}],\"scatterternary\":[{\"marker\":{\"colorbar\":{\"outlinewidth\":0,\"ticks\":\"\"}},\"type\":\"scatterternary\"}],\"surface\":[{\"colorbar\":{\"outlinewidth\":0,\"ticks\":\"\"},\"colorscale\":[[0.0,\"#0d0887\"],[0.1111111111111111,\"#46039f\"],[0.2222222222222222,\"#7201a8\"],[0.3333333333333333,\"#9c179e\"],[0.4444444444444444,\"#bd3786\"],[0.5555555555555556,\"#d8576b\"],[0.6666666666666666,\"#ed7953\"],[0.7777777777777778,\"#fb9f3a\"],[0.8888888888888888,\"#fdca26\"],[1.0,\"#f0f921\"]],\"type\":\"surface\"}],\"table\":[{\"cells\":{\"fill\":{\"color\":\"#EBF0F8\"},\"line\":{\"color\":\"white\"}},\"header\":{\"fill\":{\"color\":\"#C8D4E3\"},\"line\":{\"color\":\"white\"}},\"type\":\"table\"}]},\"layout\":{\"annotationdefaults\":{\"arrowcolor\":\"#2a3f5f\",\"arrowhead\":0,\"arrowwidth\":1},\"autotypenumbers\":\"strict\",\"coloraxis\":{\"colorbar\":{\"outlinewidth\":0,\"ticks\":\"\"}},\"colorscale\":{\"diverging\":[[0,\"#8e0152\"],[0.1,\"#c51b7d\"],[0.2,\"#de77ae\"],[0.3,\"#f1b6da\"],[0.4,\"#fde0ef\"],[0.5,\"#f7f7f7\"],[0.6,\"#e6f5d0\"],[0.7,\"#b8e186\"],[0.8,\"#7fbc41\"],[0.9,\"#4d9221\"],[1,\"#276419\"]],\"sequential\":[[0.0,\"#0d0887\"],[0.1111111111111111,\"#46039f\"],[0.2222222222222222,\"#7201a8\"],[0.3333333333333333,\"#9c179e\"],[0.4444444444444444,\"#bd3786\"],[0.5555555555555556,\"#d8576b\"],[0.6666666666666666,\"#ed7953\"],[0.7777777777777778,\"#fb9f3a\"],[0.8888888888888888,\"#fdca26\"],[1.0,\"#f0f921\"]],\"sequentialminus\":[[0.0,\"#0d0887\"],[0.1111111111111111,\"#46039f\"],[0.2222222222222222,\"#7201a8\"],[0.3333333333333333,\"#9c179e\"],[0.4444444444444444,\"#bd3786\"],[0.5555555555555556,\"#d8576b\"],[0.6666666666666666,\"#ed7953\"],[0.7777777777777778,\"#fb9f3a\"],[0.8888888888888888,\"#fdca26\"],[1.0,\"#f0f921\"]]},\"colorway\":[\"#636efa\",\"#EF553B\",\"#00cc96\",\"#ab63fa\",\"#FFA15A\",\"#19d3f3\",\"#FF6692\",\"#B6E880\",\"#FF97FF\",\"#FECB52\"],\"font\":{\"color\":\"#2a3f5f\"},\"geo\":{\"bgcolor\":\"white\",\"lakecolor\":\"white\",\"landcolor\":\"#E5ECF6\",\"showlakes\":true,\"showland\":true,\"subunitcolor\":\"white\"},\"hoverlabel\":{\"align\":\"left\"},\"hovermode\":\"closest\",\"mapbox\":{\"style\":\"light\"},\"paper_bgcolor\":\"white\",\"plot_bgcolor\":\"#E5ECF6\",\"polar\":{\"angularaxis\":{\"gridcolor\":\"white\",\"linecolor\":\"white\",\"ticks\":\"\"},\"bgcolor\":\"#E5ECF6\",\"radialaxis\":{\"gridcolor\":\"white\",\"linecolor\":\"white\",\"ticks\":\"\"}},\"scene\":{\"xaxis\":{\"backgroundcolor\":\"#E5ECF6\",\"gridcolor\":\"white\",\"gridwidth\":2,\"linecolor\":\"white\",\"showbackground\":true,\"ticks\":\"\",\"zerolinecolor\":\"white\"},\"yaxis\":{\"backgroundcolor\":\"#E5ECF6\",\"gridcolor\":\"white\",\"gridwidth\":2,\"linecolor\":\"white\",\"showbackground\":true,\"ticks\":\"\",\"zerolinecolor\":\"white\"},\"zaxis\":{\"backgroundcolor\":\"#E5ECF6\",\"gridcolor\":\"white\",\"gridwidth\":2,\"linecolor\":\"white\",\"showbackground\":true,\"ticks\":\"\",\"zerolinecolor\":\"white\"}},\"shapedefaults\":{\"line\":{\"color\":\"#2a3f5f\"}},\"ternary\":{\"aaxis\":{\"gridcolor\":\"white\",\"linecolor\":\"white\",\"ticks\":\"\"},\"baxis\":{\"gridcolor\":\"white\",\"linecolor\":\"white\",\"ticks\":\"\"},\"bgcolor\":\"#E5ECF6\",\"caxis\":{\"gridcolor\":\"white\",\"linecolor\":\"white\",\"ticks\":\"\"}},\"title\":{\"x\":0.05},\"xaxis\":{\"automargin\":true,\"gridcolor\":\"white\",\"linecolor\":\"white\",\"ticks\":\"\",\"title\":{\"standoff\":15},\"zerolinecolor\":\"white\",\"zerolinewidth\":2},\"yaxis\":{\"automargin\":true,\"gridcolor\":\"white\",\"linecolor\":\"white\",\"ticks\":\"\",\"title\":{\"standoff\":15},\"zerolinecolor\":\"white\",\"zerolinewidth\":2}}}},\"margin\":[5,5,5,5],\"name\":\"Plotly15961\",\"viewport_update_throttle\":200},\"id\":\"8040\",\"type\":\"panel.models.plotly.PlotlyPlot\"},{\"attributes\":{},\"id\":\"8201\",\"type\":\"PanTool\"},{\"attributes\":{\"overlay\":{\"id\":\"8556\"}},\"id\":\"8554\",\"type\":\"BoxZoomTool\"},{\"attributes\":{},\"id\":\"8204\",\"type\":\"ResetTool\"},{\"attributes\":{},\"id\":\"8202\",\"type\":\"WheelZoomTool\"},{\"attributes\":{\"end\":4086.5,\"reset_end\":4086.5,\"reset_start\":0.0,\"tags\":[[[\"value\",\"value\",null]]]},\"id\":\"8612\",\"type\":\"Range1d\"},{\"attributes\":{\"tools\":[{\"id\":\"8391\"},{\"id\":\"8409\"},{\"id\":\"8410\"},{\"id\":\"8411\"},{\"id\":\"8412\"},{\"id\":\"8413\"}]},\"id\":\"8415\",\"type\":\"Toolbar\"},{\"attributes\":{\"overlay\":{\"id\":\"8205\"}},\"id\":\"8203\",\"type\":\"BoxZoomTool\"},{\"attributes\":{\"bottom_units\":\"screen\",\"coordinates\":null,\"fill_alpha\":0.5,\"fill_color\":\"lightgrey\",\"group\":null,\"left_units\":\"screen\",\"level\":\"overlay\",\"line_alpha\":1.0,\"line_color\":\"black\",\"line_dash\":[4,4],\"line_width\":2,\"right_units\":\"screen\",\"syncable\":false,\"top_units\":\"screen\"},\"id\":\"8414\",\"type\":\"BoxAnnotation\"},{\"attributes\":{},\"id\":\"8409\",\"type\":\"SaveTool\"},{\"attributes\":{\"callback\":null,\"renderers\":[{\"id\":\"8570\"}],\"tags\":[\"hv_created\"],\"tooltips\":[[\"year\",\"@{year}\"],[\"average_house_value\",\"@{average_house_value}\"]]},\"id\":\"8533\",\"type\":\"HoverTool\"},{\"attributes\":{\"children\":[{\"id\":\"8529\"},{\"id\":\"8693\"}],\"margin\":[0,0,0,0],\"name\":\"Row17036\"},\"id\":\"8528\",\"type\":\"Row\"},{\"attributes\":{\"fill_alpha\":{\"value\":0.2},\"fill_color\":{\"value\":\"red\"},\"hatch_alpha\":{\"value\":0.2},\"hatch_color\":{\"value\":\"red\"},\"line_alpha\":{\"value\":0.2},\"top\":{\"field\":\"A_2001\"},\"width\":{\"value\":0.8},\"x\":{\"field\":\"index\"}},\"id\":\"8081\",\"type\":\"VBar\"},{\"attributes\":{},\"id\":\"8410\",\"type\":\"PanTool\"},{\"attributes\":{\"end\":542587.5,\"reset_end\":542587.5,\"reset_start\":0.0,\"tags\":[[[\"2016\",\"2016\",null]]]},\"id\":\"8250\",\"type\":\"Range1d\"},{\"attributes\":{},\"id\":\"8413\",\"type\":\"ResetTool\"},{\"attributes\":{\"callback\":null,\"renderers\":[{\"id\":\"8650\"}],\"tags\":[\"hv_created\"],\"tooltips\":[[\"year\",\"@{year}\"],[\"Variable\",\"@{Variable}\"],[\"value\",\"@{value}\"]]},\"id\":\"8613\",\"type\":\"HoverTool\"},{\"attributes\":{\"end\":1597812.3,\"reset_end\":701486.8728571428,\"reset_start\":252464.34142857144,\"start\":0.0,\"tags\":[[[\"average_house_value\",\"average_house_value\",null]]]},\"id\":\"8320\",\"type\":\"Range1d\"},{\"attributes\":{},\"id\":\"8411\",\"type\":\"WheelZoomTool\"},{\"attributes\":{},\"id\":\"8063\",\"type\":\"SaveTool\"},{\"attributes\":{\"line_color\":\"blue\",\"line_width\":2,\"x\":{\"field\":\"year\"},\"y\":{\"field\":\"average_house_value\"}},\"id\":\"8355\",\"type\":\"Line\"},{\"attributes\":{\"callback\":null,\"renderers\":[{\"id\":\"8287\"}],\"tags\":[\"hv_created\"],\"tooltips\":[[\"index\",\"@{index}\"],[\"2016\",\"@{A_2016}\"]]},\"id\":\"8251\",\"type\":\"HoverTool\"},{\"attributes\":{\"overlay\":{\"id\":\"8414\"}},\"id\":\"8412\",\"type\":\"BoxZoomTool\"},{\"attributes\":{\"line_color\":\"blue\",\"line_width\":2,\"x\":{\"field\":\"year\"},\"y\":{\"field\":\"average_house_value\"}},\"id\":\"8572\",\"type\":\"Line\"},{\"attributes\":{\"fill_alpha\":{\"value\":0.1},\"fill_color\":{\"value\":\"red\"},\"hatch_alpha\":{\"value\":0.1},\"hatch_color\":{\"value\":\"red\"},\"line_alpha\":{\"value\":0.1},\"top\":{\"field\":\"A_2001\"},\"width\":{\"value\":0.8},\"x\":{\"field\":\"index\"}},\"id\":\"8080\",\"type\":\"VBar\"},{\"attributes\":{\"end\":2016.0,\"reset_end\":2016.0,\"reset_start\":2001.0,\"start\":2001.0,\"tags\":[[[\"year\",\"year\",null]]]},\"id\":\"8319\",\"type\":\"Range1d\"},{\"attributes\":{\"end\":472132.0,\"reset_end\":472132.0,\"reset_start\":0.0,\"tags\":[[[\"2011\",\"2011\",null]]]},\"id\":\"8182\",\"type\":\"Range1d\"},{\"attributes\":{},\"id\":\"8364\",\"type\":\"AllLabels\"},{\"attributes\":{},\"id\":\"8305\",\"type\":\"UnionRenderers\"},{\"attributes\":{},\"id\":\"8363\",\"type\":\"BasicTickFormatter\"},{\"attributes\":{\"data\":{\"A_2001\":[300930,355015,75,90995,52355,23785,116900,3040],\"index\":[\"single_detached_house\",\"apartment_five_storeys_plus\",\"movable_dwelling\",\"semi_detached_house\",\"row_house\",\"duplex\",\"apartment_five_storeys_less\",\"other_house\"]},\"selected\":{\"id\":\"8077\"},\"selection_policy\":{\"id\":\"8100\"}},\"id\":\"8076\",\"type\":\"ColumnDataSource\"},{\"attributes\":{},\"id\":\"8353\",\"type\":\"Selection\"},{\"attributes\":{\"line_color\":\"blue\",\"line_width\":2,\"x\":{\"field\":\"year\"},\"y\":{\"field\":\"shelter_costs_owned\"}},\"id\":\"8430\",\"type\":\"Line\"},{\"attributes\":{},\"id\":\"8060\",\"type\":\"BasicTicker\"},{\"attributes\":{\"format\":\"%.0f\"},\"id\":\"8361\",\"type\":\"PrintfTickFormatter\"},{\"attributes\":{\"callback\":null,\"renderers\":[{\"id\":\"8219\"}],\"tags\":[\"hv_created\"],\"tooltips\":[[\"index\",\"@{index}\"],[\"2011\",\"@{A_2011}\"]]},\"id\":\"8183\",\"type\":\"HoverTool\"},{\"attributes\":{\"children\":[{\"id\":\"8184\"},{\"id\":\"8252\"}],\"margin\":[0,0,0,0],\"name\":\"Row16449\"},\"id\":\"8180\",\"type\":\"Row\"},{\"attributes\":{\"children\":[{\"id\":\"8392\"},{\"id\":\"8461\"}],\"margin\":[0,0,0,0],\"name\":\"Row16695\"},\"id\":\"8388\",\"type\":\"Row\"},{\"attributes\":{},\"id\":\"8619\",\"type\":\"CategoricalScale\"},{\"attributes\":{\"line_alpha\":0.1,\"line_color\":\"blue\",\"line_width\":2,\"x\":{\"field\":\"year\"},\"y\":{\"field\":\"average_house_value\"}},\"id\":\"8356\",\"type\":\"Line\"},{\"attributes\":{},\"id\":\"8282\",\"type\":\"Selection\"},{\"attributes\":{\"below\":[{\"id\":\"8623\"}],\"center\":[{\"id\":\"8625\"},{\"id\":\"8629\"}],\"frame_height\":300,\"frame_width\":600,\"height\":null,\"left\":[{\"id\":\"8626\"}],\"margin\":[5,5,5,5],\"min_border_bottom\":10,\"min_border_left\":10,\"min_border_right\":10,\"min_border_top\":10,\"renderers\":[{\"id\":\"8650\"}],\"sizing_mode\":\"fixed\",\"title\":{\"id\":\"8615\"},\"toolbar\":{\"id\":\"8636\"},\"width\":null,\"x_range\":{\"id\":\"8611\"},\"x_scale\":{\"id\":\"8619\"},\"y_range\":{\"id\":\"8612\"},\"y_scale\":{\"id\":\"8621\"}},\"id\":\"8614\",\"subtype\":\"Figure\",\"type\":\"Plot\"},{\"attributes\":{\"data\":{\"A_2011\":[274940,429220,100,72480,60355,44750,163895,2165],\"index\":[\"single_detached_house\",\"apartment_five_storeys_plus\",\"movable_dwelling\",\"semi_detached_house\",\"row_house\",\"duplex\",\"apartment_five_storeys_less\",\"other_house\"]},\"selected\":{\"id\":\"8214\"},\"selection_policy\":{\"id\":\"8237\"}},\"id\":\"8213\",\"type\":\"ColumnDataSource\"},{\"attributes\":{\"format\":\"%.0f\"},\"id\":\"8222\",\"type\":\"PrintfTickFormatter\"},{\"attributes\":{},\"id\":\"8293\",\"type\":\"AllLabels\"},{\"attributes\":{\"factors\":[\"Bridle Path-Sunnybrook-York Mills\",\"Forest Hill South\",\"Lawrence Park South\",\"Rosedale-Moore Park\",\"St.Andrew-Windfields\",\"Casa Loma\",\"Bedford Park-Nortown\",\"Forest Hill North\",\"Kingsway South\",\"Yonge-St.Clair\"],\"tags\":[[[\"neighbourhood\",\"neighbourhood\",null]]]},\"id\":\"8690\",\"type\":\"FactorRange\"},{\"attributes\":{\"children\":[{\"id\":\"8534\"},{\"id\":\"8606\"}],\"margin\":[0,0,0,0],\"name\":\"Row16885\"},\"id\":\"8530\",\"type\":\"Row\"},{\"attributes\":{\"bottom\":{\"value\":0},\"fill_alpha\":{\"value\":1.0},\"fill_color\":{\"value\":\"blue\"},\"hatch_alpha\":{\"value\":1.0},\"hatch_color\":{\"value\":\"blue\"},\"hatch_scale\":{\"value\":12.0},\"hatch_weight\":{\"value\":1.0},\"line_alpha\":{\"value\":1.0},\"line_cap\":{\"value\":\"butt\"},\"line_color\":{\"value\":\"black\"},\"line_dash\":{\"value\":[]},\"line_dash_offset\":{\"value\":0},\"line_join\":{\"value\":\"bevel\"},\"line_width\":{\"value\":1},\"top\":{\"field\":\"A_2006\"},\"width\":{\"value\":0.8},\"x\":{\"field\":\"index\"}},\"id\":\"8152\",\"type\":\"VBar\"},{\"attributes\":{\"fill_alpha\":{\"value\":0.2},\"fill_color\":{\"field\":\"Variable\",\"transform\":{\"id\":\"8643\"}},\"hatch_alpha\":{\"value\":0.2},\"hatch_color\":{\"field\":\"Variable\",\"transform\":{\"id\":\"8643\"}},\"line_alpha\":{\"value\":0.2},\"top\":{\"field\":\"value\"},\"width\":{\"value\":0.8},\"x\":{\"field\":\"xoffsets\"}},\"id\":\"8649\",\"type\":\"VBar\"},{\"attributes\":{},\"id\":\"8706\",\"type\":\"BasicTicker\"},{\"attributes\":{\"format\":\"%.0f\"},\"id\":\"8573\",\"type\":\"PrintfTickFormatter\"},{\"attributes\":{},\"id\":\"8659\",\"type\":\"AllLabels\"},{\"attributes\":{\"fill_color\":{\"value\":\"red\"},\"hatch_color\":{\"value\":\"red\"},\"top\":{\"field\":\"A_2001\"},\"width\":{\"value\":0.8},\"x\":{\"field\":\"index\"}},\"id\":\"8079\",\"type\":\"VBar\"},{\"attributes\":{\"axis\":{\"id\":\"8705\"},\"coordinates\":null,\"dimension\":1,\"grid_line_color\":null,\"group\":null,\"ticker\":null},\"id\":\"8708\",\"type\":\"Grid\"},{\"attributes\":{},\"id\":\"8120\",\"type\":\"CategoricalScale\"},{\"attributes\":{\"css_classes\":[\"markdown\"],\"margin\":[5,5,5,5],\"name\":\"Markdown15956\",\"text\":\"&lt;h1&gt;A Graphical Analysis of Real Estate in Toronto&lt;/h1&gt;\"},\"id\":\"8035\",\"type\":\"panel.models.markup.HTML\"},{\"attributes\":{\"below\":[{\"id\":\"8702\"}],\"center\":[{\"id\":\"8704\"},{\"id\":\"8708\"}],\"frame_height\":300,\"frame_width\":600,\"height\":null,\"left\":[{\"id\":\"8705\"}],\"margin\":[5,5,5,5],\"min_border_bottom\":10,\"min_border_left\":10,\"min_border_right\":10,\"min_border_top\":10,\"renderers\":[{\"id\":\"8728\"}],\"sizing_mode\":\"fixed\",\"title\":{\"id\":\"8694\"},\"toolbar\":{\"id\":\"8715\"},\"width\":null,\"x_range\":{\"id\":\"8690\"},\"x_scale\":{\"id\":\"8698\"},\"y_range\":{\"id\":\"8320\"},\"y_scale\":{\"id\":\"8700\"}},\"id\":\"8693\",\"subtype\":\"Figure\",\"type\":\"Plot\"},{\"attributes\":{},\"id\":\"8709\",\"type\":\"SaveTool\"},{\"attributes\":{},\"id\":\"8746\",\"type\":\"UnionRenderers\"},{\"attributes\":{\"axis\":{\"id\":\"8056\"},\"coordinates\":null,\"grid_line_color\":null,\"group\":null,\"ticker\":null},\"id\":\"8058\",\"type\":\"Grid\"},{\"attributes\":{\"source\":{\"id\":\"8144\"}},\"id\":\"8151\",\"type\":\"CDSView\"},{\"attributes\":{},\"id\":\"8228\",\"type\":\"AllLabels\"},{\"attributes\":{\"below\":[{\"id\":\"8193\"}],\"center\":[{\"id\":\"8195\"},{\"id\":\"8199\"}],\"frame_height\":300,\"height\":null,\"left\":[{\"id\":\"8196\"}],\"margin\":[5,5,5,5],\"min_border_bottom\":10,\"min_border_left\":10,\"min_border_right\":10,\"min_border_top\":10,\"renderers\":[{\"id\":\"8219\"}],\"sizing_mode\":\"fixed\",\"title\":{\"id\":\"8185\"},\"toolbar\":{\"id\":\"8206\"},\"width\":700,\"x_range\":{\"id\":\"8044\"},\"x_scale\":{\"id\":\"8189\"},\"y_range\":{\"id\":\"8182\"},\"y_scale\":{\"id\":\"8191\"}},\"id\":\"8184\",\"subtype\":\"Figure\",\"type\":\"Plot\"},{\"attributes\":{\"fill_alpha\":{\"value\":0.1},\"fill_color\":{\"field\":\"Variable\",\"transform\":{\"id\":\"8643\"}},\"hatch_alpha\":{\"value\":0.1},\"hatch_color\":{\"field\":\"Variable\",\"transform\":{\"id\":\"8643\"}},\"line_alpha\":{\"value\":0.1},\"top\":{\"field\":\"value\"},\"width\":{\"value\":0.8},\"x\":{\"field\":\"xoffsets\"}},\"id\":\"8648\",\"type\":\"VBar\"},{\"attributes\":{\"coordinates\":null,\"group\":null,\"text\":\"Average Monthly Shelter Cost for Rented Dwellings in Toronto\",\"text_color\":\"black\",\"text_font_size\":\"12pt\"},\"id\":\"8462\",\"type\":\"Title\"},{\"attributes\":{},\"id\":\"8515\",\"type\":\"UnionRenderers\"},{\"attributes\":{},\"id\":\"8575\",\"type\":\"BasicTickFormatter\"},{\"attributes\":{\"end\":1289.412142857143,\"reset_end\":1289.412142857143,\"reset_start\":892.3235714285714,\"start\":892.3235714285714,\"tags\":[[[\"shelter_costs_rented\",\"shelter_costs_rented\",null]]]},\"id\":\"8459\",\"type\":\"Range1d\"},{\"attributes\":{},\"id\":\"8710\",\"type\":\"PanTool\"},{\"attributes\":{\"callback\":null,\"renderers\":[{\"id\":\"8728\"}],\"tags\":[\"hv_created\"],\"tooltips\":[[\"neighbourhood\",\"@{neighbourhood}\"],[\"average_house_value\",\"@{average_house_value}\"]]},\"id\":\"8692\",\"type\":\"HoverTool\"},{\"attributes\":{},\"id\":\"8054\",\"type\":\"LinearScale\"},{\"attributes\":{\"axis_label\":\"Avg House Value\",\"coordinates\":null,\"formatter\":{\"id\":\"8731\"},\"group\":null,\"major_label_policy\":{\"id\":\"8737\"},\"ticker\":{\"id\":\"8706\"}},\"id\":\"8705\",\"type\":\"LinearAxis\"},{\"attributes\":{\"axis_label\":\"Neighbourhood\",\"coordinates\":null,\"formatter\":{\"id\":\"8733\"},\"group\":null,\"major_label_orientation\":1.5707963267948966,\"major_label_policy\":{\"id\":\"8734\"},\"ticker\":{\"id\":\"8703\"}},\"id\":\"8702\",\"type\":\"CategoricalAxis\"},{\"attributes\":{\"fill_color\":{\"field\":\"Variable\",\"transform\":{\"id\":\"8643\"}},\"hatch_color\":{\"field\":\"Variable\",\"transform\":{\"id\":\"8643\"}},\"top\":{\"field\":\"value\"},\"width\":{\"value\":0.8},\"x\":{\"field\":\"xoffsets\"}},\"id\":\"8647\",\"type\":\"VBar\"},{\"attributes\":{\"axis_label\":\"Dwelling Type\",\"coordinates\":null,\"formatter\":{\"id\":\"8155\"},\"group\":null,\"major_label_orientation\":1.5707963267948966,\"major_label_policy\":{\"id\":\"8156\"},\"ticker\":{\"id\":\"8125\"}},\"id\":\"8124\",\"type\":\"CategoricalAxis\"},{\"attributes\":{},\"id\":\"8052\",\"type\":\"CategoricalScale\"},{\"attributes\":{},\"id\":\"8502\",\"type\":\"BasicTickFormatter\"},{\"attributes\":{\"factors\":[\"single_detached_house\",\"apartment_five_storeys_plus\",\"movable_dwelling\",\"semi_detached_house\",\"row_house\",\"duplex\",\"apartment_five_storeys_less\",\"other_house\"],\"palette\":[\"#30a2da\",\"#fc4f30\",\"#e5ae38\",\"#6d904f\",\"#8b8b8b\",\"#17becf\",\"#9467bd\",\"#d62728\"]},\"id\":\"8643\",\"type\":\"CategoricalColorMapper\"},{\"attributes\":{},\"id\":\"8128\",\"type\":\"BasicTicker\"},{\"attributes\":{\"below\":[{\"id\":\"8470\"}],\"center\":[{\"id\":\"8473\"},{\"id\":\"8477\"}],\"frame_width\":500,\"height\":300,\"left\":[{\"id\":\"8474\"}],\"margin\":[5,5,5,5],\"min_border_bottom\":10,\"min_border_left\":10,\"min_border_right\":10,\"min_border_top\":10,\"renderers\":[{\"id\":\"8497\"}],\"sizing_mode\":\"fixed\",\"title\":{\"id\":\"8462\"},\"toolbar\":{\"id\":\"8484\"},\"width\":null,\"x_range\":{\"id\":\"8319\"},\"x_scale\":{\"id\":\"8466\"},\"y_range\":{\"id\":\"8459\"},\"y_scale\":{\"id\":\"8468\"}},\"id\":\"8461\",\"subtype\":\"Figure\",\"type\":\"Plot\"},{\"attributes\":{},\"id\":\"8122\",\"type\":\"LinearScale\"},{\"attributes\":{},\"id\":\"8703\",\"type\":\"CategoricalTicker\"},{\"attributes\":{},\"id\":\"8645\",\"type\":\"Selection\"},{\"attributes\":{\"format\":\"%.0f\"},\"id\":\"8653\",\"type\":\"PrintfTickFormatter\"},{\"attributes\":{},\"id\":\"8492\",\"type\":\"Selection\"},{\"attributes\":{},\"id\":\"8700\",\"type\":\"LinearScale\"},{\"attributes\":{\"fill_color\":{\"value\":\"blue\"},\"hatch_color\":{\"value\":\"blue\"},\"top\":{\"field\":\"A_2006\"},\"width\":{\"value\":0.8},\"x\":{\"field\":\"index\"}},\"id\":\"8147\",\"type\":\"VBar\"},{\"attributes\":{},\"id\":\"8224\",\"type\":\"CategoricalTickFormatter\"},{\"attributes\":{\"source\":{\"id\":\"8644\"}},\"id\":\"8651\",\"type\":\"CDSView\"},{\"attributes\":{\"coordinates\":null,\"data_source\":{\"id\":\"8722\"},\"glyph\":{\"id\":\"8725\"},\"group\":null,\"hover_glyph\":null,\"muted_glyph\":{\"id\":\"8727\"},\"nonselection_glyph\":{\"id\":\"8726\"},\"selection_glyph\":{\"id\":\"8730\"},\"view\":{\"id\":\"8729\"}},\"id\":\"8728\",\"type\":\"GlyphRenderer\"},{\"attributes\":{\"axis_label\":\"Number of Dwellings\",\"coordinates\":null,\"formatter\":{\"id\":\"8153\"},\"group\":null,\"major_label_policy\":{\"id\":\"8159\"},\"ticker\":{\"id\":\"8128\"}},\"id\":\"8127\",\"type\":\"LinearAxis\"},{\"attributes\":{\"fill_alpha\":{\"value\":0.2},\"fill_color\":{\"value\":\"#30a2da\"},\"hatch_alpha\":{\"value\":0.2},\"hatch_color\":{\"value\":\"#30a2da\"},\"line_alpha\":{\"value\":0.2},\"top\":{\"field\":\"average_house_value\"},\"width\":{\"value\":0.8},\"x\":{\"field\":\"neighbourhood\"}},\"id\":\"8727\",\"type\":\"VBar\"},{\"attributes\":{},\"id\":\"8471\",\"type\":\"BasicTicker\"},{\"attributes\":{},\"id\":\"8133\",\"type\":\"WheelZoomTool\"},{\"attributes\":{},\"id\":\"8125\",\"type\":\"CategoricalTicker\"},{\"attributes\":{\"data\":{\"shelter_costs_rented\":{\"__ndarray__\":\"LL7iK773kEB1UAd1UOuMQMVXfMVX3o9AJUmSJEmhk0A=\",\"dtype\":\"float64\",\"order\":\"little\",\"shape\":[4]},\"year\":[2001,2006,2011,2016]},\"selected\":{\"id\":\"8492\"},\"selection_policy\":{\"id\":\"8515\"}},\"id\":\"8491\",\"type\":\"ColumnDataSource\"},{\"attributes\":{},\"id\":\"8656\",\"type\":\"AllLabels\"},{\"attributes\":{\"line_alpha\":0.2,\"line_color\":\"yellow\",\"line_width\":2,\"x\":{\"field\":\"year\"},\"y\":{\"field\":\"shelter_costs_rented\"}},\"id\":\"8496\",\"type\":\"Line\"},{\"attributes\":{},\"id\":\"8475\",\"type\":\"BasicTicker\"},{\"attributes\":{\"bottom\":{\"value\":0},\"fill_alpha\":{\"value\":1.0},\"fill_color\":{\"field\":\"Variable\",\"transform\":{\"id\":\"8643\"}},\"hatch_alpha\":{\"value\":1.0},\"hatch_color\":{\"field\":\"Variable\",\"transform\":{\"id\":\"8643\"}},\"hatch_scale\":{\"value\":12.0},\"hatch_weight\":{\"value\":1.0},\"line_alpha\":{\"value\":1.0},\"line_cap\":{\"value\":\"butt\"},\"line_color\":{\"value\":\"black\"},\"line_dash\":{\"value\":[]},\"line_dash_offset\":{\"value\":0},\"line_join\":{\"value\":\"bevel\"},\"line_width\":{\"value\":1},\"top\":{\"field\":\"value\"},\"width\":{\"value\":0.8},\"x\":{\"field\":\"xoffsets\"}},\"id\":\"8652\",\"type\":\"VBar\"},{\"attributes\":{},\"id\":\"8466\",\"type\":\"LinearScale\"},{\"attributes\":{},\"id\":\"8237\",\"type\":\"UnionRenderers\"},{\"attributes\":{\"axis\":{\"id\":\"8470\"},\"coordinates\":null,\"grid_line_color\":null,\"group\":null,\"ticker\":null},\"id\":\"8473\",\"type\":\"Grid\"},{\"attributes\":{},\"id\":\"8135\",\"type\":\"ResetTool\"},{\"attributes\":{},\"id\":\"8655\",\"type\":\"CategoricalTickFormatter\"},{\"attributes\":{\"data\":{\"average_house_value\":{\"__ndarray__\":\"AAAAwNVKN0EAAACA2D8yQQAAAMCLsTBBAAAAAAiwMEEAAAAAhn0uQQAAAICQ8C1BAAAAgN5kLEEAAAAAwf0pQQAAAIDEuylBAAAAgEjRKEE=\",\"dtype\":\"float64\",\"order\":\"little\",\"shape\":[10]},\"neighbourhood\":[\"Bridle Path-Sunnybrook-York Mills\",\"Forest Hill South\",\"Lawrence Park South\",\"Rosedale-Moore Park\",\"St.Andrew-Windfields\",\"Casa Loma\",\"Bedford Park-Nortown\",\"Forest Hill North\",\"Kingsway South\",\"Yonge-St.Clair\"]},\"selected\":{\"id\":\"8723\"},\"selection_policy\":{\"id\":\"8746\"}},\"id\":\"8722\",\"type\":\"ColumnDataSource\"},{\"attributes\":{},\"id\":\"8468\",\"type\":\"LinearScale\"},{\"attributes\":{\"fill_color\":{\"value\":\"#30a2da\"},\"hatch_color\":{\"value\":\"#30a2da\"},\"top\":{\"field\":\"average_house_value\"},\"width\":{\"value\":0.8},\"x\":{\"field\":\"neighbourhood\"}},\"id\":\"8725\",\"type\":\"VBar\"},{\"attributes\":{},\"id\":\"8131\",\"type\":\"SaveTool\"},{\"attributes\":{\"axis_label\":\"Avg Monthly Shelter Costs\",\"coordinates\":null,\"formatter\":{\"id\":\"8500\"},\"group\":null,\"major_label_policy\":{\"id\":\"8506\"},\"ticker\":{\"id\":\"8475\"}},\"id\":\"8474\",\"type\":\"LinearAxis\"},{\"attributes\":{\"fill_alpha\":{\"value\":0.1},\"fill_color\":{\"value\":\"#30a2da\"},\"hatch_alpha\":{\"value\":0.1},\"hatch_color\":{\"value\":\"#30a2da\"},\"line_alpha\":{\"value\":0.1},\"top\":{\"field\":\"average_house_value\"},\"width\":{\"value\":0.8},\"x\":{\"field\":\"neighbourhood\"}},\"id\":\"8726\",\"type\":\"VBar\"},{\"attributes\":{\"axis_label\":\"Year\",\"coordinates\":null,\"formatter\":{\"id\":\"8502\"},\"group\":null,\"major_label_policy\":{\"id\":\"8503\"},\"ticker\":{\"id\":\"8471\"}},\"id\":\"8470\",\"type\":\"LinearAxis\"},{\"attributes\":{\"fill_alpha\":{\"value\":0.1},\"fill_color\":{\"value\":\"blue\"},\"hatch_alpha\":{\"value\":0.1},\"hatch_color\":{\"value\":\"blue\"},\"line_alpha\":{\"value\":0.1},\"top\":{\"field\":\"A_2006\"},\"width\":{\"value\":0.8},\"x\":{\"field\":\"index\"}},\"id\":\"8148\",\"type\":\"VBar\"},{\"attributes\":{},\"id\":\"8698\",\"type\":\"CategoricalScale\"},{\"attributes\":{\"line_alpha\":0.1,\"line_color\":\"yellow\",\"line_width\":2,\"x\":{\"field\":\"year\"},\"y\":{\"field\":\"shelter_costs_rented\"}},\"id\":\"8495\",\"type\":\"Line\"},{\"attributes\":{\"axis\":{\"id\":\"8702\"},\"coordinates\":null,\"grid_line_color\":null,\"group\":null,\"ticker\":null},\"id\":\"8704\",\"type\":\"Grid\"},{\"attributes\":{\"axis\":{\"id\":\"8474\"},\"coordinates\":null,\"dimension\":1,\"grid_line_color\":null,\"group\":null,\"ticker\":null},\"id\":\"8477\",\"type\":\"Grid\"},{\"attributes\":{},\"id\":\"8711\",\"type\":\"WheelZoomTool\"},{\"attributes\":{},\"id\":\"8057\",\"type\":\"CategoricalTicker\"},{\"attributes\":{\"data\":{\"Variable\":[\"single_detached_house\",\"single_detached_house\",\"single_detached_house\",\"single_detached_house\",\"apartment_five_storeys_plus\",\"apartment_five_storeys_plus\",\"apartment_five_storeys_plus\",\"apartment_five_storeys_plus\",\"movable_dwelling\",\"movable_dwelling\",\"movable_dwelling\",\"movable_dwelling\",\"semi_detached_house\",\"semi_detached_house\",\"semi_detached_house\",\"semi_detached_house\",\"row_house\",\"row_house\",\"row_house\",\"row_house\",\"duplex\",\"duplex\",\"duplex\",\"duplex\",\"apartment_five_storeys_less\",\"apartment_five_storeys_less\",\"apartment_five_storeys_less\",\"apartment_five_storeys_less\",\"other_house\",\"other_house\",\"other_house\",\"other_house\"],\"value\":[3715,3295,3385,3345,1480,2060,2130,2120,0,0,5,5,1055,775,820,805,1295,1425,1465,1440,195,600,610,645,185,565,705,735,5,0,20,15],\"xoffsets\":[[\"2001\",\"single_detached_house\"],[\"2006\",\"single_detached_house\"],[\"2011\",\"single_detached_house\"],[\"2016\",\"single_detached_house\"],[\"2001\",\"apartment_five_storeys_plus\"],[\"2006\",\"apartment_five_storeys_plus\"],[\"2011\",\"apartment_five_storeys_plus\"],[\"2016\",\"apartment_five_storeys_plus\"],[\"2001\",\"movable_dwelling\"],[\"2006\",\"movable_dwelling\"],[\"2011\",\"movable_dwelling\"],[\"2016\",\"movable_dwelling\"],[\"2001\",\"semi_detached_house\"],[\"2006\",\"semi_detached_house\"],[\"2011\",\"semi_detached_house\"],[\"2016\",\"semi_detached_house\"],[\"2001\",\"row_house\"],[\"2006\",\"row_house\"],[\"2011\",\"row_house\"],[\"2016\",\"row_house\"],[\"2001\",\"duplex\"],[\"2006\",\"duplex\"],[\"2011\",\"duplex\"],[\"2016\",\"duplex\"],[\"2001\",\"apartment_five_storeys_less\"],[\"2006\",\"apartment_five_storeys_less\"],[\"2011\",\"apartment_five_storeys_less\"],[\"2016\",\"apartment_five_storeys_less\"],[\"2001\",\"other_house\"],[\"2006\",\"other_house\"],[\"2011\",\"other_house\"],[\"2016\",\"other_house\"]],\"year\":[\"2001\",\"2006\",\"2011\",\"2016\",\"2001\",\"2006\",\"2011\",\"2016\",\"2001\",\"2006\",\"2011\",\"2016\",\"2001\",\"2006\",\"2011\",\"2016\",\"2001\",\"2006\",\"2011\",\"2016\",\"2001\",\"2006\",\"2011\",\"2016\",\"2001\",\"2006\",\"2011\",\"2016\",\"2001\",\"2006\",\"2011\",\"2016\"]},\"selected\":{\"id\":\"8645\"},\"selection_policy\":{\"id\":\"8674\"}},\"id\":\"8644\",\"type\":\"ColumnDataSource\"},{\"attributes\":{\"line_color\":\"yellow\",\"line_width\":2,\"x\":{\"field\":\"year\"},\"y\":{\"field\":\"shelter_costs_rented\"}},\"id\":\"8494\",\"type\":\"Line\"},{\"attributes\":{\"fill_alpha\":{\"value\":0.2},\"fill_color\":{\"value\":\"blue\"},\"hatch_alpha\":{\"value\":0.2},\"hatch_color\":{\"value\":\"blue\"},\"line_alpha\":{\"value\":0.2},\"top\":{\"field\":\"A_2006\"},\"width\":{\"value\":0.8},\"x\":{\"field\":\"index\"}},\"id\":\"8149\",\"type\":\"VBar\"},{\"attributes\":{\"coordinates\":null,\"data_source\":{\"id\":\"8144\"},\"glyph\":{\"id\":\"8147\"},\"group\":null,\"hover_glyph\":null,\"muted_glyph\":{\"id\":\"8149\"},\"nonselection_glyph\":{\"id\":\"8148\"},\"selection_glyph\":{\"id\":\"8152\"},\"view\":{\"id\":\"8151\"}},\"id\":\"8150\",\"type\":\"GlyphRenderer\"},{\"attributes\":{\"client_comm_id\":\"3de6e7b962b2452ea54ffcb0fea2fa10\",\"comm_id\":\"5d92432c8e2e487e83f33af1d6f8e2aa\",\"plot_id\":\"8033\"},\"id\":\"9406\",\"type\":\"panel.models.comm_manager.CommManager\"},{\"attributes\":{},\"id\":\"8713\",\"type\":\"ResetTool\"},{\"attributes\":{\"reload\":false},\"id\":\"9683\",\"type\":\"panel.models.location.Location\"},{\"attributes\":{\"data\":{\"A_2016\":[269680,493270,95,71200,61565,48585,165575,2845],\"index\":[\"single_detached_house\",\"apartment_five_storeys_plus\",\"movable_dwelling\",\"semi_detached_house\",\"row_house\",\"duplex\",\"apartment_five_storeys_less\",\"other_house\"]},\"selected\":{\"id\":\"8282\"},\"selection_policy\":{\"id\":\"8305\"}},\"id\":\"8281\",\"type\":\"ColumnDataSource\"},{\"attributes\":{\"args\":{\"model\":{\"id\":\"8040\"}},\"code\":\"try { model.visibility = (cb_obj.active == 0); } catch { }\",\"tags\":[\"plotly_tab_fix8040\"]},\"id\":\"9221\",\"type\":\"CustomJS\"},{\"attributes\":{},\"id\":\"8132\",\"type\":\"PanTool\"},{\"attributes\":{},\"id\":\"8478\",\"type\":\"SaveTool\"},{\"attributes\":{\"coordinates\":null,\"group\":null,\"text\":\"Top 10 Expensive Neighbourhoods in Toronto\",\"text_color\":\"black\",\"text_font_size\":\"12pt\"},\"id\":\"8694\",\"type\":\"Title\"},{\"attributes\":{\"axis_label\":\"Number of Dwellings\",\"coordinates\":null,\"formatter\":{\"id\":\"8085\"},\"group\":null,\"major_label_policy\":{\"id\":\"8091\"},\"ticker\":{\"id\":\"8060\"}},\"id\":\"8059\",\"type\":\"LinearAxis\"},{\"attributes\":{\"coordinates\":null,\"group\":null,\"text\":\"Number of dwellings by type - 2006\",\"text_color\":\"black\",\"text_font_size\":\"12pt\"},\"id\":\"8116\",\"type\":\"Title\"},{\"attributes\":{},\"id\":\"8479\",\"type\":\"PanTool\"},{\"attributes\":{\"axis\":{\"id\":\"8124\"},\"coordinates\":null,\"grid_line_color\":null,\"group\":null,\"ticker\":null},\"id\":\"8126\",\"type\":\"Grid\"},{\"attributes\":{\"overlay\":{\"id\":\"8714\"}},\"id\":\"8712\",\"type\":\"BoxZoomTool\"},{\"attributes\":{},\"id\":\"8734\",\"type\":\"AllLabels\"},{\"attributes\":{\"coordinates\":null,\"data_source\":{\"id\":\"8644\"},\"glyph\":{\"id\":\"8647\"},\"group\":null,\"hover_glyph\":null,\"muted_glyph\":{\"id\":\"8649\"},\"nonselection_glyph\":{\"id\":\"8648\"},\"selection_glyph\":{\"id\":\"8652\"},\"view\":{\"id\":\"8651\"}},\"id\":\"8650\",\"type\":\"GlyphRenderer\"},{\"attributes\":{},\"id\":\"8480\",\"type\":\"WheelZoomTool\"},{\"attributes\":{\"overlay\":{\"id\":\"8136\"}},\"id\":\"8134\",\"type\":\"BoxZoomTool\"},{\"attributes\":{\"overlay\":{\"id\":\"8483\"}},\"id\":\"8481\",\"type\":\"BoxZoomTool\"}],\"root_ids\":[\"8033\",\"9406\",\"9683\"]},\"title\":\"Bokeh Application\",\"version\":\"2.4.2\"}};\n",
       "    var render_items = [{\"docid\":\"c6b40bce-8e57-4f26-b0d8-1b795fd192f1\",\"root_ids\":[\"8033\"],\"roots\":{\"8033\":\"f6a63dea-3925-4885-8fce-159cf0c31174\"}}];\n",
       "    root.Bokeh.embed.embed_items_notebook(docs_json, render_items);\n",
       "  }\n",
       "  if (root.Bokeh !== undefined && root.Bokeh.Panel !== undefined && ( root['Plotly'] !== undefined)) {\n",
       "    embed_document(root);\n",
       "  } else {\n",
       "    var attempts = 0;\n",
       "    var timer = setInterval(function(root) {\n",
       "      if (root.Bokeh !== undefined && root.Bokeh.Panel !== undefined && (root['Plotly'] !== undefined)) {\n",
       "        clearInterval(timer);\n",
       "        embed_document(root);\n",
       "      } else if (document.readyState == \"complete\") {\n",
       "        attempts++;\n",
       "        if (attempts > 200) {\n",
       "          clearInterval(timer);\n",
       "          console.log(\"Bokeh: ERROR: Unable to run BokehJS code because BokehJS library is missing\");\n",
       "        }\n",
       "      }\n",
       "    }, 25, root)\n",
       "  }\n",
       "})(window);</script>"
      ],
      "text/plain": [
       "Column\n",
       "    [0] Column\n",
       "        [0] Markdown(str)\n",
       "    [1] Tabs\n",
       "        [0] Column\n",
       "            [0] Markdown(str)\n",
       "            [1] Plotly(Figure)\n",
       "        [1] Column\n",
       "            [0] Row\n",
       "                [0] HoloViews(Bars)\n",
       "                [1] HoloViews(Bars)\n",
       "            [1] Row\n",
       "                [0] HoloViews(Bars)\n",
       "                [1] HoloViews(Bars)\n",
       "        [2] Column\n",
       "            [0] HoloViews(Curve)\n",
       "            [1] Row\n",
       "                [0] HoloViews(Curve)\n",
       "                [1] HoloViews(Curve)\n",
       "        [3] Row\n",
       "            [0] Column\n",
       "                [0] Row\n",
       "                    [0] HoloViews(DynamicMap)\n",
       "                    [1] Column\n",
       "                        [0] WidgetBox\n",
       "                            [0] Select(margin=(20, 20, 20, 20), name='neighbourhood', options=['Agincourt North', ...], value='Agincourt North', width=250)\n",
       "                        [1] VSpacer()\n",
       "                [1] Row\n",
       "                    [0] HoloViews(DynamicMap)\n",
       "                    [1] Column\n",
       "                        [0] WidgetBox\n",
       "                            [0] Select(margin=(20, 20, 20, 20), name='neighbourhood', options=['Agincourt North', ...], value='Agincourt North', width=250)\n",
       "                        [1] VSpacer()\n",
       "            [1] HoloViews(Bars)"
      ]
     },
     "execution_count": 48,
     "metadata": {
      "application/vnd.holoviews_exec.v0+json": {
       "id": "8033"
      }
     },
     "output_type": "execute_result"
    }
   ],
   "source": [
    "dashboard.servable()"
   ]
  },
  {
   "cell_type": "markdown",
   "metadata": {},
   "source": [
    "# Debugging\n",
    "\n",
    "Note: Some of the Plotly express plots may not render in the notebook through the panel functions.\n",
    "\n",
    "However, you can test each plot by uncommenting the following code"
   ]
  },
  {
   "cell_type": "code",
   "execution_count": null,
   "metadata": {},
   "outputs": [],
   "source": [
    "# neighbourhood_map().show()"
   ]
  },
  {
   "cell_type": "code",
   "execution_count": null,
   "metadata": {},
   "outputs": [],
   "source": [
    "# create_bar_chart(data, title, xlabel, ylabel, color)\n",
    "\n",
    "# # Bar chart for 2001\n",
    "# create_bar_chart(df_dwelling_units.loc[2001], \"Dwelling Types in Toronto in 2001\", \"2001\", \"Dwelling Type Units\", \"red\")\n",
    "\n",
    "# # Bar chart for 2006\n",
    "# create_bar_chart(df_dwelling_units.loc[2006], \"Dwelling Types in Toronto in 2006\", \"2006\", \"Dwelling Type Units\", \"blue\")\n",
    "\n",
    "# # Bar chart for 2011\n",
    "# create_bar_chart(df_dwelling_units.loc[2011], \"Dwelling Types in Toronto in 2011\", \"2011\", \"Dwelling Type Units\", \"orange\")\n",
    "\n",
    "# # Bar chart for 2016\n",
    "# create_bar_chart(df_dwelling_units.loc[2016], \"Dwelling Types in Toronto in 2016\", \"2016\", \"Dwelling Type Units\", \"magenta\")"
   ]
  },
  {
   "cell_type": "code",
   "execution_count": null,
   "metadata": {},
   "outputs": [],
   "source": [
    "# create_line_chart(data, title, xlabel, ylabel, color)\n",
    "\n",
    "# # Line chart for owned dwellings\n",
    "# create_line_chart(df_avg_costs[\"shelter_costs_owned\"], \"Average Monthly Shelter Cost for Owned Dwellings in Toronto\", \"Year\", \"Avg Monthly Shelter Costs\", \"blue\")\n",
    "\n",
    "# # Line chart for rented dwellings\n",
    "# create_line_chart(df_avg_costs[\"shelter_costs_rented\"], \"Average Monthly Shelter Cost for Rented Dwellings in Toronto\", \"Year\", \"Avg Monthly Shelter Costs\", \"orange\")"
   ]
  },
  {
   "cell_type": "code",
   "execution_count": null,
   "metadata": {},
   "outputs": [],
   "source": [
    "# average_house_value()"
   ]
  },
  {
   "cell_type": "code",
   "execution_count": null,
   "metadata": {},
   "outputs": [],
   "source": [
    "# average_value_by_neighbourhood()"
   ]
  },
  {
   "cell_type": "code",
   "execution_count": null,
   "metadata": {},
   "outputs": [],
   "source": [
    "# number_dwelling_types()"
   ]
  },
  {
   "cell_type": "code",
   "execution_count": null,
   "metadata": {},
   "outputs": [],
   "source": [
    "# average_house_value_snapshot()"
   ]
  },
  {
   "cell_type": "code",
   "execution_count": null,
   "metadata": {},
   "outputs": [],
   "source": [
    "# top_most_expensive_neighbourhoods()"
   ]
  },
  {
   "cell_type": "code",
   "execution_count": null,
   "metadata": {},
   "outputs": [],
   "source": [
    "# sunburts_cost_analysis()"
   ]
  }
 ],
 "metadata": {
  "file_extension": ".py",
  "kernelspec": {
   "display_name": "Python [conda env:pyvizenv] *",
   "language": "python",
   "name": "conda-env-pyvizenv-py"
  },
  "language_info": {
   "codemirror_mode": {
    "name": "ipython",
    "version": 3
   },
   "file_extension": ".py",
   "mimetype": "text/x-python",
   "name": "python",
   "nbconvert_exporter": "python",
   "pygments_lexer": "ipython3",
   "version": "3.7.11"
  },
  "mimetype": "text/x-python",
  "name": "python",
  "npconvert_exporter": "python",
  "pygments_lexer": "ipython3",
  "version": 3
 },
 "nbformat": 4,
 "nbformat_minor": 4
}
