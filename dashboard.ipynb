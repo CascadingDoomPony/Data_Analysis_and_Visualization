{
 "cells": [
  {
   "cell_type": "markdown",
   "metadata": {},
   "source": [
    "# Toronto Dwellings Analysis Dashboard\n",
    "\n",
    "In this notebook, you will compile the visualizations from the previous analysis into functions to create a Panel dashboard."
   ]
  },
  {
   "cell_type": "code",
   "execution_count": 7,
   "metadata": {},
   "outputs": [],
   "source": [
    "# imports\n",
    "import panel as pn\n",
    "pn.extension('plotly')\n",
    "import plotly.express as px\n",
    "import pandas as pd\n",
    "import hvplot.pandas\n",
    "import matplotlib.pyplot as plt\n",
    "import os\n",
    "from pathlib import Path\n",
    "from dotenv import load_dotenv"
   ]
  },
  {
   "cell_type": "code",
   "execution_count": 8,
   "metadata": {},
   "outputs": [],
   "source": [
    "# Initialize the Panel Extensions (for Plotly)\n",
    "import panel as pn\n",
    "pn.extension(\"plotly\")"
   ]
  },
  {
   "cell_type": "code",
   "execution_count": 12,
   "metadata": {},
   "outputs": [],
   "source": [
    "# Read the Mapbox API key\n",
    "load_dotenv()\n",
    "map_box_api = os.getenv(\"MAPBOX_PUBLIC_API_KEY\")\n",
    "px.set_mapbox_access_token(map_box_api)"
   ]
  },
  {
   "cell_type": "markdown",
   "metadata": {},
   "source": [
    "# Import Data"
   ]
  },
  {
   "cell_type": "code",
   "execution_count": 10,
   "metadata": {},
   "outputs": [],
   "source": [
    "# Import the CSVs to Pandas DataFrames\n",
    "file_path = Path(\"Data/toronto_neighbourhoods_census_data.csv\")\n",
    "to_data = pd.read_csv(file_path, index_col=\"year\")\n",
    "\n",
    "file_path = Path(\"Data/toronto_neighbourhoods_coordinates.csv\")\n",
    "df_neighbourhood_locations = pd.read_csv(file_path)"
   ]
  },
  {
   "cell_type": "markdown",
   "metadata": {},
   "source": [
    "- - -"
   ]
  },
  {
   "cell_type": "markdown",
   "metadata": {},
   "source": [
    "## Panel Visualizations\n",
    "\n",
    "In this section, you will copy the code for each plot type from your analysis notebook and place it into separate functions that Panel can use to create panes for the dashboard. \n",
    "\n",
    "These functions will convert the plot object to a Panel pane.\n",
    "\n",
    "Be sure to include any DataFrame transformation/manipulation code required along with the plotting code.\n",
    "\n",
    "Return a Panel pane object from each function that can be used to build the dashboard.\n",
    "\n",
    "Note: Remove any `.show()` lines from the code. We want to return the plots instead of showing them. The Panel dashboard will then display the plots."
   ]
  },
  {
   "cell_type": "markdown",
   "metadata": {},
   "source": [
    "### Global available data"
   ]
  },
  {
   "cell_type": "code",
   "execution_count": 11,
   "metadata": {},
   "outputs": [],
   "source": [
    "# Getting the data from the top 10 expensive neighbourhoods\n",
    "# Group by neightbourhood with no column filters, getting mean data, sorting by average_house_value, and then resetting index\n",
    "total_avg_house_value = to_data.groupby(\n",
    "            [to_data.loc[:, \"neighbourhood\"]]).mean().sort_values(\"average_house_value\", ascending=False).reset_index()\n",
    "# Remove all but the top 10 neighbourhoods\n",
    "total_avg_house_value_top10 = total_avg_house_value.iloc[:10]\n",
    "\n",
    "# Calculate the mean number of dwelling types units per year\n",
    "# We do not do this at any point in the analysis\n",
    "# According to the specs it doesnt actually matter what exactly is in the dashboard\n",
    "# I will use the previously made graphs and follow the given example\n",
    "# This is the number of dwelling types per year\n",
    "dwellings_list = [\"single_detached_house\", \"apartment_five_storeys_plus\", \"movable_dwelling\", \"semi_detached_house\", \n",
    "                  \"row_house\", \"duplex\", \"apartment_five_storeys_less\", \"other_house\"]\n",
    "# Group by index (year) and specify dwellings\n",
    "dwelling_units_py = to_data.groupby(to_data.index).sum().loc[:,dwellings_list]\n",
    "\n",
    "# Calculate the average monthly shelter costs for owned and rented dwellings\n",
    "shelter_costs = to_data.groupby(to_data.index).mean().loc[:,[\"shelter_costs_owned\", \"shelter_costs_rented\"]]"
   ]
  },
  {
   "cell_type": "markdown",
   "metadata": {},
   "source": [
    "### Panel Visualization Functions"
   ]
  },
  {
   "cell_type": "code",
   "execution_count": 16,
   "metadata": {},
   "outputs": [],
   "source": [
    "# Define Panel visualization functions\n",
    "def neighbourhood_map():\n",
    "    mean_values_by_neighbourhood = to_data.groupby(\n",
    "            [to_data.loc[:, \"neighbourhood\"]]).mean().reset_index\n",
    "    mean_neighbour_values_with_locations = pd.concat([df_neighbourhood_locations, mean_values_by_neighbourhood], axis=\"columns\", join=\"inner\")\n",
    "    return px.scatter_mapbox(\n",
    "                mean_neighbour_values_with_locations,\n",
    "                lat='lat',\n",
    "                lon='lon',\n",
    "                color='average_house_value',\n",
    "                size='average_house_value',\n",
    "                zoom=8\n",
    ")\n",
    "    \n",
    "def create_bar_chart(data, title, xlabel, ylabel, color):\n",
    "    return data.hvplot.bar(\n",
    "        title=title, \n",
    "        xlabel=xlabel, \n",
    "        ylabel=ylabel, \n",
    "        color=color\n",
    "    ).opts(\n",
    "        # Rotate x label name 90% for visibility, format y axis to not use scientific format, and increase height so the chart\n",
    "        # doesn't look squished\n",
    "        xrotation=90, \n",
    "        yformatter=\"%.0f\",\n",
    "        frame_height = 300)\n",
    "\n",
    "def create_line_chart(data, title, xlabel, ylabel, color):\n",
    "    return data.hvplot.line(\n",
    "        title=title, \n",
    "        xlabel=xlabel, \n",
    "        ylabel=ylabel, \n",
    "        color=color\n",
    "    ).opts(\n",
    "        # Format Y to not use scientific notation and increase width so the chart doesn't look squished \n",
    "        yformatter=\"%.0f\",\n",
    "        frame_width = 500\n",
    "    )\n",
    "\n",
    "def average_house_value():\n",
    "    avg_house_value = to_data.loc[:, \"average_house_value\"].groupby(to_data.index).mean()\n",
    "    return create_line_chart(\n",
    "        avg_house_value, \n",
    "        \"Average House Value in Toronto\", \n",
    "        \"Year\",\n",
    "        \"Avg House Value\",\n",
    "        \"blue\"\n",
    "    )\n",
    "\n",
    "def average_value_by_neighbourhood():\n",
    "    avg_house_value_neighbourhood = to_data.loc[:, \"average_house_value\"].groupby(\n",
    "                                    [to_data.index, to_data.loc[:, \"neighbourhood\"]]).mean().reset_index()\n",
    "    \n",
    "    return avg_house_value_neighbourhood.hvplot.line(\n",
    "        x=\"year\",\n",
    "        y=\"average_house_value\",\n",
    "        groupby=\"neighbourhood\",\n",
    "        xlabel=\"Year\", \n",
    "        ylabel=\"Avg House Value\", \n",
    "        color=\"blue\"\n",
    "    ).opts(\n",
    "        # Format Y to not use scientific notation and increase width so the chart doesn't look squished \n",
    "        yformatter=\"%.0f\",\n",
    "        frame_width = 500,\n",
    "    )\n",
    "\n",
    "def number_dwelling_types():\n",
    "\n",
    "    year = [\"2001\", \"2006\", \"2011\", \"2016\"]\n",
    "\n",
    "    dwelling_type_count_neighbourhood.hvplot.bar(\n",
    "        x=\"year\",\n",
    "        groupby=\"neighbourhood\",\n",
    "        xlabel=\"Year\", \n",
    "        ylabel=\"Dwelling Type Units\"\n",
    "    ).opts(\n",
    "        # Format Y to not use scientific notation and increase width so the chart doesn't look squished \n",
    "        # Rotate x for visibility\n",
    "        xrotation = 90,\n",
    "        yformatter=\"%.0f\",\n",
    "        frame_width = 600,\n",
    "        frame_height = 300\n",
    "    )\n",
    "\n",
    "def average_house_value_snapshot():\n",
    "    \"\"\"filler\"\"\"\n",
    "    # filler\n",
    "\n",
    "def top_most_expensive_neighbourhoods():\n",
    "    # Group by neightbourhood with no column filters, getting mean data, sorting by average_house_value, and then resetting index\n",
    "    total_avg_house_value = to_data.groupby(\n",
    "                [to_data.loc[:, \"neighbourhood\"]]).mean().sort_values(\"average_house_value\", ascending=False).reset_index()\n",
    "    # Remove all but the top 10 neighbourhoods\n",
    "    total_avg_house_value_top10 = total_avg_house_value.iloc[:10]\n",
    "\n",
    "def sunburts_cost_analysis():\n",
    "    \"\"\"Sunburst chart to conduct a costs analysis of most expensive neighbourhoods in Toronto per year.\"\"\"\n",
    "    \n",
    "    # YOUR CODE HERE!"
   ]
  },
  {
   "cell_type": "markdown",
   "metadata": {},
   "source": [
    "## Panel Dashboard\n",
    "\n",
    "In this section, you will combine all of the plots into a single dashboard view using Panel. Be creative with your dashboard design!"
   ]
  },
  {
   "cell_type": "code",
   "execution_count": 17,
   "metadata": {},
   "outputs": [
    {
     "ename": "AttributeError",
     "evalue": "module 'panel' has no attribute 'title'",
     "output_type": "error",
     "traceback": [
      "\u001b[1;31m---------------------------------------------------------------------------\u001b[0m",
      "\u001b[1;31mAttributeError\u001b[0m                            Traceback (most recent call last)",
      "\u001b[1;32m~\\AppData\\Local\\Temp/ipykernel_18624/31204867.py\u001b[0m in \u001b[0;36m<module>\u001b[1;34m\u001b[0m\n\u001b[0;32m      1\u001b[0m \u001b[1;31m# Create a Title for the Dashboard\u001b[0m\u001b[1;33m\u001b[0m\u001b[1;33m\u001b[0m\u001b[1;33m\u001b[0m\u001b[0m\n\u001b[1;32m----> 2\u001b[1;33m \u001b[0mdash_title\u001b[0m \u001b[1;33m=\u001b[0m \u001b[0mpn\u001b[0m\u001b[1;33m.\u001b[0m\u001b[0mtitle\u001b[0m\u001b[1;33m(\u001b[0m\u001b[1;33m)\u001b[0m\u001b[1;33m\u001b[0m\u001b[1;33m\u001b[0m\u001b[0m\n\u001b[0m\u001b[0;32m      3\u001b[0m \u001b[1;33m\u001b[0m\u001b[0m\n\u001b[0;32m      4\u001b[0m \u001b[1;31m# Define a welcome text\u001b[0m\u001b[1;33m\u001b[0m\u001b[1;33m\u001b[0m\u001b[1;33m\u001b[0m\u001b[0m\n\u001b[0;32m      5\u001b[0m \u001b[1;31m# YOUR CODE HERE!\u001b[0m\u001b[1;33m\u001b[0m\u001b[1;33m\u001b[0m\u001b[1;33m\u001b[0m\u001b[0m\n",
      "\u001b[1;31mAttributeError\u001b[0m: module 'panel' has no attribute 'title'"
     ]
    }
   ],
   "source": [
    "# Create a Title for the Dashboard\n",
    "dash_title = pn.column(\"TITLE\")\n",
    "\n",
    "# Define a welcome text\n",
    "welcome_text = pn.column(\"Analysis asfwegwweggwewf\", neighbourhood_map())\n",
    "\n",
    "# Create a tab layout for the dashboard\n",
    "\n",
    "# First tab: Yearly housing count\n",
    "# Bar chart for 2001\n",
    "df_2001 = dwelling_units_py.loc[2001]\n",
    "bar_2001 = create_bar_chart(df_2001, \"Number of dwellings by type - 2001\", \"Dwelling Type\", \"Number of Dwellings\", \"red\")\n",
    "\n",
    "# Bar chart for 2006\n",
    "df_2006 = dwelling_units_py.loc[2006]\n",
    "bar_2006 = create_bar_chart(df_2006, \"Number of dwellings by type - 2006\", \"Dwelling Type\", \"Number of Dwellings\", \"blue\")\n",
    "\n",
    "# Bar chart for 2011\n",
    "df_2011 = dwelling_units_py.loc[2011]\n",
    "bar_2011 = create_bar_chart(df_2011, \"Number of dwellings by type - 2011\", \"Dwelling Type\", \"Number of Dwellings\", \"green\")\n",
    "\n",
    "# Bar chart for 2016\n",
    "df_2016 = dwelling_units_py.loc[2016]\n",
    "bar_2016 = create_bar_chart(df_2016, \"Number of dwellings by type - 2016\", \"Dwelling Type\", \"Number of Dwellings\", \"yellow\")\n",
    "\n",
    "row_1 = pn.Row(bar_2001, bar_2006)\n",
    "row_2 = pn.Row(bar_2011, bar_2016)\n",
    "yearly_housing_count = pn.Column(row_1, row_2)\n",
    "\n",
    "#Second tab: Average house costs analysis\n",
    "df_owned = shelter_costs.loc[:,\"shelter_costs_owned\"]\n",
    "line_owned = create_line_chart(\n",
    "    df_owned, \n",
    "    \"Average Monthly Shelter Cost for Owned Dwellings in Toronto\", \n",
    "    \"Year\",\n",
    "    \"Avg Monthly Shelter Costs\",\n",
    "    \"blue\"\n",
    ")\n",
    "\n",
    "# Line chart for rented dwellings\n",
    "df_rented = shelter_costs.loc[:,\"shelter_costs_rented\"]\n",
    "line_rented = create_line_chart(\n",
    "    df_rented, \n",
    "    \"Average Monthly Shelter Cost for Rented Dwellings in Toronto\", \n",
    "    \"Year\",\n",
    "    \"Avg Monthly Shelter Costs\",\n",
    "    \"yellow\"\n",
    ")\n",
    "\n",
    "row_1 = pn.Row(line_owned, line_rented)\n",
    "avg_house_cost = pn.Column(average_house_value(), row_1)\n",
    "\n",
    "# Neighbourhood analysis\n",
    "\n",
    "row_1 = pn.Row(average_value_by_neighbourhood, number_dwelling_types)\n",
    "neighbourhood = pn.Column(row1, number_dwelling_types)\n",
    "\n",
    "all_tabs = pn.Tabs(\n",
    "        (\"Welcome\", welcome_text),\n",
    "        (\"Yearly Housing Count\", yearly_housing_count),\n",
    "        (\"Average Housing Cost\", avg_house_cost),\n",
    "        (\"Neighbourhood Analysis\", neighbourhood)\n",
    ")\n",
    "\n",
    "# Create the main dashboard\n",
    "# YOUR CODE HERE!"
   ]
  },
  {
   "cell_type": "markdown",
   "metadata": {},
   "source": [
    "## Serve the Panel Dashboard"
   ]
  },
  {
   "cell_type": "code",
   "execution_count": null,
   "metadata": {},
   "outputs": [],
   "source": [
    "dashboard.servable()"
   ]
  },
  {
   "cell_type": "markdown",
   "metadata": {},
   "source": [
    "# Debugging\n",
    "\n",
    "Note: Some of the Plotly express plots may not render in the notebook through the panel functions.\n",
    "\n",
    "However, you can test each plot by uncommenting the following code"
   ]
  },
  {
   "cell_type": "code",
   "execution_count": null,
   "metadata": {},
   "outputs": [],
   "source": [
    "# neighbourhood_map().show()"
   ]
  },
  {
   "cell_type": "code",
   "execution_count": null,
   "metadata": {},
   "outputs": [],
   "source": [
    "# create_bar_chart(data, title, xlabel, ylabel, color)\n",
    "\n",
    "# # Bar chart for 2001\n",
    "# create_bar_chart(df_dwelling_units.loc[2001], \"Dwelling Types in Toronto in 2001\", \"2001\", \"Dwelling Type Units\", \"red\")\n",
    "\n",
    "# # Bar chart for 2006\n",
    "# create_bar_chart(df_dwelling_units.loc[2006], \"Dwelling Types in Toronto in 2006\", \"2006\", \"Dwelling Type Units\", \"blue\")\n",
    "\n",
    "# # Bar chart for 2011\n",
    "# create_bar_chart(df_dwelling_units.loc[2011], \"Dwelling Types in Toronto in 2011\", \"2011\", \"Dwelling Type Units\", \"orange\")\n",
    "\n",
    "# # Bar chart for 2016\n",
    "# create_bar_chart(df_dwelling_units.loc[2016], \"Dwelling Types in Toronto in 2016\", \"2016\", \"Dwelling Type Units\", \"magenta\")"
   ]
  },
  {
   "cell_type": "code",
   "execution_count": null,
   "metadata": {},
   "outputs": [],
   "source": [
    "# create_line_chart(data, title, xlabel, ylabel, color)\n",
    "\n",
    "# # Line chart for owned dwellings\n",
    "# create_line_chart(df_avg_costs[\"shelter_costs_owned\"], \"Average Monthly Shelter Cost for Owned Dwellings in Toronto\", \"Year\", \"Avg Monthly Shelter Costs\", \"blue\")\n",
    "\n",
    "# # Line chart for rented dwellings\n",
    "# create_line_chart(df_avg_costs[\"shelter_costs_rented\"], \"Average Monthly Shelter Cost for Rented Dwellings in Toronto\", \"Year\", \"Avg Monthly Shelter Costs\", \"orange\")"
   ]
  },
  {
   "cell_type": "code",
   "execution_count": null,
   "metadata": {},
   "outputs": [],
   "source": [
    "# average_house_value()"
   ]
  },
  {
   "cell_type": "code",
   "execution_count": null,
   "metadata": {},
   "outputs": [],
   "source": [
    "# average_value_by_neighbourhood()"
   ]
  },
  {
   "cell_type": "code",
   "execution_count": null,
   "metadata": {},
   "outputs": [],
   "source": [
    "# number_dwelling_types()"
   ]
  },
  {
   "cell_type": "code",
   "execution_count": null,
   "metadata": {},
   "outputs": [],
   "source": [
    "# average_house_value_snapshot()"
   ]
  },
  {
   "cell_type": "code",
   "execution_count": null,
   "metadata": {},
   "outputs": [],
   "source": [
    "# top_most_expensive_neighbourhoods()"
   ]
  },
  {
   "cell_type": "code",
   "execution_count": null,
   "metadata": {},
   "outputs": [],
   "source": [
    "# sunburts_cost_analysis()"
   ]
  }
 ],
 "metadata": {
  "file_extension": ".py",
  "kernelspec": {
   "display_name": "Python [conda env:pyvizenv] *",
   "language": "python",
   "name": "conda-env-pyvizenv-py"
  },
  "language_info": {
   "codemirror_mode": {
    "name": "ipython",
    "version": 3
   },
   "file_extension": ".py",
   "mimetype": "text/x-python",
   "name": "python",
   "nbconvert_exporter": "python",
   "pygments_lexer": "ipython3",
   "version": "3.7.11"
  },
  "mimetype": "text/x-python",
  "name": "python",
  "npconvert_exporter": "python",
  "pygments_lexer": "ipython3",
  "version": 3
 },
 "nbformat": 4,
 "nbformat_minor": 4
}
