{
 "cells": [
  {
   "cell_type": "markdown",
   "metadata": {},
   "source": [
    "# Toronto Dwellings Analysis Dashboard\n",
    "\n",
    "In this notebook, you will compile the visualizations from the previous analysis into functions to create a Panel dashboard."
   ]
  },
  {
   "cell_type": "code",
   "execution_count": 7,
   "metadata": {},
   "outputs": [],
   "source": [
    "# imports\n",
    "import panel as pn\n",
    "pn.extension('plotly')\n",
    "import plotly.express as px\n",
    "import pandas as pd\n",
    "import hvplot.pandas\n",
    "import matplotlib.pyplot as plt\n",
    "import os\n",
    "from pathlib import Path\n",
    "from dotenv import load_dotenv"
   ]
  },
  {
   "cell_type": "code",
   "execution_count": 8,
   "metadata": {},
   "outputs": [],
   "source": [
    "# Initialize the Panel Extensions (for Plotly)\n",
    "import panel as pn\n",
    "pn.extension(\"plotly\")"
   ]
  },
  {
   "cell_type": "code",
   "execution_count": 12,
   "metadata": {},
   "outputs": [],
   "source": [
    "# Read the Mapbox API key\n",
    "load_dotenv()\n",
    "map_box_api = os.getenv(\"MAPBOX_PUBLIC_API_KEY\")\n",
    "px.set_mapbox_access_token(map_box_api)"
   ]
  },
  {
   "cell_type": "markdown",
   "metadata": {},
   "source": [
    "# Import Data"
   ]
  },
  {
   "cell_type": "code",
   "execution_count": 10,
   "metadata": {},
   "outputs": [],
   "source": [
    "# Import the CSVs to Pandas DataFrames\n",
    "file_path = Path(\"Data/toronto_neighbourhoods_census_data.csv\")\n",
    "to_data = pd.read_csv(file_path, index_col=\"year\")\n",
    "\n",
    "file_path = Path(\"Data/toronto_neighbourhoods_coordinates.csv\")\n",
    "df_neighbourhood_locations = pd.read_csv(file_path)"
   ]
  },
  {
   "cell_type": "markdown",
   "metadata": {},
   "source": [
    "- - -"
   ]
  },
  {
   "cell_type": "markdown",
   "metadata": {},
   "source": [
    "## Panel Visualizations\n",
    "\n",
    "In this section, you will copy the code for each plot type from your analysis notebook and place it into separate functions that Panel can use to create panes for the dashboard. \n",
    "\n",
    "These functions will convert the plot object to a Panel pane.\n",
    "\n",
    "Be sure to include any DataFrame transformation/manipulation code required along with the plotting code.\n",
    "\n",
    "Return a Panel pane object from each function that can be used to build the dashboard.\n",
    "\n",
    "Note: Remove any `.show()` lines from the code. We want to return the plots instead of showing them. The Panel dashboard will then display the plots."
   ]
  },
  {
   "cell_type": "markdown",
   "metadata": {},
   "source": [
    "### Global available data"
   ]
  },
  {
   "cell_type": "code",
   "execution_count": 29,
   "metadata": {},
   "outputs": [],
   "source": [
    "# Getting the data from the top 10 expensive neighbourhoods\n",
    "# Group by neightbourhood with no column filters, getting mean data, sorting by average_house_value, and then resetting index\n",
    "total_avg_house_value = to_data.groupby(\n",
    "            [to_data.loc[:, \"neighbourhood\"]]).mean().sort_values(\"average_house_value\", ascending=False).reset_index()\n",
    "# Remove all but the top 10 neighbourhoods\n",
    "total_avg_house_value_top10 = total_avg_house_value.iloc[:10]\n",
    "\n",
    "# Calculate the mean number of dwelling types units per year\n",
    "# We do not do this at any point in the analysis\n",
    "# According to the specs it doesnt actually matter what exactly is in the dashboard\n",
    "# I will use the previously made graphs and follow the given example\n",
    "# This is the number of dwelling types per year\n",
    "dwellings_list = [\"single_detached_house\", \"apartment_five_storeys_plus\", \"movable_dwelling\", \"semi_detached_house\", \n",
    "                  \"row_house\", \"duplex\", \"apartment_five_storeys_less\", \"other_house\"]\n",
    "# Group by index (year) and specify dwellings\n",
    "dwelling_units_py = to_data.groupby(to_data.index).sum().loc[:,dwellings_list]\n",
    "\n",
    "# Calculate the average monthly shelter costs for owned and rented dwellings\n",
    "shelter_costs = to_data.groupby(to_data.index).mean().loc[:,[\"shelter_costs_owned\", \"shelter_costs_rented\"]]"
   ]
  },
  {
   "cell_type": "markdown",
   "metadata": {},
   "source": [
    "### Panel Visualization Functions"
   ]
  },
  {
   "cell_type": "code",
   "execution_count": 44,
   "metadata": {},
   "outputs": [],
   "source": [
    "# Define Panel visualization functions\n",
    "def neighbourhood_map():\n",
    "    mean_values_by_neighbourhood = to_data.groupby([to_data.loc[:, \"neighbourhood\"]]).mean().reset_index()\n",
    "    \n",
    "    mean_neighbour_values_with_locations = pd.concat([df_neighbourhood_locations, mean_values_by_neighbourhood], axis=\"columns\", join=\"inner\")\n",
    "    \n",
    "    return px.scatter_mapbox(\n",
    "                mean_neighbour_values_with_locations,\n",
    "                lat='lat',\n",
    "                lon='lon',\n",
    "                color='average_house_value',\n",
    "                size='average_house_value',\n",
    "                zoom=8\n",
    ")\n",
    "    \n",
    "def create_bar_chart(data, title, xlabel, ylabel, color):\n",
    "    return data.hvplot.bar(\n",
    "        title=title, \n",
    "        xlabel=xlabel, \n",
    "        ylabel=ylabel, \n",
    "        color=color\n",
    "    ).opts(\n",
    "        # Rotate x label name 90% for visibility, format y axis to not use scientific format, and increase height so the chart\n",
    "        # doesn't look squished\n",
    "        xrotation=90, \n",
    "        yformatter=\"%.0f\",\n",
    "        frame_height = 300)\n",
    "\n",
    "def create_line_chart(data, title, xlabel, ylabel, color):\n",
    "    return data.hvplot.line(\n",
    "        title=title, \n",
    "        xlabel=xlabel, \n",
    "        ylabel=ylabel, \n",
    "        color=color\n",
    "    ).opts(\n",
    "        # Format Y to not use scientific notation and increase width so the chart doesn't look squished \n",
    "        yformatter=\"%.0f\",\n",
    "        frame_width = 500\n",
    "    )\n",
    "\n",
    "def average_house_value():\n",
    "    avg_house_value = to_data.loc[:, \"average_house_value\"].groupby(to_data.index).mean()\n",
    "    return create_line_chart(\n",
    "        avg_house_value, \n",
    "        \"Average House Value in Toronto\", \n",
    "        \"Year\",\n",
    "        \"Avg House Value\",\n",
    "        \"blue\"\n",
    "    )\n",
    "\n",
    "def average_value_by_neighbourhood():\n",
    "    avg_house_value_neighbourhood = to_data.loc[:, \"average_house_value\"].groupby(\n",
    "                                    [to_data.index, to_data.loc[:, \"neighbourhood\"]]).mean().reset_index()\n",
    "    \n",
    "    return avg_house_value_neighbourhood.hvplot.line(\n",
    "        x=\"year\",\n",
    "        y=\"average_house_value\",\n",
    "        groupby=\"neighbourhood\",\n",
    "        xlabel=\"Year\", \n",
    "        ylabel=\"Avg House Value\", \n",
    "        color=\"blue\"\n",
    "    ).opts(\n",
    "        # Format Y to not use scientific notation and increase width so the chart doesn't look squished \n",
    "        yformatter=\"%.0f\",\n",
    "        frame_width = 500,\n",
    "    )\n",
    "\n",
    "def number_dwelling_types():\n",
    "\n",
    "    dwelling_type_count_neighbourhood = to_data.loc[:, dwellings_list].groupby(\n",
    "                                    [to_data.index, to_data.loc[:, \"neighbourhood\"]]).sum().reset_index()\n",
    "    year = [\"2001\", \"2006\", \"2011\", \"2016\"]\n",
    "\n",
    "    return dwelling_type_count_neighbourhood.hvplot.bar(\n",
    "        x=\"year\",\n",
    "        groupby=\"neighbourhood\",\n",
    "        xlabel=\"Year\", \n",
    "        ylabel=\"Dwelling Type Units\"\n",
    "    ).opts(\n",
    "        # Format Y to not use scientific notation and increase width so the chart doesn't look squished \n",
    "        # Rotate x for visibility\n",
    "        xrotation = 90,\n",
    "        yformatter=\"%.0f\",\n",
    "        frame_width = 600,\n",
    "        frame_height = 300\n",
    "    )\n",
    "\n",
    "def average_house_value_snapshot():\n",
    "    \"\"\"filler\"\"\"\n",
    "    # filler\n",
    "\n",
    "def top_most_expensive_neighbourhoods():\n",
    "    # Group by neightbourhood with no column filters, getting mean data, sorting by average_house_value, and then resetting index\n",
    "    total_avg_house_value = to_data.groupby(\n",
    "                [to_data.loc[:, \"neighbourhood\"]]).mean().sort_values(\"average_house_value\", ascending=False).reset_index()\n",
    "    # Remove all but the top 10 neighbourhoods\n",
    "    total_avg_house_value_top10 = total_avg_house_value.iloc[:10]\n",
    "\n",
    "    return total_avg_house_value_top10.hvplot.bar(\n",
    "        x=\"neighbourhood\",\n",
    "        y=\"average_house_value\",\n",
    "        xlabel=\"Neighbourhood\", \n",
    "        ylabel=\"Avg House Value\",\n",
    "        title=\"Top 10 Expensive Neighbourhoods in Toronto\"\n",
    "    ).opts(\n",
    "        # Format Y to not use scientific notation and increase width so the chart doesn't look squished \n",
    "        # Rotate x for visibility\n",
    "        xrotation = 90,\n",
    "        yformatter=\"%.0f\",\n",
    "        frame_width = 600,\n",
    "        frame_height = 300\n",
    "    )\n",
    "def sunburts_cost_analysis():\n",
    "    \"\"\"Sunburst chart to conduct a costs analysis of most expensive neighbourhoods in Toronto per year.\"\"\"\n",
    "    \n",
    "    # YOUR CODE HERE!"
   ]
  },
  {
   "cell_type": "markdown",
   "metadata": {},
   "source": [
    "## Panel Dashboard\n",
    "\n",
    "In this section, you will combine all of the plots into a single dashboard view using Panel. Be creative with your dashboard design!"
   ]
  },
  {
   "cell_type": "code",
   "execution_count": 45,
   "metadata": {},
   "outputs": [],
   "source": [
    "# Create a Title for the Dashboard\n",
    "dash_title = pn.Column(\"A Graphical Analysis of Real Estate in Toronto\")\n",
    "\n",
    "# Define a welcome text\n",
    "welcome_text = pn.Column(\"\"\"This is a display of data regarding the quantity and cost of dwellings within Toronto and its \n",
    "                            neighbourhood. This data is produced using census data over the 2001-2016 period. The data is\n",
    "                            organised in tabs, which you can click through at the top of the panel\"\"\"\n",
    "                         , neighbourhood_map())\n",
    "\n",
    "# Create a tab layout for the dashboard\n",
    "\n",
    "# First tab: Yearly housing count\n",
    "# Bar chart for 2001\n",
    "df_2001 = dwelling_units_py.loc[2001]\n",
    "bar_2001 = create_bar_chart(df_2001, \"Number of dwellings by type - 2001\", \"Dwelling Type\", \"Number of Dwellings\", \"red\")\n",
    "\n",
    "# Bar chart for 2006\n",
    "df_2006 = dwelling_units_py.loc[2006]\n",
    "bar_2006 = create_bar_chart(df_2006, \"Number of dwellings by type - 2006\", \"Dwelling Type\", \"Number of Dwellings\", \"blue\")\n",
    "\n",
    "# Bar chart for 2011\n",
    "df_2011 = dwelling_units_py.loc[2011]\n",
    "bar_2011 = create_bar_chart(df_2011, \"Number of dwellings by type - 2011\", \"Dwelling Type\", \"Number of Dwellings\", \"green\")\n",
    "\n",
    "# Bar chart for 2016\n",
    "df_2016 = dwelling_units_py.loc[2016]\n",
    "bar_2016 = create_bar_chart(df_2016, \"Number of dwellings by type - 2016\", \"Dwelling Type\", \"Number of Dwellings\", \"yellow\")\n",
    "\n",
    "row_1 = pn.Row(bar_2001, bar_2006)\n",
    "row_2 = pn.Row(bar_2011, bar_2016)\n",
    "yearly_housing_count = pn.Column(row_1, row_2)\n",
    "\n",
    "#Second tab: Average house costs analysis\n",
    "df_owned = shelter_costs.loc[:,\"shelter_costs_owned\"]\n",
    "line_owned = create_line_chart(\n",
    "    df_owned, \n",
    "    \"Average Monthly Shelter Cost for Owned Dwellings in Toronto\", \n",
    "    \"Year\",\n",
    "    \"Avg Monthly Shelter Costs\",\n",
    "    \"blue\"\n",
    ")\n",
    "\n",
    "# Line chart for rented dwellings\n",
    "df_rented = shelter_costs.loc[:,\"shelter_costs_rented\"]\n",
    "line_rented = create_line_chart(\n",
    "    df_rented, \n",
    "    \"Average Monthly Shelter Cost for Rented Dwellings in Toronto\", \n",
    "    \"Year\",\n",
    "    \"Avg Monthly Shelter Costs\",\n",
    "    \"yellow\"\n",
    ")\n",
    "\n",
    "row_1 = pn.Row(line_owned, line_rented)\n",
    "avg_house_cost = pn.Column(average_house_value(), row_1)\n",
    "\n",
    "# Neighbourhood analysis\n",
    "\n",
    "row_1 = pn.Column(average_value_by_neighbourhood(), number_dwelling_types())\n",
    "neighbourhood = pn.Row(row_1, top_most_expensive_neighbourhoods())\n",
    "\n",
    "all_tabs = pn.Tabs(\n",
    "        (\"Welcome\", welcome_text),\n",
    "        (\"Yearly Housing Count\", yearly_housing_count),\n",
    "        (\"Average Housing Cost\", avg_house_cost),\n",
    "        (\"Neighbourhood Analysis\", neighbourhood)\n",
    ")\n",
    "\n",
    "# Create the main dashboard\n",
    "dashboard = pn.Column(dash_title, all_tabs)"
   ]
  },
  {
   "cell_type": "markdown",
   "metadata": {},
   "source": [
    "## Serve the Panel Dashboard"
   ]
  },
  {
   "cell_type": "code",
   "execution_count": 46,
   "metadata": {},
   "outputs": [
    {
     "data": {},
     "metadata": {},
     "output_type": "display_data"
    },
    {
     "data": {},
     "metadata": {},
     "output_type": "display_data"
    },
    {
     "data": {
      "application/vnd.holoviews_exec.v0+json": "",
      "text/html": [
       "<div id='6057'>\n",
       "\n",
       "\n",
       "\n",
       "\n",
       "\n",
       "  <div class=\"bk-root\" id=\"535e6b21-7894-4496-b93c-8abc41bcee80\" data-root-id=\"6057\"></div>\n",
       "</div>\n",
       "<script type=\"application/javascript\">(function(root) {\n",
       "  function embed_document(root) {\n",
       "    var docs_json = {\"7e1c1eab-0ffd-4e1f-8771-3b22b72bc86e\":{\"defs\":[{\"extends\":null,\"module\":null,\"name\":\"ReactiveHTML1\",\"overrides\":[],\"properties\":[]},{\"extends\":null,\"module\":null,\"name\":\"FlexBox1\",\"overrides\":[],\"properties\":[{\"default\":\"flex-start\",\"kind\":null,\"name\":\"align_content\"},{\"default\":\"flex-start\",\"kind\":null,\"name\":\"align_items\"},{\"default\":\"row\",\"kind\":null,\"name\":\"flex_direction\"},{\"default\":\"wrap\",\"kind\":null,\"name\":\"flex_wrap\"},{\"default\":\"flex-start\",\"kind\":null,\"name\":\"justify_content\"}]},{\"extends\":null,\"module\":null,\"name\":\"TemplateActions1\",\"overrides\":[],\"properties\":[{\"default\":0,\"kind\":null,\"name\":\"open_modal\"},{\"default\":0,\"kind\":null,\"name\":\"close_modal\"}]},{\"extends\":null,\"module\":null,\"name\":\"MaterialTemplateActions1\",\"overrides\":[],\"properties\":[{\"default\":0,\"kind\":null,\"name\":\"open_modal\"},{\"default\":0,\"kind\":null,\"name\":\"close_modal\"}]}],\"roots\":{\"references\":[{\"attributes\":{},\"id\":\"6283\",\"type\":\"LinearScale\"},{\"attributes\":{},\"id\":\"6495\",\"type\":\"BasicTicker\"},{\"attributes\":{\"axis_label\":\"Dwelling Type\",\"coordinates\":null,\"formatter\":{\"id\":\"6316\"},\"group\":null,\"major_label_orientation\":1.5707963267948966,\"major_label_policy\":{\"id\":\"6317\"},\"ticker\":{\"id\":\"6286\"}},\"id\":\"6285\",\"type\":\"CategoricalAxis\"},{\"attributes\":{\"fill_alpha\":{\"value\":0.1},\"fill_color\":{\"value\":\"#30a2da\"},\"hatch_alpha\":{\"value\":0.1},\"hatch_color\":{\"value\":\"#30a2da\"},\"line_alpha\":{\"value\":0.1},\"top\":{\"field\":\"average_house_value\"},\"width\":{\"value\":0.8},\"x\":{\"field\":\"neighbourhood\"}},\"id\":\"6750\",\"type\":\"VBar\"},{\"attributes\":{},\"id\":\"6599\",\"type\":\"BasicTickFormatter\"},{\"attributes\":{\"fill_alpha\":{\"value\":0.1},\"fill_color\":{\"value\":\"red\"},\"hatch_alpha\":{\"value\":0.1},\"hatch_color\":{\"value\":\"red\"},\"line_alpha\":{\"value\":0.1},\"top\":{\"field\":\"A_2001\"},\"width\":{\"value\":0.8},\"x\":{\"field\":\"index\"}},\"id\":\"6104\",\"type\":\"VBar\"},{\"attributes\":{\"line_alpha\":0.2,\"line_color\":\"yellow\",\"line_width\":2,\"x\":{\"field\":\"year\"},\"y\":{\"field\":\"shelter_costs_rented\"}},\"id\":\"6520\",\"type\":\"Line\"},{\"attributes\":{\"bottom\":{\"value\":0},\"fill_alpha\":{\"value\":1.0},\"fill_color\":{\"value\":\"red\"},\"hatch_alpha\":{\"value\":1.0},\"hatch_color\":{\"value\":\"red\"},\"hatch_scale\":{\"value\":12.0},\"hatch_weight\":{\"value\":1.0},\"line_alpha\":{\"value\":1.0},\"line_cap\":{\"value\":\"butt\"},\"line_color\":{\"value\":\"black\"},\"line_dash\":{\"value\":[]},\"line_dash_offset\":{\"value\":0},\"line_join\":{\"value\":\"bevel\"},\"line_width\":{\"value\":1},\"top\":{\"field\":\"A_2001\"},\"width\":{\"value\":0.8},\"x\":{\"field\":\"index\"}},\"id\":\"6108\",\"type\":\"VBar\"},{\"attributes\":{\"data\":{\"A_2016\":[269680,493270,95,71200,61565,48585,165575,2845],\"index\":[\"single_detached_house\",\"apartment_five_storeys_plus\",\"movable_dwelling\",\"semi_detached_house\",\"row_house\",\"duplex\",\"apartment_five_storeys_less\",\"other_house\"]},\"selected\":{\"id\":\"6306\"},\"selection_policy\":{\"id\":\"6329\"}},\"id\":\"6305\",\"type\":\"ColumnDataSource\"},{\"attributes\":{\"coordinates\":null,\"data_source\":{\"id\":\"6515\"},\"glyph\":{\"id\":\"6518\"},\"group\":null,\"hover_glyph\":null,\"muted_glyph\":{\"id\":\"6520\"},\"nonselection_glyph\":{\"id\":\"6519\"},\"selection_glyph\":{\"id\":\"6523\"},\"view\":{\"id\":\"6522\"}},\"id\":\"6521\",\"type\":\"GlyphRenderer\"},{\"attributes\":{\"bottom_units\":\"screen\",\"coordinates\":null,\"fill_alpha\":0.5,\"fill_color\":\"lightgrey\",\"group\":null,\"left_units\":\"screen\",\"level\":\"overlay\",\"line_alpha\":1.0,\"line_color\":\"black\",\"line_dash\":[4,4],\"line_width\":2,\"right_units\":\"screen\",\"syncable\":false,\"top_units\":\"screen\"},\"id\":\"6092\",\"type\":\"BoxAnnotation\"},{\"attributes\":{\"end\":417323.5,\"reset_end\":417323.5,\"reset_start\":0.0,\"tags\":[[[\"2006\",\"2006\",null]]]},\"id\":\"6137\",\"type\":\"Range1d\"},{\"attributes\":{\"axis_label\":\"Number of Dwellings\",\"coordinates\":null,\"formatter\":{\"id\":\"6246\"},\"group\":null,\"major_label_policy\":{\"id\":\"6252\"},\"ticker\":{\"id\":\"6221\"}},\"id\":\"6220\",\"type\":\"LinearAxis\"},{\"attributes\":{\"children\":[{\"id\":\"6071\"},{\"id\":\"6139\"}],\"margin\":[0,0,0,0],\"name\":\"Row13191\"},\"id\":\"6067\",\"type\":\"Row\"},{\"attributes\":{\"axis_label\":\"Neighbourhood\",\"coordinates\":null,\"formatter\":{\"id\":\"6757\"},\"group\":null,\"major_label_orientation\":1.5707963267948966,\"major_label_policy\":{\"id\":\"6758\"},\"ticker\":{\"id\":\"6727\"}},\"id\":\"6726\",\"type\":\"CategoricalAxis\"},{\"attributes\":{\"coordinates\":null,\"group\":null,\"text\":\"Average Monthly Shelter Cost for Rented Dwellings in Toronto\",\"text_color\":\"black\",\"text_font_size\":\"12pt\"},\"id\":\"6486\",\"type\":\"Title\"},{\"attributes\":{\"children\":[{\"id\":\"6554\"},{\"id\":\"6634\"}],\"margin\":[0,0,0,0],\"name\":\"Column13655\"},\"id\":\"6553\",\"type\":\"Column\"},{\"attributes\":{},\"id\":\"6306\",\"type\":\"Selection\"},{\"attributes\":{\"children\":[{\"id\":\"6067\"},{\"id\":\"6204\"}],\"margin\":[0,0,0,0],\"name\":\"Column13203\"},\"id\":\"6066\",\"type\":\"Column\"},{\"attributes\":{\"children\":[{\"id\":\"6416\"},{\"id\":\"6485\"}],\"margin\":[0,0,0,0],\"name\":\"Row13448\"},\"id\":\"6412\",\"type\":\"Row\"},{\"attributes\":{\"coordinates\":null,\"group\":null,\"text\":\"Number of dwellings by type - 2016\",\"text_color\":\"black\",\"text_font_size\":\"12pt\"},\"id\":\"6277\",\"type\":\"Title\"},{\"attributes\":{},\"id\":\"6281\",\"type\":\"CategoricalScale\"},{\"attributes\":{\"children\":[{\"id\":\"6208\"},{\"id\":\"6276\"}],\"margin\":[0,0,0,0],\"name\":\"Row13202\"},\"id\":\"6204\",\"type\":\"Row\"},{\"attributes\":{},\"id\":\"6089\",\"type\":\"WheelZoomTool\"},{\"attributes\":{\"callback\":null,\"renderers\":[{\"id\":\"6311\"}],\"tags\":[\"hv_created\"],\"tooltips\":[[\"index\",\"@{index}\"],[\"2016\",\"@{A_2016}\"]]},\"id\":\"6275\",\"type\":\"HoverTool\"},{\"attributes\":{},\"id\":\"6603\",\"type\":\"AllLabels\"},{\"attributes\":{\"format\":\"%.0f\"},\"id\":\"6597\",\"type\":\"PrintfTickFormatter\"},{\"attributes\":{\"format\":\"%.0f\"},\"id\":\"6109\",\"type\":\"PrintfTickFormatter\"},{\"attributes\":{\"callback\":null,\"renderers\":[{\"id\":\"6174\"}],\"tags\":[\"hv_created\"],\"tooltips\":[[\"index\",\"@{index}\"],[\"2006\",\"@{A_2006}\"]]},\"id\":\"6138\",\"type\":\"HoverTool\"},{\"attributes\":{\"coordinates\":null,\"group\":null,\"text\":\"Number of dwellings by type - 2006\",\"text_color\":\"black\",\"text_font_size\":\"12pt\"},\"id\":\"6140\",\"type\":\"Title\"},{\"attributes\":{\"children\":[{\"id\":\"6631\"},{\"id\":\"6633\"}],\"margin\":[0,0,0,0],\"name\":\"Column13645\"},\"id\":\"6630\",\"type\":\"Column\"},{\"attributes\":{},\"id\":\"6146\",\"type\":\"LinearScale\"},{\"attributes\":{\"end\":542587.5,\"reset_end\":542587.5,\"reset_start\":0.0,\"tags\":[[[\"2016\",\"2016\",null]]]},\"id\":\"6274\",\"type\":\"Range1d\"},{\"attributes\":{},\"id\":\"6091\",\"type\":\"ResetTool\"},{\"attributes\":{\"fill_alpha\":{\"value\":0.1},\"fill_color\":{\"value\":\"blue\"},\"hatch_alpha\":{\"value\":0.1},\"hatch_color\":{\"value\":\"blue\"},\"line_alpha\":{\"value\":0.1},\"top\":{\"field\":\"A_2006\"},\"width\":{\"value\":0.8},\"x\":{\"field\":\"index\"}},\"id\":\"6172\",\"type\":\"VBar\"},{\"attributes\":{\"callback\":null,\"renderers\":[{\"id\":\"6594\"}],\"tags\":[\"hv_created\"],\"tooltips\":[[\"year\",\"@{year}\"],[\"average_house_value\",\"@{average_house_value}\"]]},\"id\":\"6557\",\"type\":\"HoverTool\"},{\"attributes\":{\"coordinates\":null,\"data_source\":{\"id\":\"6100\"},\"glyph\":{\"id\":\"6103\"},\"group\":null,\"hover_glyph\":null,\"muted_glyph\":{\"id\":\"6105\"},\"nonselection_glyph\":{\"id\":\"6104\"},\"selection_glyph\":{\"id\":\"6108\"},\"view\":{\"id\":\"6107\"}},\"id\":\"6106\",\"type\":\"GlyphRenderer\"},{\"attributes\":{},\"id\":\"6724\",\"type\":\"LinearScale\"},{\"attributes\":{\"axis_label\":\"Avg House Value\",\"coordinates\":null,\"formatter\":{\"id\":\"6597\"},\"group\":null,\"major_label_policy\":{\"id\":\"6603\"},\"ticker\":{\"id\":\"6572\"}},\"id\":\"6571\",\"type\":\"LinearAxis\"},{\"attributes\":{\"overlay\":{\"id\":\"6092\"}},\"id\":\"6090\",\"type\":\"BoxZoomTool\"},{\"attributes\":{\"tools\":[{\"id\":\"6070\"},{\"id\":\"6087\"},{\"id\":\"6088\"},{\"id\":\"6089\"},{\"id\":\"6090\"},{\"id\":\"6091\"}]},\"id\":\"6093\",\"type\":\"Toolbar\"},{\"attributes\":{},\"id\":\"6618\",\"type\":\"UnionRenderers\"},{\"attributes\":{\"fill_color\":{\"value\":\"blue\"},\"hatch_color\":{\"value\":\"blue\"},\"top\":{\"field\":\"A_2006\"},\"width\":{\"value\":0.8},\"x\":{\"field\":\"index\"}},\"id\":\"6171\",\"type\":\"VBar\"},{\"attributes\":{\"source\":{\"id\":\"6515\"}},\"id\":\"6522\",\"type\":\"CDSView\"},{\"attributes\":{},\"id\":\"6180\",\"type\":\"AllLabels\"},{\"attributes\":{},\"id\":\"6572\",\"type\":\"BasicTicker\"},{\"attributes\":{},\"id\":\"6490\",\"type\":\"LinearScale\"},{\"attributes\":{\"children\":[{\"id\":\"6058\"},{\"id\":\"6060\"}],\"margin\":[0,0,0,0],\"name\":\"Column13791\"},\"id\":\"6057\",\"type\":\"Column\"},{\"attributes\":{\"fill_alpha\":{\"value\":0.2},\"fill_color\":{\"value\":\"red\"},\"hatch_alpha\":{\"value\":0.2},\"hatch_color\":{\"value\":\"red\"},\"line_alpha\":{\"value\":0.2},\"top\":{\"field\":\"A_2001\"},\"width\":{\"value\":0.8},\"x\":{\"field\":\"index\"}},\"id\":\"6105\",\"type\":\"VBar\"},{\"attributes\":{},\"id\":\"6499\",\"type\":\"BasicTicker\"},{\"attributes\":{\"axis_label\":\"Dwelling Type\",\"coordinates\":null,\"formatter\":{\"id\":\"6179\"},\"group\":null,\"major_label_orientation\":1.5707963267948966,\"major_label_policy\":{\"id\":\"6180\"},\"ticker\":{\"id\":\"6149\"}},\"id\":\"6148\",\"type\":\"CategoricalAxis\"},{\"attributes\":{\"line_alpha\":0.1,\"line_color\":\"yellow\",\"line_width\":2,\"x\":{\"field\":\"year\"},\"y\":{\"field\":\"shelter_costs_rented\"}},\"id\":\"6519\",\"type\":\"Line\"},{\"attributes\":{},\"id\":\"6115\",\"type\":\"AllLabels\"},{\"attributes\":{},\"id\":\"6087\",\"type\":\"SaveTool\"},{\"attributes\":{\"axis\":{\"id\":\"6148\"},\"coordinates\":null,\"grid_line_color\":null,\"group\":null,\"ticker\":null},\"id\":\"6150\",\"type\":\"Grid\"},{\"attributes\":{\"axis\":{\"id\":\"6498\"},\"coordinates\":null,\"dimension\":1,\"grid_line_color\":null,\"group\":null,\"ticker\":null},\"id\":\"6501\",\"type\":\"Grid\"},{\"attributes\":{\"data\":{\"A_2011\":[274940,429220,100,72480,60355,44750,163895,2165],\"index\":[\"single_detached_house\",\"apartment_five_storeys_plus\",\"movable_dwelling\",\"semi_detached_house\",\"row_house\",\"duplex\",\"apartment_five_storeys_less\",\"other_house\"]},\"selected\":{\"id\":\"6238\"},\"selection_policy\":{\"id\":\"6261\"}},\"id\":\"6237\",\"type\":\"ColumnDataSource\"},{\"attributes\":{\"line_color\":\"yellow\",\"line_width\":2,\"x\":{\"field\":\"year\"},\"y\":{\"field\":\"shelter_costs_rented\"}},\"id\":\"6518\",\"type\":\"Line\"},{\"attributes\":{},\"id\":\"6088\",\"type\":\"PanTool\"},{\"attributes\":{\"axis_label\":\"Year\",\"coordinates\":null,\"formatter\":{\"id\":\"6526\"},\"group\":null,\"major_label_policy\":{\"id\":\"6527\"},\"ticker\":{\"id\":\"6495\"}},\"id\":\"6494\",\"type\":\"LinearAxis\"},{\"attributes\":{},\"id\":\"6144\",\"type\":\"CategoricalScale\"},{\"attributes\":{\"axis_label\":\"Avg Monthly Shelter Costs\",\"coordinates\":null,\"formatter\":{\"id\":\"6524\"},\"group\":null,\"major_label_policy\":{\"id\":\"6530\"},\"ticker\":{\"id\":\"6499\"}},\"id\":\"6498\",\"type\":\"LinearAxis\"},{\"attributes\":{},\"id\":\"6112\",\"type\":\"AllLabels\"},{\"attributes\":{\"format\":\"%.0f\"},\"id\":\"6314\",\"type\":\"PrintfTickFormatter\"},{\"attributes\":{},\"id\":\"6492\",\"type\":\"LinearScale\"},{\"attributes\":{},\"id\":\"6149\",\"type\":\"CategoricalTicker\"},{\"attributes\":{},\"id\":\"6111\",\"type\":\"CategoricalTickFormatter\"},{\"attributes\":{\"fill_alpha\":{\"value\":0.2},\"fill_color\":{\"value\":\"blue\"},\"hatch_alpha\":{\"value\":0.2},\"hatch_color\":{\"value\":\"blue\"},\"line_alpha\":{\"value\":0.2},\"top\":{\"field\":\"A_2006\"},\"width\":{\"value\":0.8},\"x\":{\"field\":\"index\"}},\"id\":\"6173\",\"type\":\"VBar\"},{\"attributes\":{\"data\":{\"shelter_costs_owned\":{\"__ndarray__\":\"UAd1UAd3ikAzMzMzM5OUQG7btm3boJZA1EEd1EGFm0A=\",\"dtype\":\"float64\",\"order\":\"little\",\"shape\":[4]},\"year\":[2001,2006,2011,2016]},\"selected\":{\"id\":\"6447\"},\"selection_policy\":{\"id\":\"6470\"}},\"id\":\"6446\",\"type\":\"ColumnDataSource\"},{\"attributes\":{\"fill_color\":{\"field\":\"Variable\",\"transform\":{\"id\":\"6667\"}},\"hatch_color\":{\"field\":\"Variable\",\"transform\":{\"id\":\"6667\"}},\"top\":{\"field\":\"value\"},\"width\":{\"value\":0.8},\"x\":{\"field\":\"xoffsets\"}},\"id\":\"6671\",\"type\":\"VBar\"},{\"attributes\":{\"axis\":{\"id\":\"6494\"},\"coordinates\":null,\"grid_line_color\":null,\"group\":null,\"ticker\":null},\"id\":\"6497\",\"type\":\"Grid\"},{\"attributes\":{\"source\":{\"id\":\"6305\"}},\"id\":\"6312\",\"type\":\"CDSView\"},{\"attributes\":{},\"id\":\"6169\",\"type\":\"Selection\"},{\"attributes\":{\"bottom_units\":\"screen\",\"coordinates\":null,\"fill_alpha\":0.5,\"fill_color\":\"lightgrey\",\"group\":null,\"left_units\":\"screen\",\"level\":\"overlay\",\"line_alpha\":1.0,\"line_color\":\"black\",\"line_dash\":[4,4],\"line_width\":2,\"right_units\":\"screen\",\"syncable\":false,\"top_units\":\"screen\"},\"id\":\"6738\",\"type\":\"BoxAnnotation\"},{\"attributes\":{},\"id\":\"6377\",\"type\":\"Selection\"},{\"attributes\":{\"line_alpha\":0.2,\"line_color\":\"blue\",\"line_width\":2,\"x\":{\"field\":\"year\"},\"y\":{\"field\":\"average_house_value\"}},\"id\":\"6593\",\"type\":\"Line\"},{\"attributes\":{\"children\":[{\"id\":\"6346\"},{\"id\":\"6412\"}],\"margin\":[0,0,0,0],\"name\":\"Column13571\"},\"id\":\"6342\",\"type\":\"Column\"},{\"attributes\":{},\"id\":\"6183\",\"type\":\"AllLabels\"},{\"attributes\":{},\"id\":\"6435\",\"type\":\"WheelZoomTool\"},{\"attributes\":{\"children\":[{\"id\":\"6632\"}],\"css_classes\":[\"panel-widget-box\"],\"margin\":[5,5,5,5],\"name\":\"WidgetBox13639\"},\"id\":\"6631\",\"type\":\"Column\"},{\"attributes\":{},\"id\":\"6576\",\"type\":\"PanTool\"},{\"attributes\":{\"data\":{\"Variable\":[\"single_detached_house\",\"single_detached_house\",\"single_detached_house\",\"single_detached_house\",\"apartment_five_storeys_plus\",\"apartment_five_storeys_plus\",\"apartment_five_storeys_plus\",\"apartment_five_storeys_plus\",\"movable_dwelling\",\"movable_dwelling\",\"movable_dwelling\",\"movable_dwelling\",\"semi_detached_house\",\"semi_detached_house\",\"semi_detached_house\",\"semi_detached_house\",\"row_house\",\"row_house\",\"row_house\",\"row_house\",\"duplex\",\"duplex\",\"duplex\",\"duplex\",\"apartment_five_storeys_less\",\"apartment_five_storeys_less\",\"apartment_five_storeys_less\",\"apartment_five_storeys_less\",\"other_house\",\"other_house\",\"other_house\",\"other_house\"],\"value\":[3715,3295,3385,3345,1480,2060,2130,2120,0,0,5,5,1055,775,820,805,1295,1425,1465,1440,195,600,610,645,185,565,705,735,5,0,20,15],\"xoffsets\":[[\"2001\",\"single_detached_house\"],[\"2006\",\"single_detached_house\"],[\"2011\",\"single_detached_house\"],[\"2016\",\"single_detached_house\"],[\"2001\",\"apartment_five_storeys_plus\"],[\"2006\",\"apartment_five_storeys_plus\"],[\"2011\",\"apartment_five_storeys_plus\"],[\"2016\",\"apartment_five_storeys_plus\"],[\"2001\",\"movable_dwelling\"],[\"2006\",\"movable_dwelling\"],[\"2011\",\"movable_dwelling\"],[\"2016\",\"movable_dwelling\"],[\"2001\",\"semi_detached_house\"],[\"2006\",\"semi_detached_house\"],[\"2011\",\"semi_detached_house\"],[\"2016\",\"semi_detached_house\"],[\"2001\",\"row_house\"],[\"2006\",\"row_house\"],[\"2011\",\"row_house\"],[\"2016\",\"row_house\"],[\"2001\",\"duplex\"],[\"2006\",\"duplex\"],[\"2011\",\"duplex\"],[\"2016\",\"duplex\"],[\"2001\",\"apartment_five_storeys_less\"],[\"2006\",\"apartment_five_storeys_less\"],[\"2011\",\"apartment_five_storeys_less\"],[\"2016\",\"apartment_five_storeys_less\"],[\"2001\",\"other_house\"],[\"2006\",\"other_house\"],[\"2011\",\"other_house\"],[\"2016\",\"other_house\"]],\"year\":[\"2001\",\"2006\",\"2011\",\"2016\",\"2001\",\"2006\",\"2011\",\"2016\",\"2001\",\"2006\",\"2011\",\"2016\",\"2001\",\"2006\",\"2011\",\"2016\",\"2001\",\"2006\",\"2011\",\"2016\",\"2001\",\"2006\",\"2011\",\"2016\",\"2001\",\"2006\",\"2011\",\"2016\",\"2001\",\"2006\",\"2011\",\"2016\"]},\"selected\":{\"id\":\"6669\"},\"selection_policy\":{\"id\":\"6698\"}},\"id\":\"6668\",\"type\":\"ColumnDataSource\"},{\"attributes\":{},\"id\":\"6159\",\"type\":\"ResetTool\"},{\"attributes\":{\"children\":[{\"id\":\"6711\"},{\"id\":\"6713\"}],\"margin\":[0,0,0,0],\"name\":\"Column13654\"},\"id\":\"6710\",\"type\":\"Column\"},{\"attributes\":{\"children\":[{\"id\":\"6558\"},{\"id\":\"6630\"}],\"margin\":[0,0,0,0],\"name\":\"Row13638\"},\"id\":\"6554\",\"type\":\"Row\"},{\"attributes\":{\"coordinates\":null,\"data_source\":{\"id\":\"6168\"},\"glyph\":{\"id\":\"6171\"},\"group\":null,\"hover_glyph\":null,\"muted_glyph\":{\"id\":\"6173\"},\"nonselection_glyph\":{\"id\":\"6172\"},\"selection_glyph\":{\"id\":\"6176\"},\"view\":{\"id\":\"6175\"}},\"id\":\"6174\",\"type\":\"GlyphRenderer\"},{\"attributes\":{},\"id\":\"6156\",\"type\":\"PanTool\"},{\"attributes\":{\"margin\":[5,5,5,5],\"name\":\"VSpacer13644\",\"sizing_mode\":\"stretch_height\"},\"id\":\"6633\",\"type\":\"Spacer\"},{\"attributes\":{},\"id\":\"6758\",\"type\":\"AllLabels\"},{\"attributes\":{\"data\":[{\"hovertemplate\":\"average_house_value=%{marker.color}<br>lat=%{lat}<br>lon=%{lon}<extra></extra>\",\"legendgroup\":\"\",\"marker\":{\"coloraxis\":\"coloraxis\",\"sizemode\":\"area\",\"sizeref\":3816.214375},\"mode\":\"markers\",\"name\":\"\",\"showlegend\":false,\"subplot\":\"mapbox\",\"type\":\"scattermapbox\"}],\"data_sources\":[{\"id\":\"6063\"}],\"layout\":{\"coloraxis\":{\"colorbar\":{\"title\":{\"text\":\"average_house_value\"}},\"colorscale\":[[0.0,\"#0d0887\"],[0.1111111111111111,\"#46039f\"],[0.2222222222222222,\"#7201a8\"],[0.3333333333333333,\"#9c179e\"],[0.4444444444444444,\"#bd3786\"],[0.5555555555555556,\"#d8576b\"],[0.6666666666666666,\"#ed7953\"],[0.7777777777777778,\"#fb9f3a\"],[0.8888888888888888,\"#fdca26\"],[1.0,\"#f0f921\"]]},\"legend\":{\"itemsizing\":\"constant\",\"tracegroupgap\":0},\"mapbox\":{\"accesstoken\":\"pk.eyJ1IjoiYmVsbHlmbG9wIiwiYSI6ImNreXowaDI3bjB2dDIybnFrOXR0bTl2YTQifQ.Grtljl_gDcKPV_JFMvJ78Q\",\"center\":{\"lat\":43.708840577642846,\"lon\":-79.4001855035},\"domain\":{\"x\":[0.0,1.0],\"y\":[0.0,1.0]},\"zoom\":8},\"margin\":{\"t\":60},\"template\":{\"data\":{\"bar\":[{\"error_x\":{\"color\":\"#2a3f5f\"},\"error_y\":{\"color\":\"#2a3f5f\"},\"marker\":{\"line\":{\"color\":\"#E5ECF6\",\"width\":0.5},\"pattern\":{\"fillmode\":\"overlay\",\"size\":10,\"solidity\":0.2}},\"type\":\"bar\"}],\"barpolar\":[{\"marker\":{\"line\":{\"color\":\"#E5ECF6\",\"width\":0.5},\"pattern\":{\"fillmode\":\"overlay\",\"size\":10,\"solidity\":0.2}},\"type\":\"barpolar\"}],\"carpet\":[{\"aaxis\":{\"endlinecolor\":\"#2a3f5f\",\"gridcolor\":\"white\",\"linecolor\":\"white\",\"minorgridcolor\":\"white\",\"startlinecolor\":\"#2a3f5f\"},\"baxis\":{\"endlinecolor\":\"#2a3f5f\",\"gridcolor\":\"white\",\"linecolor\":\"white\",\"minorgridcolor\":\"white\",\"startlinecolor\":\"#2a3f5f\"},\"type\":\"carpet\"}],\"choropleth\":[{\"colorbar\":{\"outlinewidth\":0,\"ticks\":\"\"},\"type\":\"choropleth\"}],\"contour\":[{\"colorbar\":{\"outlinewidth\":0,\"ticks\":\"\"},\"colorscale\":[[0.0,\"#0d0887\"],[0.1111111111111111,\"#46039f\"],[0.2222222222222222,\"#7201a8\"],[0.3333333333333333,\"#9c179e\"],[0.4444444444444444,\"#bd3786\"],[0.5555555555555556,\"#d8576b\"],[0.6666666666666666,\"#ed7953\"],[0.7777777777777778,\"#fb9f3a\"],[0.8888888888888888,\"#fdca26\"],[1.0,\"#f0f921\"]],\"type\":\"contour\"}],\"contourcarpet\":[{\"colorbar\":{\"outlinewidth\":0,\"ticks\":\"\"},\"type\":\"contourcarpet\"}],\"heatmap\":[{\"colorbar\":{\"outlinewidth\":0,\"ticks\":\"\"},\"colorscale\":[[0.0,\"#0d0887\"],[0.1111111111111111,\"#46039f\"],[0.2222222222222222,\"#7201a8\"],[0.3333333333333333,\"#9c179e\"],[0.4444444444444444,\"#bd3786\"],[0.5555555555555556,\"#d8576b\"],[0.6666666666666666,\"#ed7953\"],[0.7777777777777778,\"#fb9f3a\"],[0.8888888888888888,\"#fdca26\"],[1.0,\"#f0f921\"]],\"type\":\"heatmap\"}],\"heatmapgl\":[{\"colorbar\":{\"outlinewidth\":0,\"ticks\":\"\"},\"colorscale\":[[0.0,\"#0d0887\"],[0.1111111111111111,\"#46039f\"],[0.2222222222222222,\"#7201a8\"],[0.3333333333333333,\"#9c179e\"],[0.4444444444444444,\"#bd3786\"],[0.5555555555555556,\"#d8576b\"],[0.6666666666666666,\"#ed7953\"],[0.7777777777777778,\"#fb9f3a\"],[0.8888888888888888,\"#fdca26\"],[1.0,\"#f0f921\"]],\"type\":\"heatmapgl\"}],\"histogram\":[{\"marker\":{\"pattern\":{\"fillmode\":\"overlay\",\"size\":10,\"solidity\":0.2}},\"type\":\"histogram\"}],\"histogram2d\":[{\"colorbar\":{\"outlinewidth\":0,\"ticks\":\"\"},\"colorscale\":[[0.0,\"#0d0887\"],[0.1111111111111111,\"#46039f\"],[0.2222222222222222,\"#7201a8\"],[0.3333333333333333,\"#9c179e\"],[0.4444444444444444,\"#bd3786\"],[0.5555555555555556,\"#d8576b\"],[0.6666666666666666,\"#ed7953\"],[0.7777777777777778,\"#fb9f3a\"],[0.8888888888888888,\"#fdca26\"],[1.0,\"#f0f921\"]],\"type\":\"histogram2d\"}],\"histogram2dcontour\":[{\"colorbar\":{\"outlinewidth\":0,\"ticks\":\"\"},\"colorscale\":[[0.0,\"#0d0887\"],[0.1111111111111111,\"#46039f\"],[0.2222222222222222,\"#7201a8\"],[0.3333333333333333,\"#9c179e\"],[0.4444444444444444,\"#bd3786\"],[0.5555555555555556,\"#d8576b\"],[0.6666666666666666,\"#ed7953\"],[0.7777777777777778,\"#fb9f3a\"],[0.8888888888888888,\"#fdca26\"],[1.0,\"#f0f921\"]],\"type\":\"histogram2dcontour\"}],\"mesh3d\":[{\"colorbar\":{\"outlinewidth\":0,\"ticks\":\"\"},\"type\":\"mesh3d\"}],\"parcoords\":[{\"line\":{\"colorbar\":{\"outlinewidth\":0,\"ticks\":\"\"}},\"type\":\"parcoords\"}],\"pie\":[{\"automargin\":true,\"type\":\"pie\"}],\"scatter\":[{\"marker\":{\"colorbar\":{\"outlinewidth\":0,\"ticks\":\"\"}},\"type\":\"scatter\"}],\"scatter3d\":[{\"line\":{\"colorbar\":{\"outlinewidth\":0,\"ticks\":\"\"}},\"marker\":{\"colorbar\":{\"outlinewidth\":0,\"ticks\":\"\"}},\"type\":\"scatter3d\"}],\"scattercarpet\":[{\"marker\":{\"colorbar\":{\"outlinewidth\":0,\"ticks\":\"\"}},\"type\":\"scattercarpet\"}],\"scattergeo\":[{\"marker\":{\"colorbar\":{\"outlinewidth\":0,\"ticks\":\"\"}},\"type\":\"scattergeo\"}],\"scattergl\":[{\"marker\":{\"colorbar\":{\"outlinewidth\":0,\"ticks\":\"\"}},\"type\":\"scattergl\"}],\"scattermapbox\":[{\"marker\":{\"colorbar\":{\"outlinewidth\":0,\"ticks\":\"\"}},\"type\":\"scattermapbox\"}],\"scatterpolar\":[{\"marker\":{\"colorbar\":{\"outlinewidth\":0,\"ticks\":\"\"}},\"type\":\"scatterpolar\"}],\"scatterpolargl\":[{\"marker\":{\"colorbar\":{\"outlinewidth\":0,\"ticks\":\"\"}},\"type\":\"scatterpolargl\"}],\"scatterternary\":[{\"marker\":{\"colorbar\":{\"outlinewidth\":0,\"ticks\":\"\"}},\"type\":\"scatterternary\"}],\"surface\":[{\"colorbar\":{\"outlinewidth\":0,\"ticks\":\"\"},\"colorscale\":[[0.0,\"#0d0887\"],[0.1111111111111111,\"#46039f\"],[0.2222222222222222,\"#7201a8\"],[0.3333333333333333,\"#9c179e\"],[0.4444444444444444,\"#bd3786\"],[0.5555555555555556,\"#d8576b\"],[0.6666666666666666,\"#ed7953\"],[0.7777777777777778,\"#fb9f3a\"],[0.8888888888888888,\"#fdca26\"],[1.0,\"#f0f921\"]],\"type\":\"surface\"}],\"table\":[{\"cells\":{\"fill\":{\"color\":\"#EBF0F8\"},\"line\":{\"color\":\"white\"}},\"header\":{\"fill\":{\"color\":\"#C8D4E3\"},\"line\":{\"color\":\"white\"}},\"type\":\"table\"}]},\"layout\":{\"annotationdefaults\":{\"arrowcolor\":\"#2a3f5f\",\"arrowhead\":0,\"arrowwidth\":1},\"autotypenumbers\":\"strict\",\"coloraxis\":{\"colorbar\":{\"outlinewidth\":0,\"ticks\":\"\"}},\"colorscale\":{\"diverging\":[[0,\"#8e0152\"],[0.1,\"#c51b7d\"],[0.2,\"#de77ae\"],[0.3,\"#f1b6da\"],[0.4,\"#fde0ef\"],[0.5,\"#f7f7f7\"],[0.6,\"#e6f5d0\"],[0.7,\"#b8e186\"],[0.8,\"#7fbc41\"],[0.9,\"#4d9221\"],[1,\"#276419\"]],\"sequential\":[[0.0,\"#0d0887\"],[0.1111111111111111,\"#46039f\"],[0.2222222222222222,\"#7201a8\"],[0.3333333333333333,\"#9c179e\"],[0.4444444444444444,\"#bd3786\"],[0.5555555555555556,\"#d8576b\"],[0.6666666666666666,\"#ed7953\"],[0.7777777777777778,\"#fb9f3a\"],[0.8888888888888888,\"#fdca26\"],[1.0,\"#f0f921\"]],\"sequentialminus\":[[0.0,\"#0d0887\"],[0.1111111111111111,\"#46039f\"],[0.2222222222222222,\"#7201a8\"],[0.3333333333333333,\"#9c179e\"],[0.4444444444444444,\"#bd3786\"],[0.5555555555555556,\"#d8576b\"],[0.6666666666666666,\"#ed7953\"],[0.7777777777777778,\"#fb9f3a\"],[0.8888888888888888,\"#fdca26\"],[1.0,\"#f0f921\"]]},\"colorway\":[\"#636efa\",\"#EF553B\",\"#00cc96\",\"#ab63fa\",\"#FFA15A\",\"#19d3f3\",\"#FF6692\",\"#B6E880\",\"#FF97FF\",\"#FECB52\"],\"font\":{\"color\":\"#2a3f5f\"},\"geo\":{\"bgcolor\":\"white\",\"lakecolor\":\"white\",\"landcolor\":\"#E5ECF6\",\"showlakes\":true,\"showland\":true,\"subunitcolor\":\"white\"},\"hoverlabel\":{\"align\":\"left\"},\"hovermode\":\"closest\",\"mapbox\":{\"style\":\"light\"},\"paper_bgcolor\":\"white\",\"plot_bgcolor\":\"#E5ECF6\",\"polar\":{\"angularaxis\":{\"gridcolor\":\"white\",\"linecolor\":\"white\",\"ticks\":\"\"},\"bgcolor\":\"#E5ECF6\",\"radialaxis\":{\"gridcolor\":\"white\",\"linecolor\":\"white\",\"ticks\":\"\"}},\"scene\":{\"xaxis\":{\"backgroundcolor\":\"#E5ECF6\",\"gridcolor\":\"white\",\"gridwidth\":2,\"linecolor\":\"white\",\"showbackground\":true,\"ticks\":\"\",\"zerolinecolor\":\"white\"},\"yaxis\":{\"backgroundcolor\":\"#E5ECF6\",\"gridcolor\":\"white\",\"gridwidth\":2,\"linecolor\":\"white\",\"showbackground\":true,\"ticks\":\"\",\"zerolinecolor\":\"white\"},\"zaxis\":{\"backgroundcolor\":\"#E5ECF6\",\"gridcolor\":\"white\",\"gridwidth\":2,\"linecolor\":\"white\",\"showbackground\":true,\"ticks\":\"\",\"zerolinecolor\":\"white\"}},\"shapedefaults\":{\"line\":{\"color\":\"#2a3f5f\"}},\"ternary\":{\"aaxis\":{\"gridcolor\":\"white\",\"linecolor\":\"white\",\"ticks\":\"\"},\"baxis\":{\"gridcolor\":\"white\",\"linecolor\":\"white\",\"ticks\":\"\"},\"bgcolor\":\"#E5ECF6\",\"caxis\":{\"gridcolor\":\"white\",\"linecolor\":\"white\",\"ticks\":\"\"}},\"title\":{\"x\":0.05},\"xaxis\":{\"automargin\":true,\"gridcolor\":\"white\",\"linecolor\":\"white\",\"ticks\":\"\",\"title\":{\"standoff\":15},\"zerolinecolor\":\"white\",\"zerolinewidth\":2},\"yaxis\":{\"automargin\":true,\"gridcolor\":\"white\",\"linecolor\":\"white\",\"ticks\":\"\",\"title\":{\"standoff\":15},\"zerolinecolor\":\"white\",\"zerolinewidth\":2}}}},\"margin\":[5,5,5,5],\"name\":\"Plotly12714\",\"viewport_update_throttle\":200},\"id\":\"6064\",\"type\":\"panel.models.plotly.PlotlyPlot\"},{\"attributes\":{},\"id\":\"6155\",\"type\":\"SaveTool\"},{\"attributes\":{\"coordinates\":null,\"data_source\":{\"id\":\"6588\"},\"glyph\":{\"id\":\"6591\"},\"group\":null,\"hover_glyph\":null,\"muted_glyph\":{\"id\":\"6593\"},\"nonselection_glyph\":{\"id\":\"6592\"},\"selection_glyph\":{\"id\":\"6596\"},\"view\":{\"id\":\"6595\"}},\"id\":\"6594\",\"type\":\"GlyphRenderer\"},{\"attributes\":{},\"id\":\"6568\",\"type\":\"BasicTicker\"},{\"attributes\":{\"axis_label\":\"Number of Dwellings\",\"coordinates\":null,\"formatter\":{\"id\":\"6177\"},\"group\":null,\"major_label_policy\":{\"id\":\"6183\"},\"ticker\":{\"id\":\"6152\"}},\"id\":\"6151\",\"type\":\"LinearAxis\"},{\"attributes\":{\"source\":{\"id\":\"6588\"}},\"id\":\"6595\",\"type\":\"CDSView\"},{\"attributes\":{},\"id\":\"6124\",\"type\":\"UnionRenderers\"},{\"attributes\":{\"bottom\":{\"value\":0},\"fill_alpha\":{\"value\":1.0},\"fill_color\":{\"value\":\"blue\"},\"hatch_alpha\":{\"value\":1.0},\"hatch_color\":{\"value\":\"blue\"},\"hatch_scale\":{\"value\":12.0},\"hatch_weight\":{\"value\":1.0},\"line_alpha\":{\"value\":1.0},\"line_cap\":{\"value\":\"butt\"},\"line_color\":{\"value\":\"black\"},\"line_dash\":{\"value\":[]},\"line_dash_offset\":{\"value\":0},\"line_join\":{\"value\":\"bevel\"},\"line_width\":{\"value\":1},\"top\":{\"field\":\"A_2006\"},\"width\":{\"value\":0.8},\"x\":{\"field\":\"index\"}},\"id\":\"6176\",\"type\":\"VBar\"},{\"attributes\":{\"css_classes\":[\"markdown\"],\"margin\":[5,5,5,5],\"name\":\"Markdown12712\",\"text\":\"&lt;p&gt;This is a display of data regarding the quantity and cost of dwellings within Toronto and its \\n                            neighbourhood. This data is produced using census data over the 2001-2016 period. The data is\\n                            organised in tabs, which you can click through at the top of the panel&lt;/p&gt;\"},\"id\":\"6062\",\"type\":\"panel.models.markup.HTML\"},{\"attributes\":{},\"id\":\"6563\",\"type\":\"LinearScale\"},{\"attributes\":{\"tools\":[{\"id\":\"6138\"},{\"id\":\"6155\"},{\"id\":\"6156\"},{\"id\":\"6157\"},{\"id\":\"6158\"},{\"id\":\"6159\"}]},\"id\":\"6161\",\"type\":\"Toolbar\"},{\"attributes\":{\"format\":\"%.0f\"},\"id\":\"6755\",\"type\":\"PrintfTickFormatter\"},{\"attributes\":{\"data\":{\"average_house_value\":{\"__ndarray__\":\"AAAAACB2CEEAAAAAUOQRQQAAAAAsYRZBAAAAAKwEHEE=\",\"dtype\":\"float64\",\"order\":\"little\",\"shape\":[4]},\"year\":[2001,2006,2011,2016]},\"selected\":{\"id\":\"6589\"},\"selection_policy\":{\"id\":\"6618\"}},\"id\":\"6588\",\"type\":\"ColumnDataSource\"},{\"attributes\":{},\"id\":\"6761\",\"type\":\"AllLabels\"},{\"attributes\":{\"axis\":{\"id\":\"6151\"},\"coordinates\":null,\"dimension\":1,\"grid_line_color\":null,\"group\":null,\"ticker\":null},\"id\":\"6154\",\"type\":\"Grid\"},{\"attributes\":{\"tools\":[{\"id\":\"6207\"},{\"id\":\"6224\"},{\"id\":\"6225\"},{\"id\":\"6226\"},{\"id\":\"6227\"},{\"id\":\"6228\"}]},\"id\":\"6230\",\"type\":\"Toolbar\"},{\"attributes\":{},\"id\":\"6679\",\"type\":\"CategoricalTickFormatter\"},{\"attributes\":{\"bottom_units\":\"screen\",\"coordinates\":null,\"fill_alpha\":0.5,\"fill_color\":\"lightgrey\",\"group\":null,\"left_units\":\"screen\",\"level\":\"overlay\",\"line_alpha\":1.0,\"line_color\":\"black\",\"line_dash\":[4,4],\"line_width\":2,\"right_units\":\"screen\",\"syncable\":false,\"top_units\":\"screen\"},\"id\":\"6580\",\"type\":\"BoxAnnotation\"},{\"attributes\":{\"bottom_units\":\"screen\",\"coordinates\":null,\"fill_alpha\":0.5,\"fill_color\":\"lightgrey\",\"group\":null,\"left_units\":\"screen\",\"level\":\"overlay\",\"line_alpha\":1.0,\"line_color\":\"black\",\"line_dash\":[4,4],\"line_width\":2,\"right_units\":\"screen\",\"syncable\":false,\"top_units\":\"screen\"},\"id\":\"6160\",\"type\":\"BoxAnnotation\"},{\"attributes\":{\"css_classes\":[\"markdown\"],\"margin\":[5,5,5,5],\"name\":\"Markdown12709\",\"text\":\"&lt;p&gt;A Graphical Analysis of Real Estate in Toronto&lt;/p&gt;\"},\"id\":\"6059\",\"type\":\"panel.models.markup.HTML\"},{\"attributes\":{},\"id\":\"6157\",\"type\":\"WheelZoomTool\"},{\"attributes\":{\"coordinates\":null,\"group\":null,\"text\":\"Top 10 Expensive Neighbourhoods in Toronto\",\"text_color\":\"black\",\"text_font_size\":\"12pt\"},\"id\":\"6718\",\"type\":\"Title\"},{\"attributes\":{\"format\":\"%.0f\"},\"id\":\"6177\",\"type\":\"PrintfTickFormatter\"},{\"attributes\":{\"line_color\":\"blue\",\"line_width\":2,\"x\":{\"field\":\"year\"},\"y\":{\"field\":\"average_house_value\"}},\"id\":\"6591\",\"type\":\"Line\"},{\"attributes\":{\"overlay\":{\"id\":\"6160\"}},\"id\":\"6158\",\"type\":\"BoxZoomTool\"},{\"attributes\":{\"line_alpha\":0.1,\"line_color\":\"blue\",\"line_width\":2,\"x\":{\"field\":\"year\"},\"y\":{\"field\":\"average_house_value\"}},\"id\":\"6592\",\"type\":\"Line\"},{\"attributes\":{\"callback\":null,\"renderers\":[{\"id\":\"6752\"}],\"tags\":[\"hv_created\"],\"tooltips\":[[\"neighbourhood\",\"@{neighbourhood}\"],[\"average_house_value\",\"@{average_house_value}\"]]},\"id\":\"6716\",\"type\":\"HoverTool\"},{\"attributes\":{\"axis\":{\"id\":\"6567\"},\"coordinates\":null,\"grid_line_color\":null,\"group\":null,\"ticker\":null},\"id\":\"6570\",\"type\":\"Grid\"},{\"attributes\":{},\"id\":\"6152\",\"type\":\"BasicTicker\"},{\"attributes\":{\"fill_color\":{\"value\":\"green\"},\"hatch_color\":{\"value\":\"green\"},\"top\":{\"field\":\"A_2011\"},\"width\":{\"value\":0.8},\"x\":{\"field\":\"index\"}},\"id\":\"6240\",\"type\":\"VBar\"},{\"attributes\":{\"factors\":[[\"2001\",\"other_house\"],[\"2001\",\"apartment_five_storeys_less\"],[\"2001\",\"duplex\"],[\"2001\",\"row_house\"],[\"2001\",\"semi_detached_house\"],[\"2001\",\"movable_dwelling\"],[\"2001\",\"apartment_five_storeys_plus\"],[\"2001\",\"single_detached_house\"],[\"2006\",\"other_house\"],[\"2006\",\"apartment_five_storeys_less\"],[\"2006\",\"duplex\"],[\"2006\",\"row_house\"],[\"2006\",\"semi_detached_house\"],[\"2006\",\"movable_dwelling\"],[\"2006\",\"apartment_five_storeys_plus\"],[\"2006\",\"single_detached_house\"],[\"2011\",\"other_house\"],[\"2011\",\"apartment_five_storeys_less\"],[\"2011\",\"duplex\"],[\"2011\",\"row_house\"],[\"2011\",\"semi_detached_house\"],[\"2011\",\"movable_dwelling\"],[\"2011\",\"apartment_five_storeys_plus\"],[\"2011\",\"single_detached_house\"],[\"2016\",\"other_house\"],[\"2016\",\"apartment_five_storeys_less\"],[\"2016\",\"duplex\"],[\"2016\",\"row_house\"],[\"2016\",\"semi_detached_house\"],[\"2016\",\"movable_dwelling\"],[\"2016\",\"apartment_five_storeys_plus\"],[\"2016\",\"single_detached_house\"]],\"tags\":[[[\"year\",\"year\",null],[\"Variable\",\"Variable\",null]]]},\"id\":\"6635\",\"type\":\"FactorRange\"},{\"attributes\":{\"below\":[{\"id\":\"6217\"}],\"center\":[{\"id\":\"6219\"},{\"id\":\"6223\"}],\"frame_height\":300,\"height\":null,\"left\":[{\"id\":\"6220\"}],\"margin\":[5,5,5,5],\"min_border_bottom\":10,\"min_border_left\":10,\"min_border_right\":10,\"min_border_top\":10,\"renderers\":[{\"id\":\"6243\"}],\"sizing_mode\":\"fixed\",\"title\":{\"id\":\"6209\"},\"toolbar\":{\"id\":\"6230\"},\"width\":700,\"x_range\":{\"id\":\"6068\"},\"x_scale\":{\"id\":\"6213\"},\"y_range\":{\"id\":\"6206\"},\"y_scale\":{\"id\":\"6215\"}},\"id\":\"6208\",\"subtype\":\"Figure\",\"type\":\"Plot\"},{\"attributes\":{\"axis\":{\"id\":\"6571\"},\"coordinates\":null,\"dimension\":1,\"grid_line_color\":null,\"group\":null,\"ticker\":null},\"id\":\"6574\",\"type\":\"Grid\"},{\"attributes\":{\"source\":{\"id\":\"6168\"}},\"id\":\"6175\",\"type\":\"CDSView\"},{\"attributes\":{},\"id\":\"6698\",\"type\":\"UnionRenderers\"},{\"attributes\":{\"source\":{\"id\":\"6746\"}},\"id\":\"6753\",\"type\":\"CDSView\"},{\"attributes\":{},\"id\":\"6539\",\"type\":\"UnionRenderers\"},{\"attributes\":{\"client_comm_id\":\"7d2fb8999299423ab3344c9625a0c216\",\"comm_id\":\"a2d028d0541b46a09355177c6d88583e\",\"plot_id\":\"6057\"},\"id\":\"7430\",\"type\":\"panel.models.comm_manager.CommManager\"},{\"attributes\":{\"fill_alpha\":{\"value\":0.2},\"fill_color\":{\"value\":\"#30a2da\"},\"hatch_alpha\":{\"value\":0.2},\"hatch_color\":{\"value\":\"#30a2da\"},\"line_alpha\":{\"value\":0.2},\"top\":{\"field\":\"average_house_value\"},\"width\":{\"value\":0.8},\"x\":{\"field\":\"neighbourhood\"}},\"id\":\"6751\",\"type\":\"VBar\"},{\"attributes\":{\"child\":{\"id\":\"6552\"},\"name\":\"Row13789\",\"title\":\"Neighbourhood Analysis\"},\"id\":\"6782\",\"type\":\"Panel\"},{\"attributes\":{\"coordinates\":null,\"data_source\":{\"id\":\"6746\"},\"glyph\":{\"id\":\"6749\"},\"group\":null,\"hover_glyph\":null,\"muted_glyph\":{\"id\":\"6751\"},\"nonselection_glyph\":{\"id\":\"6750\"},\"selection_glyph\":{\"id\":\"6754\"},\"view\":{\"id\":\"6753\"}},\"id\":\"6752\",\"type\":\"GlyphRenderer\"},{\"attributes\":{},\"id\":\"6722\",\"type\":\"CategoricalScale\"},{\"attributes\":{},\"id\":\"6680\",\"type\":\"AllLabels\"},{\"attributes\":{\"callback\":null,\"renderers\":[{\"id\":\"6521\"}],\"tags\":[\"hv_created\"],\"tooltips\":[[\"year\",\"@{year}\"],[\"shelter_costs_rented\",\"@{shelter_costs_rented}\"]]},\"id\":\"6484\",\"type\":\"HoverTool\"},{\"attributes\":{\"args\":{\"model\":{\"id\":\"6064\"}},\"code\":\"try { model.visibility = (cb_obj.active == 0); } catch { }\",\"tags\":[\"plotly_tab_fix6064\"]},\"id\":\"7245\",\"type\":\"CustomJS\"},{\"attributes\":{\"callback\":null,\"renderers\":[{\"id\":\"6452\"}],\"tags\":[\"hv_created\"],\"tooltips\":[[\"year\",\"@{year}\"],[\"shelter_costs_owned\",\"@{shelter_costs_owned}\"]]},\"id\":\"6415\",\"type\":\"HoverTool\"},{\"attributes\":{\"line_color\":\"blue\",\"line_width\":2,\"x\":{\"field\":\"year\"},\"y\":{\"field\":\"average_house_value\"}},\"id\":\"6596\",\"type\":\"Line\"},{\"attributes\":{\"factors\":[\"single_detached_house\",\"apartment_five_storeys_plus\",\"movable_dwelling\",\"semi_detached_house\",\"row_house\",\"duplex\",\"apartment_five_storeys_less\",\"other_house\"],\"palette\":[\"#30a2da\",\"#fc4f30\",\"#e5ae38\",\"#6d904f\",\"#8b8b8b\",\"#17becf\",\"#9467bd\",\"#d62728\"]},\"id\":\"6667\",\"type\":\"CategoricalColorMapper\"},{\"attributes\":{},\"id\":\"6078\",\"type\":\"LinearScale\"},{\"attributes\":{},\"id\":\"6433\",\"type\":\"SaveTool\"},{\"attributes\":{\"end\":1852.7578571428571,\"reset_end\":1852.7578571428571,\"reset_start\":755.435,\"start\":755.435,\"tags\":[[[\"shelter_costs_owned\",\"shelter_costs_owned\",null]]]},\"id\":\"6414\",\"type\":\"Range1d\"},{\"attributes\":{\"end\":390509.0,\"reset_end\":390509.0,\"reset_start\":0.0,\"tags\":[[[\"2001\",\"2001\",null]]]},\"id\":\"6069\",\"type\":\"Range1d\"},{\"attributes\":{\"callback\":null,\"renderers\":[{\"id\":\"6382\"}],\"tags\":[\"hv_created\"],\"tooltips\":[[\"year\",\"@{year}\"],[\"average_house_value\",\"@{average_house_value}\"]]},\"id\":\"6345\",\"type\":\"HoverTool\"},{\"attributes\":{\"end\":1289.412142857143,\"reset_end\":1289.412142857143,\"reset_start\":892.3235714285714,\"start\":892.3235714285714,\"tags\":[[[\"shelter_costs_rented\",\"shelter_costs_rented\",null]]]},\"id\":\"6483\",\"type\":\"Range1d\"},{\"attributes\":{\"axis\":{\"id\":\"6080\"},\"coordinates\":null,\"grid_line_color\":null,\"group\":null,\"ticker\":null},\"id\":\"6082\",\"type\":\"Grid\"},{\"attributes\":{},\"id\":\"6430\",\"type\":\"BasicTicker\"},{\"attributes\":{},\"id\":\"6421\",\"type\":\"LinearScale\"},{\"attributes\":{},\"id\":\"6526\",\"type\":\"BasicTickFormatter\"},{\"attributes\":{\"below\":[{\"id\":\"6080\"}],\"center\":[{\"id\":\"6082\"},{\"id\":\"6086\"}],\"frame_height\":300,\"height\":null,\"left\":[{\"id\":\"6083\"}],\"margin\":[5,5,5,5],\"min_border_bottom\":10,\"min_border_left\":10,\"min_border_right\":10,\"min_border_top\":10,\"renderers\":[{\"id\":\"6106\"}],\"sizing_mode\":\"fixed\",\"title\":{\"id\":\"6072\"},\"toolbar\":{\"id\":\"6093\"},\"width\":700,\"x_range\":{\"id\":\"6068\"},\"x_scale\":{\"id\":\"6076\"},\"y_range\":{\"id\":\"6069\"},\"y_scale\":{\"id\":\"6078\"}},\"id\":\"6071\",\"subtype\":\"Figure\",\"type\":\"Plot\"},{\"attributes\":{\"bottom\":{\"value\":0},\"fill_alpha\":{\"value\":1.0},\"fill_color\":{\"field\":\"Variable\",\"transform\":{\"id\":\"6667\"}},\"hatch_alpha\":{\"value\":1.0},\"hatch_color\":{\"field\":\"Variable\",\"transform\":{\"id\":\"6667\"}},\"hatch_scale\":{\"value\":12.0},\"hatch_weight\":{\"value\":1.0},\"line_alpha\":{\"value\":1.0},\"line_cap\":{\"value\":\"butt\"},\"line_color\":{\"value\":\"black\"},\"line_dash\":{\"value\":[]},\"line_dash_offset\":{\"value\":0},\"line_join\":{\"value\":\"bevel\"},\"line_width\":{\"value\":1},\"top\":{\"field\":\"value\"},\"width\":{\"value\":0.8},\"x\":{\"field\":\"xoffsets\"}},\"id\":\"6676\",\"type\":\"VBar\"},{\"attributes\":{\"fill_alpha\":{\"value\":0.2},\"fill_color\":{\"value\":\"green\"},\"hatch_alpha\":{\"value\":0.2},\"hatch_color\":{\"value\":\"green\"},\"line_alpha\":{\"value\":0.2},\"top\":{\"field\":\"A_2011\"},\"width\":{\"value\":0.8},\"x\":{\"field\":\"index\"}},\"id\":\"6242\",\"type\":\"VBar\"},{\"attributes\":{\"axis_label\":\"Year\",\"coordinates\":null,\"formatter\":{\"id\":\"6599\"},\"group\":null,\"major_label_policy\":{\"id\":\"6600\"},\"ticker\":{\"id\":\"6568\"}},\"id\":\"6567\",\"type\":\"LinearAxis\"},{\"attributes\":{\"below\":[{\"id\":\"6494\"}],\"center\":[{\"id\":\"6497\"},{\"id\":\"6501\"}],\"frame_width\":500,\"height\":300,\"left\":[{\"id\":\"6498\"}],\"margin\":[5,5,5,5],\"min_border_bottom\":10,\"min_border_left\":10,\"min_border_right\":10,\"min_border_top\":10,\"renderers\":[{\"id\":\"6521\"}],\"sizing_mode\":\"fixed\",\"title\":{\"id\":\"6486\"},\"toolbar\":{\"id\":\"6508\"},\"width\":null,\"x_range\":{\"id\":\"6343\"},\"x_scale\":{\"id\":\"6490\"},\"y_range\":{\"id\":\"6483\"},\"y_scale\":{\"id\":\"6492\"}},\"id\":\"6485\",\"subtype\":\"Figure\",\"type\":\"Plot\"},{\"attributes\":{},\"id\":\"6215\",\"type\":\"LinearScale\"},{\"attributes\":{\"coordinates\":null,\"group\":null,\"text\":\"Average Monthly Shelter Cost for Owned Dwellings in Toronto\",\"text_color\":\"black\",\"text_font_size\":\"12pt\"},\"id\":\"6417\",\"type\":\"Title\"},{\"attributes\":{},\"id\":\"6757\",\"type\":\"CategoricalTickFormatter\"},{\"attributes\":{},\"id\":\"6213\",\"type\":\"CategoricalScale\"},{\"attributes\":{\"line_color\":\"blue\",\"line_width\":2,\"x\":{\"field\":\"year\"},\"y\":{\"field\":\"average_house_value\"}},\"id\":\"6379\",\"type\":\"Line\"},{\"attributes\":{},\"id\":\"6221\",\"type\":\"BasicTicker\"},{\"attributes\":{},\"id\":\"6179\",\"type\":\"CategoricalTickFormatter\"},{\"attributes\":{},\"id\":\"6600\",\"type\":\"AllLabels\"},{\"attributes\":{},\"id\":\"6218\",\"type\":\"CategoricalTicker\"},{\"attributes\":{\"data\":{\"A_2001\":[300930,355015,75,90995,52355,23785,116900,3040],\"index\":[\"single_detached_house\",\"apartment_five_storeys_plus\",\"movable_dwelling\",\"semi_detached_house\",\"row_house\",\"duplex\",\"apartment_five_storeys_less\",\"other_house\"]},\"selected\":{\"id\":\"6101\"},\"selection_policy\":{\"id\":\"6124\"}},\"id\":\"6100\",\"type\":\"ColumnDataSource\"},{\"attributes\":{\"coordinates\":null,\"group\":null,\"text\":\"Number of dwellings by type - 2001\",\"text_color\":\"black\",\"text_font_size\":\"12pt\"},\"id\":\"6072\",\"type\":\"Title\"},{\"attributes\":{\"line_color\":\"blue\",\"line_width\":2,\"x\":{\"field\":\"year\"},\"y\":{\"field\":\"shelter_costs_owned\"}},\"id\":\"6449\",\"type\":\"Line\"},{\"attributes\":{\"callback\":null,\"renderers\":[{\"id\":\"6243\"}],\"tags\":[\"hv_created\"],\"tooltips\":[[\"index\",\"@{index}\"],[\"2011\",\"@{A_2011}\"]]},\"id\":\"6207\",\"type\":\"HoverTool\"},{\"attributes\":{\"overlay\":{\"id\":\"6659\"}},\"id\":\"6657\",\"type\":\"BoxZoomTool\"},{\"attributes\":{},\"id\":\"6249\",\"type\":\"AllLabels\"},{\"attributes\":{\"line_alpha\":0.1,\"line_color\":\"blue\",\"line_width\":2,\"x\":{\"field\":\"year\"},\"y\":{\"field\":\"shelter_costs_owned\"}},\"id\":\"6450\",\"type\":\"Line\"},{\"attributes\":{\"axis\":{\"id\":\"6429\"},\"coordinates\":null,\"dimension\":1,\"grid_line_color\":null,\"group\":null,\"ticker\":null},\"id\":\"6432\",\"type\":\"Grid\"},{\"attributes\":{\"bottom\":{\"value\":0},\"fill_alpha\":{\"value\":1.0},\"fill_color\":{\"value\":\"#30a2da\"},\"hatch_alpha\":{\"value\":1.0},\"hatch_color\":{\"value\":\"#30a2da\"},\"hatch_scale\":{\"value\":12.0},\"hatch_weight\":{\"value\":1.0},\"line_alpha\":{\"value\":1.0},\"line_cap\":{\"value\":\"butt\"},\"line_color\":{\"value\":\"black\"},\"line_dash\":{\"value\":[]},\"line_dash_offset\":{\"value\":0},\"line_join\":{\"value\":\"bevel\"},\"line_width\":{\"value\":1},\"top\":{\"field\":\"average_house_value\"},\"width\":{\"value\":0.8},\"x\":{\"field\":\"neighbourhood\"}},\"id\":\"6754\",\"type\":\"VBar\"},{\"attributes\":{},\"id\":\"6081\",\"type\":\"CategoricalTicker\"},{\"attributes\":{},\"id\":\"6656\",\"type\":\"WheelZoomTool\"},{\"attributes\":{\"axis_label\":\"Dwelling Type\",\"coordinates\":null,\"formatter\":{\"id\":\"6248\"},\"group\":null,\"major_label_orientation\":1.5707963267948966,\"major_label_policy\":{\"id\":\"6249\"},\"ticker\":{\"id\":\"6218\"}},\"id\":\"6217\",\"type\":\"CategoricalAxis\"},{\"attributes\":{},\"id\":\"6747\",\"type\":\"Selection\"},{\"attributes\":{\"axis\":{\"id\":\"6650\"},\"coordinates\":null,\"dimension\":1,\"grid_line_color\":null,\"group\":null,\"ticker\":null},\"id\":\"6653\",\"type\":\"Grid\"},{\"attributes\":{\"axis_label\":\"Year\",\"coordinates\":null,\"formatter\":{\"id\":\"6457\"},\"group\":null,\"major_label_policy\":{\"id\":\"6458\"},\"ticker\":{\"id\":\"6426\"}},\"id\":\"6425\",\"type\":\"LinearAxis\"},{\"attributes\":{\"axis_label\":\"Avg Monthly Shelter Costs\",\"coordinates\":null,\"formatter\":{\"id\":\"6455\"},\"group\":null,\"major_label_policy\":{\"id\":\"6461\"},\"ticker\":{\"id\":\"6430\"}},\"id\":\"6429\",\"type\":\"LinearAxis\"},{\"attributes\":{\"fill_color\":{\"value\":\"red\"},\"hatch_color\":{\"value\":\"red\"},\"top\":{\"field\":\"A_2001\"},\"width\":{\"value\":0.8},\"x\":{\"field\":\"index\"}},\"id\":\"6103\",\"type\":\"VBar\"},{\"attributes\":{\"axis\":{\"id\":\"6647\"},\"coordinates\":null,\"grid_line_color\":null,\"group\":null,\"ticker\":null},\"id\":\"6649\",\"type\":\"Grid\"},{\"attributes\":{},\"id\":\"6423\",\"type\":\"LinearScale\"},{\"attributes\":{\"axis\":{\"id\":\"6083\"},\"coordinates\":null,\"dimension\":1,\"grid_line_color\":null,\"group\":null,\"ticker\":null},\"id\":\"6086\",\"type\":\"Grid\"},{\"attributes\":{\"data\":{\"A_2006\":[266860,379400,165,69430,54690,44095,162850,1335],\"index\":[\"single_detached_house\",\"apartment_five_storeys_plus\",\"movable_dwelling\",\"semi_detached_house\",\"row_house\",\"duplex\",\"apartment_five_storeys_less\",\"other_house\"]},\"selected\":{\"id\":\"6169\"},\"selection_policy\":{\"id\":\"6192\"}},\"id\":\"6168\",\"type\":\"ColumnDataSource\"},{\"attributes\":{\"coordinates\":null,\"group\":null,\"text\":\"Number of dwellings by type - 2011\",\"text_color\":\"black\",\"text_font_size\":\"12pt\"},\"id\":\"6209\",\"type\":\"Title\"},{\"attributes\":{\"tools\":[{\"id\":\"6716\"},{\"id\":\"6733\"},{\"id\":\"6734\"},{\"id\":\"6735\"},{\"id\":\"6736\"},{\"id\":\"6737\"}]},\"id\":\"6739\",\"type\":\"Toolbar\"},{\"attributes\":{\"axis\":{\"id\":\"6425\"},\"coordinates\":null,\"grid_line_color\":null,\"group\":null,\"ticker\":null},\"id\":\"6428\",\"type\":\"Grid\"},{\"attributes\":{\"axis_label\":\"Number of Dwellings\",\"coordinates\":null,\"formatter\":{\"id\":\"6109\"},\"group\":null,\"major_label_policy\":{\"id\":\"6115\"},\"ticker\":{\"id\":\"6084\"}},\"id\":\"6083\",\"type\":\"LinearAxis\"},{\"attributes\":{},\"id\":\"6516\",\"type\":\"Selection\"},{\"attributes\":{},\"id\":\"6651\",\"type\":\"BasicTicker\"},{\"attributes\":{\"fill_alpha\":{\"value\":0.2},\"fill_color\":{\"field\":\"Variable\",\"transform\":{\"id\":\"6667\"}},\"hatch_alpha\":{\"value\":0.2},\"hatch_color\":{\"field\":\"Variable\",\"transform\":{\"id\":\"6667\"}},\"line_alpha\":{\"value\":0.2},\"top\":{\"field\":\"value\"},\"width\":{\"value\":0.8},\"x\":{\"field\":\"xoffsets\"}},\"id\":\"6673\",\"type\":\"VBar\"},{\"attributes\":{},\"id\":\"6470\",\"type\":\"UnionRenderers\"},{\"attributes\":{},\"id\":\"6076\",\"type\":\"CategoricalScale\"},{\"attributes\":{\"below\":[{\"id\":\"6148\"}],\"center\":[{\"id\":\"6150\"},{\"id\":\"6154\"}],\"frame_height\":300,\"height\":null,\"left\":[{\"id\":\"6151\"}],\"margin\":[5,5,5,5],\"min_border_bottom\":10,\"min_border_left\":10,\"min_border_right\":10,\"min_border_top\":10,\"renderers\":[{\"id\":\"6174\"}],\"sizing_mode\":\"fixed\",\"title\":{\"id\":\"6140\"},\"toolbar\":{\"id\":\"6161\"},\"width\":700,\"x_range\":{\"id\":\"6068\"},\"x_scale\":{\"id\":\"6144\"},\"y_range\":{\"id\":\"6137\"},\"y_scale\":{\"id\":\"6146\"}},\"id\":\"6139\",\"subtype\":\"Figure\",\"type\":\"Plot\"},{\"attributes\":{\"coordinates\":null,\"data_source\":{\"id\":\"6446\"},\"glyph\":{\"id\":\"6449\"},\"group\":null,\"hover_glyph\":null,\"muted_glyph\":{\"id\":\"6451\"},\"nonselection_glyph\":{\"id\":\"6450\"},\"selection_glyph\":{\"id\":\"6454\"},\"view\":{\"id\":\"6453\"}},\"id\":\"6452\",\"type\":\"GlyphRenderer\"},{\"attributes\":{\"margin\":[20,20,20,20],\"min_width\":250,\"options\":[\"Agincourt North\",\"Agincourt South-Malvern West\",\"Alderwood\",\"Annex\",\"Banbury-Don Mills\",\"Bathurst Manor\",\"Bay Street Corridor\",\"Bayview Village\",\"Bayview Woods-Steeles\",\"Bedford Park-Nortown\",\"Beechborough-Greenbrook\",\"Bendale\",\"Birchcliffe-Cliffside\",\"Black Creek\",\"Blake-Jones\",\"Briar Hill-Belgravia\",\"Bridle Path-Sunnybrook-York Mills\",\"Broadview North\",\"Brookhaven-Amesbury\",\"Cabbagetown-South St.James Town\",\"Caledonia-Fairbank\",\"Casa Loma\",\"Centennial Scarborough\",\"Church-Yonge Corridor\",\"Clairlea-Birchmount\",\"Clanton Park\",\"Cliffcrest\",\"Corso Italia-Davenport\",\"Danforth\",\"Danforth-East York\",\"Don Valley Village\",\"Dorset Park\",\"Dovercourt-Wallace Emerson-Juncti\",\"Downsview-Roding-CFB\",\"Dufferin Grove\",\"East End-Danforth\",\"Edenbridge-Humber Valley\",\"Eglinton East\",\"Elms-Old Rexdale\",\"Englemount-Lawrence\",\"Eringate-Centennial-West Deane\",\"Etobicoke West Mall\",\"Flemingdon Park\",\"Forest Hill North\",\"Forest Hill South\",\"Glenfield-Jane Heights\",\"Greenwood-Coxwell\",\"Guildwood\",\"Henry Farm\",\"High Park North\",\"High Park-Swansea\",\"Highland Creek\",\"Hillcrest Village\",\"Humber Heights-Westmount\",\"Humber Summit\",\"Humbermede\",\"Humewood-Cedarvale\",\"Ionview\",\"Islington-City Centre West\",\"Junction Area\",\"Keelesdale-Eglinton West\",\"Kennedy Park\",\"Kensington-Chinatown\",\"Kingsview Village-The Westway\",\"Kingsway South\",\"L'Amoreaux\",\"Lambton Baby Point\",\"Lansing-Westgate\",\"Lawrence Park North\",\"Lawrence Park South\",\"Leaside-Bennington\",\"Little Portugal\",\"Long Branch\",\"Malvern\",\"Maple Leaf\",\"Markland Wood\",\"Milliken\",\"Mimico\",\"Morningside\",\"Moss Park\",\"Mount Dennis\",\"Mount Olive-Silverstone-Jamestown\",\"Mount Pleasant East\",\"Mount Pleasant West\",\"New Toronto\",\"Newtonbrook East\",\"Newtonbrook West\",\"Niagara\",\"North Riverdale\",\"North St.James Town\",\"O'Connor-Parkview\",\"Oakridge\",\"Oakwood Village\",\"Old East York\",\"Palmerston-Little Italy\",\"Parkwoods-Donalda\",\"Pelmo Park-Humberlea\",\"Playter Estates-Danforth\",\"Pleasant View\",\"Princess-Rosethorn\",\"Regent Park\",\"Rexdale-Kipling\",\"Rockcliffe-Smythe\",\"Roncesvalles\",\"Rosedale-Moore Park\",\"Rouge\",\"Runnymede-Bloor West Village\",\"Rustic\",\"Scarborough Village\",\"South Parkdale\",\"South Riverdale\",\"St.Andrew-Windfields\",\"Steeles\",\"Stonegate-Queensway\",\"Tam O'Shanter-Sullivan\",\"Taylor-Massey\",\"The Beaches\",\"Thistletown-Beaumond Heights\",\"Thorncliffe Park\",\"Trinity-Bellwoods\",\"University\",\"Victoria Village\",\"Waterfront Communities-The Island\",\"West Hill\",\"West Humber-Clairville\",\"Westminster-Branson\",\"Weston\",\"Weston-Pellam Park\",\"Wexford/Maryvale\",\"Willowdale East\",\"Willowdale West\",\"Willowridge-Martingrove-Richview\",\"Woburn\",\"Woodbine Corridor\",\"Woodbine-Lumsden\",\"Wychwood\",\"Yonge-Eglinton\",\"Yonge-St.Clair\",\"York University Heights\",\"Yorkdale-Glen Park\"],\"title\":\"neighbourhood\",\"value\":\"Agincourt North\",\"width\":250},\"id\":\"6712\",\"type\":\"Select\"},{\"attributes\":{},\"id\":\"6316\",\"type\":\"CategoricalTickFormatter\"},{\"attributes\":{},\"id\":\"6084\",\"type\":\"BasicTicker\"},{\"attributes\":{},\"id\":\"6426\",\"type\":\"BasicTicker\"},{\"attributes\":{\"fill_alpha\":{\"value\":0.1},\"fill_color\":{\"value\":\"green\"},\"hatch_alpha\":{\"value\":0.1},\"hatch_color\":{\"value\":\"green\"},\"line_alpha\":{\"value\":0.1},\"top\":{\"field\":\"A_2011\"},\"width\":{\"value\":0.8},\"x\":{\"field\":\"index\"}},\"id\":\"6241\",\"type\":\"VBar\"},{\"attributes\":{\"bottom\":{\"value\":0},\"fill_alpha\":{\"value\":1.0},\"fill_color\":{\"value\":\"yellow\"},\"hatch_alpha\":{\"value\":1.0},\"hatch_color\":{\"value\":\"yellow\"},\"hatch_scale\":{\"value\":12.0},\"hatch_weight\":{\"value\":1.0},\"line_alpha\":{\"value\":1.0},\"line_cap\":{\"value\":\"butt\"},\"line_color\":{\"value\":\"black\"},\"line_dash\":{\"value\":[]},\"line_dash_offset\":{\"value\":0},\"line_join\":{\"value\":\"bevel\"},\"line_width\":{\"value\":1},\"top\":{\"field\":\"A_2016\"},\"width\":{\"value\":0.8},\"x\":{\"field\":\"index\"}},\"id\":\"6313\",\"type\":\"VBar\"},{\"attributes\":{\"children\":[{\"id\":\"6059\"}],\"margin\":[0,0,0,0],\"name\":\"Column12711\"},\"id\":\"6058\",\"type\":\"Column\"},{\"attributes\":{\"margin\":[20,20,20,20],\"min_width\":250,\"options\":[\"Agincourt North\",\"Agincourt South-Malvern West\",\"Alderwood\",\"Annex\",\"Banbury-Don Mills\",\"Bathurst Manor\",\"Bay Street Corridor\",\"Bayview Village\",\"Bayview Woods-Steeles\",\"Bedford Park-Nortown\",\"Beechborough-Greenbrook\",\"Bendale\",\"Birchcliffe-Cliffside\",\"Black Creek\",\"Blake-Jones\",\"Briar Hill-Belgravia\",\"Bridle Path-Sunnybrook-York Mills\",\"Broadview North\",\"Brookhaven-Amesbury\",\"Cabbagetown-South St.James Town\",\"Caledonia-Fairbank\",\"Casa Loma\",\"Centennial Scarborough\",\"Church-Yonge Corridor\",\"Clairlea-Birchmount\",\"Clanton Park\",\"Cliffcrest\",\"Corso Italia-Davenport\",\"Danforth\",\"Danforth-East York\",\"Don Valley Village\",\"Dorset Park\",\"Dovercourt-Wallace Emerson-Juncti\",\"Downsview-Roding-CFB\",\"Dufferin Grove\",\"East End-Danforth\",\"Edenbridge-Humber Valley\",\"Eglinton East\",\"Elms-Old Rexdale\",\"Englemount-Lawrence\",\"Eringate-Centennial-West Deane\",\"Etobicoke West Mall\",\"Flemingdon Park\",\"Forest Hill North\",\"Forest Hill South\",\"Glenfield-Jane Heights\",\"Greenwood-Coxwell\",\"Guildwood\",\"Henry Farm\",\"High Park North\",\"High Park-Swansea\",\"Highland Creek\",\"Hillcrest Village\",\"Humber Heights-Westmount\",\"Humber Summit\",\"Humbermede\",\"Humewood-Cedarvale\",\"Ionview\",\"Islington-City Centre West\",\"Junction Area\",\"Keelesdale-Eglinton West\",\"Kennedy Park\",\"Kensington-Chinatown\",\"Kingsview Village-The Westway\",\"Kingsway South\",\"L'Amoreaux\",\"Lambton Baby Point\",\"Lansing-Westgate\",\"Lawrence Park North\",\"Lawrence Park South\",\"Leaside-Bennington\",\"Little Portugal\",\"Long Branch\",\"Malvern\",\"Maple Leaf\",\"Markland Wood\",\"Milliken\",\"Mimico\",\"Morningside\",\"Moss Park\",\"Mount Dennis\",\"Mount Olive-Silverstone-Jamestown\",\"Mount Pleasant East\",\"Mount Pleasant West\",\"New Toronto\",\"Newtonbrook East\",\"Newtonbrook West\",\"Niagara\",\"North Riverdale\",\"North St.James Town\",\"O'Connor-Parkview\",\"Oakridge\",\"Oakwood Village\",\"Old East York\",\"Palmerston-Little Italy\",\"Parkwoods-Donalda\",\"Pelmo Park-Humberlea\",\"Playter Estates-Danforth\",\"Pleasant View\",\"Princess-Rosethorn\",\"Regent Park\",\"Rexdale-Kipling\",\"Rockcliffe-Smythe\",\"Roncesvalles\",\"Rosedale-Moore Park\",\"Rouge\",\"Runnymede-Bloor West Village\",\"Rustic\",\"Scarborough Village\",\"South Parkdale\",\"South Riverdale\",\"St.Andrew-Windfields\",\"Steeles\",\"Stonegate-Queensway\",\"Tam O'Shanter-Sullivan\",\"Taylor-Massey\",\"The Beaches\",\"Thistletown-Beaumond Heights\",\"Thorncliffe Park\",\"Trinity-Bellwoods\",\"University\",\"Victoria Village\",\"Waterfront Communities-The Island\",\"West Hill\",\"West Humber-Clairville\",\"Westminster-Branson\",\"Weston\",\"Weston-Pellam Park\",\"Wexford/Maryvale\",\"Willowdale East\",\"Willowdale West\",\"Willowridge-Martingrove-Richview\",\"Woburn\",\"Woodbine Corridor\",\"Woodbine-Lumsden\",\"Wychwood\",\"Yonge-Eglinton\",\"Yonge-St.Clair\",\"York University Heights\",\"Yorkdale-Glen Park\"],\"title\":\"neighbourhood\",\"value\":\"Agincourt North\",\"width\":250},\"id\":\"6632\",\"type\":\"Select\"},{\"attributes\":{\"children\":[{\"id\":\"6712\"}],\"css_classes\":[\"panel-widget-box\"],\"margin\":[5,5,5,5],\"name\":\"WidgetBox13648\"},\"id\":\"6711\",\"type\":\"Column\"},{\"attributes\":{},\"id\":\"6320\",\"type\":\"AllLabels\"},{\"attributes\":{\"axis_label\":\"Dwelling Type Units\",\"coordinates\":null,\"formatter\":{\"id\":\"6677\"},\"group\":null,\"major_label_policy\":{\"id\":\"6683\"},\"ticker\":{\"id\":\"6651\"}},\"id\":\"6650\",\"type\":\"LinearAxis\"},{\"attributes\":{\"fill_alpha\":{\"value\":0.1},\"fill_color\":{\"field\":\"Variable\",\"transform\":{\"id\":\"6667\"}},\"hatch_alpha\":{\"value\":0.1},\"hatch_color\":{\"field\":\"Variable\",\"transform\":{\"id\":\"6667\"}},\"line_alpha\":{\"value\":0.1},\"top\":{\"field\":\"value\"},\"width\":{\"value\":0.8},\"x\":{\"field\":\"xoffsets\"}},\"id\":\"6672\",\"type\":\"VBar\"},{\"attributes\":{},\"id\":\"6785\",\"type\":\"UnionRenderers\"},{\"attributes\":{\"source\":{\"id\":\"6446\"}},\"id\":\"6453\",\"type\":\"CDSView\"},{\"attributes\":{\"axis_label\":\"Dwelling Type\",\"coordinates\":null,\"formatter\":{\"id\":\"6111\"},\"group\":null,\"major_label_orientation\":1.5707963267948966,\"major_label_policy\":{\"id\":\"6112\"},\"ticker\":{\"id\":\"6081\"}},\"id\":\"6080\",\"type\":\"CategoricalAxis\"},{\"attributes\":{\"line_alpha\":0.2,\"line_color\":\"blue\",\"line_width\":2,\"x\":{\"field\":\"year\"},\"y\":{\"field\":\"shelter_costs_owned\"}},\"id\":\"6451\",\"type\":\"Line\"},{\"attributes\":{},\"id\":\"6658\",\"type\":\"ResetTool\"},{\"attributes\":{\"below\":[{\"id\":\"6425\"}],\"center\":[{\"id\":\"6428\"},{\"id\":\"6432\"}],\"frame_width\":500,\"height\":300,\"left\":[{\"id\":\"6429\"}],\"margin\":[5,5,5,5],\"min_border_bottom\":10,\"min_border_left\":10,\"min_border_right\":10,\"min_border_top\":10,\"renderers\":[{\"id\":\"6452\"}],\"sizing_mode\":\"fixed\",\"title\":{\"id\":\"6417\"},\"toolbar\":{\"id\":\"6439\"},\"width\":null,\"x_range\":{\"id\":\"6343\"},\"x_scale\":{\"id\":\"6421\"},\"y_range\":{\"id\":\"6414\"},\"y_scale\":{\"id\":\"6423\"}},\"id\":\"6416\",\"subtype\":\"Figure\",\"type\":\"Plot\"},{\"attributes\":{},\"id\":\"6648\",\"type\":\"CategoricalTicker\"},{\"attributes\":{\"axis\":{\"id\":\"6217\"},\"coordinates\":null,\"grid_line_color\":null,\"group\":null,\"ticker\":null},\"id\":\"6219\",\"type\":\"Grid\"},{\"attributes\":{\"child\":{\"id\":\"6342\"},\"name\":\"Column13571\",\"title\":\"Average Housing Cost\"},\"id\":\"6551\",\"type\":\"Panel\"},{\"attributes\":{},\"id\":\"6575\",\"type\":\"SaveTool\"},{\"attributes\":{},\"id\":\"6655\",\"type\":\"PanTool\"},{\"attributes\":{\"callback\":null,\"renderers\":[{\"id\":\"6106\"}],\"tags\":[\"hv_created\"],\"tooltips\":[[\"index\",\"@{index}\"],[\"2001\",\"@{A_2001}\"]]},\"id\":\"6070\",\"type\":\"HoverTool\"},{\"attributes\":{},\"id\":\"6458\",\"type\":\"AllLabels\"},{\"attributes\":{\"bottom_units\":\"screen\",\"coordinates\":null,\"fill_alpha\":0.5,\"fill_color\":\"lightgrey\",\"group\":null,\"left_units\":\"screen\",\"level\":\"overlay\",\"line_alpha\":1.0,\"line_color\":\"black\",\"line_dash\":[4,4],\"line_width\":2,\"right_units\":\"screen\",\"syncable\":false,\"top_units\":\"screen\"},\"id\":\"6297\",\"type\":\"BoxAnnotation\"},{\"attributes\":{\"coordinates\":null,\"group\":null,\"text\":\"neighbourhood: Agincourt North\",\"text_color\":\"black\",\"text_font_size\":\"12pt\"},\"id\":\"6559\",\"type\":\"Title\"},{\"attributes\":{\"axis\":{\"id\":\"6220\"},\"coordinates\":null,\"dimension\":1,\"grid_line_color\":null,\"group\":null,\"ticker\":null},\"id\":\"6223\",\"type\":\"Grid\"},{\"attributes\":{},\"id\":\"6101\",\"type\":\"Selection\"},{\"attributes\":{},\"id\":\"6317\",\"type\":\"AllLabels\"},{\"attributes\":{\"coordinates\":null,\"data_source\":{\"id\":\"6668\"},\"glyph\":{\"id\":\"6671\"},\"group\":null,\"hover_glyph\":null,\"muted_glyph\":{\"id\":\"6673\"},\"nonselection_glyph\":{\"id\":\"6672\"},\"selection_glyph\":{\"id\":\"6676\"},\"view\":{\"id\":\"6675\"}},\"id\":\"6674\",\"type\":\"GlyphRenderer\"},{\"attributes\":{\"tools\":[{\"id\":\"6275\"},{\"id\":\"6292\"},{\"id\":\"6293\"},{\"id\":\"6294\"},{\"id\":\"6295\"},{\"id\":\"6296\"}]},\"id\":\"6298\",\"type\":\"Toolbar\"},{\"attributes\":{},\"id\":\"6654\",\"type\":\"SaveTool\"},{\"attributes\":{\"margin\":[5,5,5,5],\"name\":\"VSpacer13653\",\"sizing_mode\":\"stretch_height\"},\"id\":\"6713\",\"type\":\"Spacer\"},{\"attributes\":{\"end\":472132.0,\"reset_end\":472132.0,\"reset_start\":0.0,\"tags\":[[[\"2011\",\"2011\",null]]]},\"id\":\"6206\",\"type\":\"Range1d\"},{\"attributes\":{\"source\":{\"id\":\"6668\"}},\"id\":\"6675\",\"type\":\"CDSView\"},{\"attributes\":{\"tools\":[{\"id\":\"6557\"},{\"id\":\"6575\"},{\"id\":\"6576\"},{\"id\":\"6577\"},{\"id\":\"6578\"},{\"id\":\"6579\"}]},\"id\":\"6581\",\"type\":\"Toolbar\"},{\"attributes\":{\"below\":[{\"id\":\"6355\"}],\"center\":[{\"id\":\"6358\"},{\"id\":\"6362\"}],\"frame_width\":500,\"height\":300,\"left\":[{\"id\":\"6359\"}],\"margin\":[5,5,5,5],\"min_border_bottom\":10,\"min_border_left\":10,\"min_border_right\":10,\"min_border_top\":10,\"renderers\":[{\"id\":\"6382\"}],\"sizing_mode\":\"fixed\",\"title\":{\"id\":\"6347\"},\"toolbar\":{\"id\":\"6369\"},\"width\":null,\"x_range\":{\"id\":\"6343\"},\"x_scale\":{\"id\":\"6351\"},\"y_range\":{\"id\":\"6344\"},\"y_scale\":{\"id\":\"6353\"}},\"id\":\"6346\",\"subtype\":\"Figure\",\"type\":\"Plot\"},{\"attributes\":{\"fill_color\":{\"value\":\"#30a2da\"},\"hatch_color\":{\"value\":\"#30a2da\"},\"top\":{\"field\":\"average_house_value\"},\"width\":{\"value\":0.8},\"x\":{\"field\":\"neighbourhood\"}},\"id\":\"6749\",\"type\":\"VBar\"},{\"attributes\":{},\"id\":\"6457\",\"type\":\"BasicTickFormatter\"},{\"attributes\":{},\"id\":\"6294\",\"type\":\"WheelZoomTool\"},{\"attributes\":{},\"id\":\"6261\",\"type\":\"UnionRenderers\"},{\"attributes\":{\"tools\":[{\"id\":\"6484\"},{\"id\":\"6502\"},{\"id\":\"6503\"},{\"id\":\"6504\"},{\"id\":\"6505\"},{\"id\":\"6506\"}]},\"id\":\"6508\",\"type\":\"Toolbar\"},{\"attributes\":{\"end\":2016.0,\"reset_end\":2016.0,\"reset_start\":2001.0,\"start\":2001.0,\"tags\":[[[\"year\",\"year\",null]]]},\"id\":\"6343\",\"type\":\"Range1d\"},{\"attributes\":{\"tools\":[{\"id\":\"6345\"},{\"id\":\"6363\"},{\"id\":\"6364\"},{\"id\":\"6365\"},{\"id\":\"6366\"},{\"id\":\"6367\"}]},\"id\":\"6369\",\"type\":\"Toolbar\"},{\"attributes\":{},\"id\":\"6248\",\"type\":\"CategoricalTickFormatter\"},{\"attributes\":{\"data\":{\"lat\":[{\"__ndarray__\":\"U/xKrRjnRUArfwi78uRFQGLShJJuzUVAiKL+gvbVRUAuVWmLa95FQG3/DGfl4UVA2X/4VCnURUAcpxHIX+NFQFWFipr95UVAhKk9V6HdRUCIzGRRu9hFQBE36a5T4UVAOpzQVuvYRUC/Y3js5+FFQGUFO9WM1kVAdJqBoXnZRUCGn6zWkd1FQBmI6Wsr2EVAHqN+D8XZRUCgzBZ7ddVFQINmfAQj2EVAvhr77UbXRUBYVMTpJORFQJdFtF9v1EVALWO//lbbRUD+lzEm+d5FQDjN0LJN3EVAIh27l73WRUD5o4cljtdFQMEXiX1A2EVASdu290LkRUCm6w3nL+FFQJ0G0uY01UVAGNQShtzdRUBnHFUT5dNFQFCwewKT10VAC2bplt/VRUBFsLuK1t5FQGYM97pa3EVAvL8PQTTcRUC/NajkOdRFQNNidGmR0kVA4j0HlqPbRUAFvA7NI9pFQPu2WDjm2EVAPX0E/nDfRUAjKwEpGNZFQOrKyqPZ30VAqebm2bTiRUA9uUMWK9RFQDl05XmR0kVActOPGzjlRUDPdyJOyOZFQPibmhWb2EVA7URJSCThRUD3o9GyKN9FQCSyUc5+2EVA0svFayDeRUB4u7lTFdFFQNK9d2l91UVANs/w6sXXRUCyaYQC39xFQARCZ6mn00VABCaqlnjZRUAWD7WOptNFQGHg2gXa5UVAgQrDVybURUB9yAD1i+BFQJAhlZxy3UVAf+fNl83bRUBIcQoCFtpFQN8qFXXi0kVABfoCgtLLRUDEFJtF3uZFQL4VR+2X20VAR3Nk5RfRRUDWllNlDOlFQFfD0ZfWzkVAZDE9oyXkRUDqkvXECNRFQCu+BBsV2EVAvbczXZnfRUATVY2YONpFQK+mgO4q2kVA26xVFuDMRUDu1HULUeVFQEJCUhOW5EVAVMtSwn7RRUAKKeTvA9ZFQAJLSzi21UVAY6w+cHjaRUBCKGurRNlFQAytkOoi2EVAxI7vIDDZRUCOtoVCX9RFQIiEzu+k4EVAhrO2hNfbRUDo3MxsANdFQNDffNG75EVAlz1kJUHVRUBidVifetRFQOLwWQmj3EVAmjORiF/WRUAzn3sotNJFQAHy66hm10VAJ5F1Hx3pRUAVlrLrYtRFQLn39AEW20VAL+rmJIzeRUCz469ef9FFQFGgkQAc00VADsvRqczgRUAW7PEID+hFQLsueKhY0UVAEzGAS9vjRUAjamCz9dhFQPyDUPfk1UVAHZ9eY3beRUAkXK+Gl9pFQDCRHPo400VA2TLPAM3URUCSMtIgP91FQGvj2/0i0UVAalnvHj3iRUCiBKLMq9tFQNbLziaw40VA6Y96mfLZRUDRRVxjRNZFQJX/PTbR30VAO3ZIGKPiRUDqcHwGt+JFQDujlK2B10VA4alPiyTiRUD1G7t+oNZFQNkdWn3Y2EVAUldnSqXWRUCS/uJCM9pFQO50a8IL2EVAsfM+pwPiRUC7XVBbettFQA==\",\"dtype\":\"float64\",\"order\":\"little\",\"shape\":[140]}],\"lon\":[{\"__ndarray__\":\"GObrzxHRU8Chm6LI/9BTwGXg48Cp4lPArp1qJdvZU8AVu4XHYdZTwNBX+wEw3VPA04cuqK/YU8AYHsGuIthTwLud2J502FPAoEhBAeXaU8D8cXetr95TwDbIZj950FPAkB3pRvfQU8CnJfMbaOFTwLWAt92X1VPA39wEhPvcU8C8WlH3P9hTwFK8RqLC1lPASb/55BPfU8AP46BKbtdTwAYW2TEi3VPAPJPsxxzaU8Aw3odqp8lTwHBxO9FB2FPAlLK5KALSU8AbTrI4kNxTwAUZnuoSz1PACZRmVqPcU8BO4t7CG9VTwJG4hbY11VPAbzH9GqLWU8BDObCg2dFTwMIdAw0R3FPAlEH/TmTfU8Dq/0Vl/dtTwCRbRLEo01PAcy+s8m/hU8DAcNfgt89TwAYea4gi41PAaU9ugP7bU8DPusoDJuVTwOWkKH5p5FPA9ZJSEkrVU8AxjZGyZttTwFG2Di+E2lPA7kGlndzgU8DTWV6gwdRTwDtKb8l7zFPAxW0b49bVU8AMjQ7l191TwNjmUp7x3VPAyKV9tVvLU8BcH9YbtdZTwKN5W0Rv4VPAU8rvXZjjU8DYtJQktuJTwMxS/Clf21PANesQKHDRU8BCq7yyxeJTwI3rIRIs3lPAh2SOBizeU8BBGiUaqtBTwBZR0WBs2VPANshFMRDjU8AqhlBKreBTwEy/yPQZ1FPAS0KeNL/fU8DWnA8RL9tTwHgfDcja2VPAlLW4jPzZU8BLEa66bddTwEWLQ2iK21PAG070VCLiU8DabVm2Pc5TwCRMSb3E3lPAp28+GrPkU8CIYAO/mdFTwDQVHD0C4FPAZf6wKUDNU8Am8WbLgddTwLNDHdL/31PASP7cp5XlU8CeLBCYothTwG+0iM0s2VPAI3P6tKngU8Av/hHh+tlTwGwP92ic21PAAo2IGGXaU8AXVfEMe9ZTwEtCOwoE2FPAZUMvivvTU8D7Lc+95tFTwMN2/3El3FPA4JgrpHjVU8B/7Wg1x9pTwGANSKkh1VPAxgMlYM/hU8A6FC55ttZTwJQsistv1VPAHFI1D9riU8CsN4uTEtdTwAfBFRY95FPAUM6rlaTfU8D/RwH9WdxTwK8S4oBM2FPAueQTDe3LU8D7H8PXFd9TwEOEC7vg31PApRAKQuDNU8C472ocHtxTwJeQrE971VPAWGHIJELYU8CKzNinjtRTwGVDDnwS4FPA+jIoBWPTU8D8T0AL8NJTwLRV7qos01PAV5+jPBDkU8CBxachZtZTwGZ2SPeU2lPAUYTU7azZU8DXjZDkJtRTwD5bKBUk2FPAk7X6qE7LU8COYD60KuZTwLZ9l2v03FPA04MnmQHhU8CGaN+idN1TwIlij9wc01PAJfsQ6bHZU8CVCWQbXdtTwE4gkVt441PAyJ41JqHOU8AXgW+iL9RTwLVDcBrq01PAYY0OozvbU8DGSN1r1NlTwMxL9rZ22VPADfug20nfU8DQ2DRCQd1TwA==\",\"dtype\":\"float64\",\"order\":\"little\",\"shape\":[140]}],\"marker.color\":[{\"__ndarray__\":\"AAAAAE4hFEEAAAAAtGUUQQAAAABKHhpBAAAAAMLLJkEAAAAAjq0iQQAAAAAjnR5BAAAAAJbbGUEAAACA9XQgQQAAAABLQSFBAAAAgN5kLEEAAAAAv6MWQQAAAAANYRJBAAAAAAyxGkEAAAAATtcPQQAAAAA0Nx9BAAAAAFJPFkEAAADA1Uo3QQAAAAC1DxtBAAAAAHxrFUEAAAAAeigeQQAAAADJExZBAAAAgJDwLUEAAAAAGwQZQQAAAACWyRhBAAAAAO2jFUEAAACAEtUgQQAAAAA4ehlBAAAAAGqhGUEAAAAA/H8cQQAAAAC9vBlBAAAAAOlKGEEAAAAAgvsPQQAAAAAuiBpBAAAAAJ5HF0EAAAAA0+0bQQAAAACZLR1BAAAAAAVMKEEAAAAAmmoQQQAAAADVYBBBAAAAgNFcIUEAAAAAV0cYQQAAAACQ4hJBAAAAALhdCUEAAAAAwf0pQQAAAIDYPzJBAAAAALf+E0EAAAAAvp8XQQAAAAB2ixZBAAAAAJiUFkEAAAAAIkAgQQAAAICDyiFBAAAAAJosGkEAAAAAPBwYQQAAAAD6aRtBAAAAAEp9FUEAAAAAn4QTQQAAAAD7RSVBAAAAABePEUEAAAAAlZEbQQAAAADVcRpBAAAAAFuzE0EAAAAABogRQQAAAACX4hpBAAAAAKOmFEEAAACAxLspQQAAAICH2CNBAAAAAKeLFEEAAAAAwbYiQQAAAADBLCdBAAAAwIuxMEEAAACAj5woQQAAAABBfCBBAAAAAJmMF0EAAAAAglsPQQAAAAC0qRtBAAAAABsZG0EAAAAAcQ4VQQAAAABKBBhBAAAAAFZlEUEAAAAAwP0YQQAAAACTAhBBAAAAAPLnDkEAAACA9KskQQAAAABXkxxBAAAAABDkGEEAAACAqhMhQQAAAABiHBxBAAAAACSVFkEAAACArnQlQQAAAAD/HBlBAAAAAC81EkEAAAAAxsUZQQAAAADL7RpBAAAAAFYQG0EAAACA3/wiQQAAAADyvxtBAAAAAN2+GEEAAACANs0jQQAAAAD9yRZBAAAAAGVeJ0EAAAAACfYXQQAAAACdCBZBAAAAAPEYFUEAAAAAJRAfQQAAAAAIsDBBAAAAAHv3FkEAAAAAJNkgQQAAAADKTxpBAAAAAK8hFEEAAAAA2k8bQQAAAACyxRtBAAAAAIZ9LkEAAAAAOvMWQQAAAIBAzCBBAAAAABqaFUEAAAAAsDkNQQAAAACEVSRBAAAAAODwFkEAAAAABikPQQAAAICDTyBBAAAAgJneIkEAAAAAFH4VQQAAAAB8ABdBAAAAAJ5fEUEAAAAAWfMUQQAAAAAhUhVBAAAAAJ/MEkEAAAAA6HgVQQAAAAB9QhVBAAAAANagHEEAAAAAW3McQQAAAABYVhxBAAAAACc4EkEAAAAAGy8bQQAAAAD6kxZBAAAAALFFIUEAAACAI7YoQQAAAIBI0ShBAAAAAK6rEkEAAAAANUwaQQ==\",\"dtype\":\"float64\",\"order\":\"little\",\"shape\":[140]}],\"marker.size\":[{\"__ndarray__\":\"AAAAAE4hFEEAAAAAtGUUQQAAAABKHhpBAAAAAMLLJkEAAAAAjq0iQQAAAAAjnR5BAAAAAJbbGUEAAACA9XQgQQAAAABLQSFBAAAAgN5kLEEAAAAAv6MWQQAAAAANYRJBAAAAAAyxGkEAAAAATtcPQQAAAAA0Nx9BAAAAAFJPFkEAAADA1Uo3QQAAAAC1DxtBAAAAAHxrFUEAAAAAeigeQQAAAADJExZBAAAAgJDwLUEAAAAAGwQZQQAAAACWyRhBAAAAAO2jFUEAAACAEtUgQQAAAAA4ehlBAAAAAGqhGUEAAAAA/H8cQQAAAAC9vBlBAAAAAOlKGEEAAAAAgvsPQQAAAAAuiBpBAAAAAJ5HF0EAAAAA0+0bQQAAAACZLR1BAAAAAAVMKEEAAAAAmmoQQQAAAADVYBBBAAAAgNFcIUEAAAAAV0cYQQAAAACQ4hJBAAAAALhdCUEAAAAAwf0pQQAAAIDYPzJBAAAAALf+E0EAAAAAvp8XQQAAAAB2ixZBAAAAAJiUFkEAAAAAIkAgQQAAAICDyiFBAAAAAJosGkEAAAAAPBwYQQAAAAD6aRtBAAAAAEp9FUEAAAAAn4QTQQAAAAD7RSVBAAAAABePEUEAAAAAlZEbQQAAAADVcRpBAAAAAFuzE0EAAAAABogRQQAAAACX4hpBAAAAAKOmFEEAAACAxLspQQAAAICH2CNBAAAAAKeLFEEAAAAAwbYiQQAAAADBLCdBAAAAwIuxMEEAAACAj5woQQAAAABBfCBBAAAAAJmMF0EAAAAAglsPQQAAAAC0qRtBAAAAABsZG0EAAAAAcQ4VQQAAAABKBBhBAAAAAFZlEUEAAAAAwP0YQQAAAACTAhBBAAAAAPLnDkEAAACA9KskQQAAAABXkxxBAAAAABDkGEEAAACAqhMhQQAAAABiHBxBAAAAACSVFkEAAACArnQlQQAAAAD/HBlBAAAAAC81EkEAAAAAxsUZQQAAAADL7RpBAAAAAFYQG0EAAACA3/wiQQAAAADyvxtBAAAAAN2+GEEAAACANs0jQQAAAAD9yRZBAAAAAGVeJ0EAAAAACfYXQQAAAACdCBZBAAAAAPEYFUEAAAAAJRAfQQAAAAAIsDBBAAAAAHv3FkEAAAAAJNkgQQAAAADKTxpBAAAAAK8hFEEAAAAA2k8bQQAAAACyxRtBAAAAAIZ9LkEAAAAAOvMWQQAAAIBAzCBBAAAAABqaFUEAAAAAsDkNQQAAAACEVSRBAAAAAODwFkEAAAAABikPQQAAAICDTyBBAAAAgJneIkEAAAAAFH4VQQAAAAB8ABdBAAAAAJ5fEUEAAAAAWfMUQQAAAAAhUhVBAAAAAJ/MEkEAAAAA6HgVQQAAAAB9QhVBAAAAANagHEEAAAAAW3McQQAAAABYVhxBAAAAACc4EkEAAAAAGy8bQQAAAAD6kxZBAAAAALFFIUEAAACAI7YoQQAAAIBI0ShBAAAAAK6rEkEAAAAANUwaQQ==\",\"dtype\":\"float64\",\"order\":\"little\",\"shape\":[140]}]},\"selected\":{\"id\":\"6786\"},\"selection_policy\":{\"id\":\"6785\"}},\"id\":\"6063\",\"type\":\"ColumnDataSource\"},{\"attributes\":{\"source\":{\"id\":\"6376\"}},\"id\":\"6383\",\"type\":\"CDSView\"},{\"attributes\":{},\"id\":\"6506\",\"type\":\"ResetTool\"},{\"attributes\":{},\"id\":\"6360\",\"type\":\"BasicTicker\"},{\"attributes\":{},\"id\":\"6503\",\"type\":\"PanTool\"},{\"attributes\":{\"children\":[{\"id\":\"6062\"},{\"id\":\"6064\"}],\"margin\":[0,0,0,0],\"name\":\"Column12716\"},\"id\":\"6061\",\"type\":\"Column\"},{\"attributes\":{},\"id\":\"6292\",\"type\":\"SaveTool\"},{\"attributes\":{},\"id\":\"6329\",\"type\":\"UnionRenderers\"},{\"attributes\":{},\"id\":\"6579\",\"type\":\"ResetTool\"},{\"attributes\":{\"overlay\":{\"id\":\"6368\"}},\"id\":\"6366\",\"type\":\"BoxZoomTool\"},{\"attributes\":{\"below\":[{\"id\":\"6726\"}],\"center\":[{\"id\":\"6728\"},{\"id\":\"6732\"}],\"frame_height\":300,\"frame_width\":600,\"height\":null,\"left\":[{\"id\":\"6729\"}],\"margin\":[5,5,5,5],\"min_border_bottom\":10,\"min_border_left\":10,\"min_border_right\":10,\"min_border_top\":10,\"renderers\":[{\"id\":\"6752\"}],\"sizing_mode\":\"fixed\",\"title\":{\"id\":\"6718\"},\"toolbar\":{\"id\":\"6739\"},\"width\":null,\"x_range\":{\"id\":\"6714\"},\"x_scale\":{\"id\":\"6722\"},\"y_range\":{\"id\":\"6344\"},\"y_scale\":{\"id\":\"6724\"}},\"id\":\"6717\",\"subtype\":\"Figure\",\"type\":\"Plot\"},{\"attributes\":{},\"id\":\"6577\",\"type\":\"WheelZoomTool\"},{\"attributes\":{\"coordinates\":null,\"data_source\":{\"id\":\"6305\"},\"glyph\":{\"id\":\"6308\"},\"group\":null,\"hover_glyph\":null,\"muted_glyph\":{\"id\":\"6310\"},\"nonselection_glyph\":{\"id\":\"6309\"},\"selection_glyph\":{\"id\":\"6313\"},\"view\":{\"id\":\"6312\"}},\"id\":\"6311\",\"type\":\"GlyphRenderer\"},{\"attributes\":{\"factors\":[\"Bridle Path-Sunnybrook-York Mills\",\"Forest Hill South\",\"Lawrence Park South\",\"Rosedale-Moore Park\",\"St.Andrew-Windfields\",\"Casa Loma\",\"Bedford Park-Nortown\",\"Forest Hill North\",\"Kingsway South\",\"Yonge-St.Clair\"],\"tags\":[[[\"neighbourhood\",\"neighbourhood\",null]]]},\"id\":\"6714\",\"type\":\"FactorRange\"},{\"attributes\":{},\"id\":\"6365\",\"type\":\"WheelZoomTool\"},{\"attributes\":{},\"id\":\"6502\",\"type\":\"SaveTool\"},{\"attributes\":{\"child\":{\"id\":\"6061\"},\"name\":\"Column12716\",\"title\":\"Welcome\"},\"id\":\"6065\",\"type\":\"Panel\"},{\"attributes\":{\"below\":[{\"id\":\"6285\"}],\"center\":[{\"id\":\"6287\"},{\"id\":\"6291\"}],\"frame_height\":300,\"height\":null,\"left\":[{\"id\":\"6288\"}],\"margin\":[5,5,5,5],\"min_border_bottom\":10,\"min_border_left\":10,\"min_border_right\":10,\"min_border_top\":10,\"renderers\":[{\"id\":\"6311\"}],\"sizing_mode\":\"fixed\",\"title\":{\"id\":\"6277\"},\"toolbar\":{\"id\":\"6298\"},\"width\":700,\"x_range\":{\"id\":\"6068\"},\"x_scale\":{\"id\":\"6281\"},\"y_range\":{\"id\":\"6274\"},\"y_scale\":{\"id\":\"6283\"}},\"id\":\"6276\",\"subtype\":\"Figure\",\"type\":\"Plot\"},{\"attributes\":{\"overlay\":{\"id\":\"6738\"}},\"id\":\"6736\",\"type\":\"BoxZoomTool\"},{\"attributes\":{\"coordinates\":null,\"group\":null,\"text\":\"neighbourhood: Agincourt North\",\"text_color\":\"black\",\"text_font_size\":\"12pt\"},\"id\":\"6639\",\"type\":\"Title\"},{\"attributes\":{\"fill_alpha\":{\"value\":0.1},\"fill_color\":{\"value\":\"yellow\"},\"hatch_alpha\":{\"value\":0.1},\"hatch_color\":{\"value\":\"yellow\"},\"line_alpha\":{\"value\":0.1},\"top\":{\"field\":\"A_2016\"},\"width\":{\"value\":0.8},\"x\":{\"field\":\"index\"}},\"id\":\"6309\",\"type\":\"VBar\"},{\"attributes\":{\"line_color\":\"blue\",\"line_width\":2,\"x\":{\"field\":\"year\"},\"y\":{\"field\":\"average_house_value\"}},\"id\":\"6384\",\"type\":\"Line\"},{\"attributes\":{\"axis\":{\"id\":\"6288\"},\"coordinates\":null,\"dimension\":1,\"grid_line_color\":null,\"group\":null,\"ticker\":null},\"id\":\"6291\",\"type\":\"Grid\"},{\"attributes\":{},\"id\":\"6367\",\"type\":\"ResetTool\"},{\"attributes\":{},\"id\":\"6683\",\"type\":\"AllLabels\"},{\"attributes\":{\"data\":{\"average_house_value\":{\"__ndarray__\":\"i6/4imuxEUGogzqo7uEZQfEVX3HxLyBBqIM6qAhEJEE=\",\"dtype\":\"float64\",\"order\":\"little\",\"shape\":[4]},\"year\":[2001,2006,2011,2016]},\"selected\":{\"id\":\"6377\"},\"selection_policy\":{\"id\":\"6400\"}},\"id\":\"6376\",\"type\":\"ColumnDataSource\"},{\"attributes\":{\"below\":[{\"id\":\"6647\"}],\"center\":[{\"id\":\"6649\"},{\"id\":\"6653\"}],\"frame_height\":300,\"frame_width\":600,\"height\":null,\"left\":[{\"id\":\"6650\"}],\"margin\":[5,5,5,5],\"min_border_bottom\":10,\"min_border_left\":10,\"min_border_right\":10,\"min_border_top\":10,\"renderers\":[{\"id\":\"6674\"}],\"sizing_mode\":\"fixed\",\"title\":{\"id\":\"6639\"},\"toolbar\":{\"id\":\"6660\"},\"width\":null,\"x_range\":{\"id\":\"6635\"},\"x_scale\":{\"id\":\"6643\"},\"y_range\":{\"id\":\"6636\"},\"y_scale\":{\"id\":\"6645\"}},\"id\":\"6638\",\"subtype\":\"Figure\",\"type\":\"Plot\"},{\"attributes\":{},\"id\":\"6391\",\"type\":\"AllLabels\"},{\"attributes\":{\"axis_label\":\"Number of Dwellings\",\"coordinates\":null,\"formatter\":{\"id\":\"6314\"},\"group\":null,\"major_label_policy\":{\"id\":\"6320\"},\"ticker\":{\"id\":\"6289\"}},\"id\":\"6288\",\"type\":\"LinearAxis\"},{\"attributes\":{\"overlay\":{\"id\":\"6580\"}},\"id\":\"6578\",\"type\":\"BoxZoomTool\"},{\"attributes\":{\"bottom_units\":\"screen\",\"coordinates\":null,\"fill_alpha\":0.5,\"fill_color\":\"lightgrey\",\"group\":null,\"left_units\":\"screen\",\"level\":\"overlay\",\"line_alpha\":1.0,\"line_color\":\"black\",\"line_dash\":[4,4],\"line_width\":2,\"right_units\":\"screen\",\"syncable\":false,\"top_units\":\"screen\"},\"id\":\"6368\",\"type\":\"BoxAnnotation\"},{\"attributes\":{},\"id\":\"6530\",\"type\":\"AllLabels\"},{\"attributes\":{},\"id\":\"6226\",\"type\":\"WheelZoomTool\"},{\"attributes\":{},\"id\":\"6786\",\"type\":\"Selection\"},{\"attributes\":{},\"id\":\"6364\",\"type\":\"PanTool\"},{\"attributes\":{},\"id\":\"6734\",\"type\":\"PanTool\"},{\"attributes\":{\"fill_color\":{\"value\":\"yellow\"},\"hatch_color\":{\"value\":\"yellow\"},\"top\":{\"field\":\"A_2016\"},\"width\":{\"value\":0.8},\"x\":{\"field\":\"index\"}},\"id\":\"6308\",\"type\":\"VBar\"},{\"attributes\":{\"bottom_units\":\"screen\",\"coordinates\":null,\"fill_alpha\":0.5,\"fill_color\":\"lightgrey\",\"group\":null,\"left_units\":\"screen\",\"level\":\"overlay\",\"line_alpha\":1.0,\"line_color\":\"black\",\"line_dash\":[4,4],\"line_width\":2,\"right_units\":\"screen\",\"syncable\":false,\"top_units\":\"screen\"},\"id\":\"6507\",\"type\":\"BoxAnnotation\"},{\"attributes\":{\"coordinates\":null,\"group\":null,\"text\":\"Average House Value in Toronto\",\"text_color\":\"black\",\"text_font_size\":\"12pt\"},\"id\":\"6347\",\"type\":\"Title\"},{\"attributes\":{},\"id\":\"6289\",\"type\":\"BasicTicker\"},{\"attributes\":{},\"id\":\"6504\",\"type\":\"WheelZoomTool\"},{\"attributes\":{},\"id\":\"6296\",\"type\":\"ResetTool\"},{\"attributes\":{\"axis\":{\"id\":\"6726\"},\"coordinates\":null,\"grid_line_color\":null,\"group\":null,\"ticker\":null},\"id\":\"6728\",\"type\":\"Grid\"},{\"attributes\":{},\"id\":\"6733\",\"type\":\"SaveTool\"},{\"attributes\":{\"axis\":{\"id\":\"6285\"},\"coordinates\":null,\"grid_line_color\":null,\"group\":null,\"ticker\":null},\"id\":\"6287\",\"type\":\"Grid\"},{\"attributes\":{},\"id\":\"6669\",\"type\":\"Selection\"},{\"attributes\":{\"axis\":{\"id\":\"6359\"},\"coordinates\":null,\"dimension\":1,\"grid_line_color\":null,\"group\":null,\"ticker\":null},\"id\":\"6362\",\"type\":\"Grid\"},{\"attributes\":{},\"id\":\"6400\",\"type\":\"UnionRenderers\"},{\"attributes\":{\"line_alpha\":0.2,\"line_color\":\"blue\",\"line_width\":2,\"x\":{\"field\":\"year\"},\"y\":{\"field\":\"average_house_value\"}},\"id\":\"6381\",\"type\":\"Line\"},{\"attributes\":{},\"id\":\"6228\",\"type\":\"ResetTool\"},{\"attributes\":{},\"id\":\"6730\",\"type\":\"BasicTicker\"},{\"attributes\":{\"axis\":{\"id\":\"6355\"},\"coordinates\":null,\"grid_line_color\":null,\"group\":null,\"ticker\":null},\"id\":\"6358\",\"type\":\"Grid\"},{\"attributes\":{\"bottom_units\":\"screen\",\"coordinates\":null,\"fill_alpha\":0.5,\"fill_color\":\"lightgrey\",\"group\":null,\"left_units\":\"screen\",\"level\":\"overlay\",\"line_alpha\":1.0,\"line_color\":\"black\",\"line_dash\":[4,4],\"line_width\":2,\"right_units\":\"screen\",\"syncable\":false,\"top_units\":\"screen\"},\"id\":\"6229\",\"type\":\"BoxAnnotation\"},{\"attributes\":{\"overlay\":{\"id\":\"6507\"}},\"id\":\"6505\",\"type\":\"BoxZoomTool\"},{\"attributes\":{\"coordinates\":null,\"data_source\":{\"id\":\"6237\"},\"glyph\":{\"id\":\"6240\"},\"group\":null,\"hover_glyph\":null,\"muted_glyph\":{\"id\":\"6242\"},\"nonselection_glyph\":{\"id\":\"6241\"},\"selection_glyph\":{\"id\":\"6245\"},\"view\":{\"id\":\"6244\"}},\"id\":\"6243\",\"type\":\"GlyphRenderer\"},{\"attributes\":{\"format\":\"%.0f\"},\"id\":\"6246\",\"type\":\"PrintfTickFormatter\"},{\"attributes\":{\"bottom\":{\"value\":0},\"fill_alpha\":{\"value\":1.0},\"fill_color\":{\"value\":\"green\"},\"hatch_alpha\":{\"value\":1.0},\"hatch_color\":{\"value\":\"green\"},\"hatch_scale\":{\"value\":12.0},\"hatch_weight\":{\"value\":1.0},\"line_alpha\":{\"value\":1.0},\"line_cap\":{\"value\":\"butt\"},\"line_color\":{\"value\":\"black\"},\"line_dash\":{\"value\":[]},\"line_dash_offset\":{\"value\":0},\"line_join\":{\"value\":\"bevel\"},\"line_width\":{\"value\":1},\"top\":{\"field\":\"A_2011\"},\"width\":{\"value\":0.8},\"x\":{\"field\":\"index\"}},\"id\":\"6245\",\"type\":\"VBar\"},{\"attributes\":{\"fill_alpha\":{\"value\":0.2},\"fill_color\":{\"value\":\"yellow\"},\"hatch_alpha\":{\"value\":0.2},\"hatch_color\":{\"value\":\"yellow\"},\"line_alpha\":{\"value\":0.2},\"top\":{\"field\":\"A_2016\"},\"width\":{\"value\":0.8},\"x\":{\"field\":\"index\"}},\"id\":\"6310\",\"type\":\"VBar\"},{\"attributes\":{},\"id\":\"6645\",\"type\":\"LinearScale\"},{\"attributes\":{},\"id\":\"6727\",\"type\":\"CategoricalTicker\"},{\"attributes\":{},\"id\":\"6387\",\"type\":\"BasicTickFormatter\"},{\"attributes\":{},\"id\":\"6643\",\"type\":\"CategoricalScale\"},{\"attributes\":{\"end\":1597812.3,\"reset_end\":701486.8728571428,\"reset_start\":252464.34142857144,\"start\":0.0,\"tags\":[[[\"average_house_value\",\"average_house_value\",null]]]},\"id\":\"6344\",\"type\":\"Range1d\"},{\"attributes\":{},\"id\":\"6589\",\"type\":\"Selection\"},{\"attributes\":{},\"id\":\"6363\",\"type\":\"SaveTool\"},{\"attributes\":{\"source\":{\"id\":\"6100\"}},\"id\":\"6107\",\"type\":\"CDSView\"},{\"attributes\":{},\"id\":\"6224\",\"type\":\"SaveTool\"},{\"attributes\":{},\"id\":\"6461\",\"type\":\"AllLabels\"},{\"attributes\":{\"format\":\"%.0f\"},\"id\":\"6524\",\"type\":\"PrintfTickFormatter\"},{\"attributes\":{},\"id\":\"6356\",\"type\":\"BasicTicker\"},{\"attributes\":{},\"id\":\"6293\",\"type\":\"PanTool\"},{\"attributes\":{\"bottom_units\":\"screen\",\"coordinates\":null,\"fill_alpha\":0.5,\"fill_color\":\"lightgrey\",\"group\":null,\"left_units\":\"screen\",\"level\":\"overlay\",\"line_alpha\":1.0,\"line_color\":\"black\",\"line_dash\":[4,4],\"line_width\":2,\"right_units\":\"screen\",\"syncable\":false,\"top_units\":\"screen\"},\"id\":\"6659\",\"type\":\"BoxAnnotation\"},{\"attributes\":{\"format\":\"%.0f\"},\"id\":\"6455\",\"type\":\"PrintfTickFormatter\"},{\"attributes\":{\"axis_label\":\"Avg House Value\",\"coordinates\":null,\"formatter\":{\"id\":\"6385\"},\"group\":null,\"major_label_policy\":{\"id\":\"6391\"},\"ticker\":{\"id\":\"6360\"}},\"id\":\"6359\",\"type\":\"LinearAxis\"},{\"attributes\":{\"js_property_callbacks\":{\"change:active\":[{\"id\":\"7245\"}]},\"margin\":[0,0,0,0],\"tabs\":[{\"id\":\"6065\"},{\"id\":\"6341\"},{\"id\":\"6551\"},{\"id\":\"6782\"}]},\"id\":\"6060\",\"type\":\"Tabs\"},{\"attributes\":{\"children\":[{\"id\":\"6638\"},{\"id\":\"6710\"}],\"margin\":[0,0,0,0],\"name\":\"Row13647\"},\"id\":\"6634\",\"type\":\"Row\"},{\"attributes\":{},\"id\":\"6434\",\"type\":\"PanTool\"},{\"attributes\":{\"axis_label\":\"Year\",\"coordinates\":null,\"formatter\":{\"id\":\"6679\"},\"group\":null,\"major_label_orientation\":1.5707963267948966,\"major_label_policy\":{\"id\":\"6680\"},\"ticker\":{\"id\":\"6648\"}},\"id\":\"6647\",\"type\":\"CategoricalAxis\"},{\"attributes\":{},\"id\":\"6353\",\"type\":\"LinearScale\"},{\"attributes\":{},\"id\":\"6527\",\"type\":\"AllLabels\"},{\"attributes\":{\"child\":{\"id\":\"6066\"},\"name\":\"Column13203\",\"title\":\"Yearly Housing Count\"},\"id\":\"6341\",\"type\":\"Panel\"},{\"attributes\":{\"data\":{\"average_house_value\":{\"__ndarray__\":\"AAAAwNVKN0EAAACA2D8yQQAAAMCLsTBBAAAAAAiwMEEAAAAAhn0uQQAAAICQ8C1BAAAAgN5kLEEAAAAAwf0pQQAAAIDEuylBAAAAgEjRKEE=\",\"dtype\":\"float64\",\"order\":\"little\",\"shape\":[10]},\"neighbourhood\":[\"Bridle Path-Sunnybrook-York Mills\",\"Forest Hill South\",\"Lawrence Park South\",\"Rosedale-Moore Park\",\"St.Andrew-Windfields\",\"Casa Loma\",\"Bedford Park-Nortown\",\"Forest Hill North\",\"Kingsway South\",\"Yonge-St.Clair\"]},\"selected\":{\"id\":\"6747\"},\"selection_policy\":{\"id\":\"6770\"}},\"id\":\"6746\",\"type\":\"ColumnDataSource\"},{\"attributes\":{\"reload\":false},\"id\":\"7707\",\"type\":\"panel.models.location.Location\"},{\"attributes\":{\"axis_label\":\"Year\",\"coordinates\":null,\"formatter\":{\"id\":\"6387\"},\"group\":null,\"major_label_policy\":{\"id\":\"6388\"},\"ticker\":{\"id\":\"6356\"}},\"id\":\"6355\",\"type\":\"LinearAxis\"},{\"attributes\":{\"callback\":null,\"renderers\":[{\"id\":\"6674\"}],\"tags\":[\"hv_created\"],\"tooltips\":[[\"year\",\"@{year}\"],[\"Variable\",\"@{Variable}\"],[\"value\",\"@{value}\"]]},\"id\":\"6637\",\"type\":\"HoverTool\"},{\"attributes\":{},\"id\":\"6225\",\"type\":\"PanTool\"},{\"attributes\":{\"axis_label\":\"Avg House Value\",\"coordinates\":null,\"formatter\":{\"id\":\"6755\"},\"group\":null,\"major_label_policy\":{\"id\":\"6761\"},\"ticker\":{\"id\":\"6730\"}},\"id\":\"6729\",\"type\":\"LinearAxis\"},{\"attributes\":{},\"id\":\"6388\",\"type\":\"AllLabels\"},{\"attributes\":{\"format\":\"%.0f\"},\"id\":\"6677\",\"type\":\"PrintfTickFormatter\"},{\"attributes\":{\"tools\":[{\"id\":\"6415\"},{\"id\":\"6433\"},{\"id\":\"6434\"},{\"id\":\"6435\"},{\"id\":\"6436\"},{\"id\":\"6437\"}]},\"id\":\"6439\",\"type\":\"Toolbar\"},{\"attributes\":{},\"id\":\"6565\",\"type\":\"LinearScale\"},{\"attributes\":{\"factors\":[\"single_detached_house\",\"apartment_five_storeys_plus\",\"movable_dwelling\",\"semi_detached_house\",\"row_house\",\"duplex\",\"apartment_five_storeys_less\",\"other_house\"],\"tags\":[[[\"index\",\"index\",null]]]},\"id\":\"6068\",\"type\":\"FactorRange\"},{\"attributes\":{\"below\":[{\"id\":\"6567\"}],\"center\":[{\"id\":\"6570\"},{\"id\":\"6574\"}],\"frame_width\":500,\"height\":300,\"left\":[{\"id\":\"6571\"}],\"margin\":[5,5,5,5],\"min_border_bottom\":10,\"min_border_left\":10,\"min_border_right\":10,\"min_border_top\":10,\"renderers\":[{\"id\":\"6594\"}],\"sizing_mode\":\"fixed\",\"title\":{\"id\":\"6559\"},\"toolbar\":{\"id\":\"6581\"},\"width\":null,\"x_range\":{\"id\":\"6343\"},\"x_scale\":{\"id\":\"6563\"},\"y_range\":{\"id\":\"6344\"},\"y_scale\":{\"id\":\"6565\"}},\"id\":\"6558\",\"subtype\":\"Figure\",\"type\":\"Plot\"},{\"attributes\":{},\"id\":\"6770\",\"type\":\"UnionRenderers\"},{\"attributes\":{\"bottom_units\":\"screen\",\"coordinates\":null,\"fill_alpha\":0.5,\"fill_color\":\"lightgrey\",\"group\":null,\"left_units\":\"screen\",\"level\":\"overlay\",\"line_alpha\":1.0,\"line_color\":\"black\",\"line_dash\":[4,4],\"line_width\":2,\"right_units\":\"screen\",\"syncable\":false,\"top_units\":\"screen\"},\"id\":\"6438\",\"type\":\"BoxAnnotation\"},{\"attributes\":{\"overlay\":{\"id\":\"6229\"}},\"id\":\"6227\",\"type\":\"BoxZoomTool\"},{\"attributes\":{\"format\":\"%.0f\"},\"id\":\"6385\",\"type\":\"PrintfTickFormatter\"},{\"attributes\":{\"axis\":{\"id\":\"6729\"},\"coordinates\":null,\"dimension\":1,\"grid_line_color\":null,\"group\":null,\"ticker\":null},\"id\":\"6732\",\"type\":\"Grid\"},{\"attributes\":{\"source\":{\"id\":\"6237\"}},\"id\":\"6244\",\"type\":\"CDSView\"},{\"attributes\":{},\"id\":\"6192\",\"type\":\"UnionRenderers\"},{\"attributes\":{\"line_alpha\":0.1,\"line_color\":\"blue\",\"line_width\":2,\"x\":{\"field\":\"year\"},\"y\":{\"field\":\"average_house_value\"}},\"id\":\"6380\",\"type\":\"Line\"},{\"attributes\":{},\"id\":\"6351\",\"type\":\"LinearScale\"},{\"attributes\":{\"overlay\":{\"id\":\"6438\"}},\"id\":\"6436\",\"type\":\"BoxZoomTool\"},{\"attributes\":{},\"id\":\"6735\",\"type\":\"WheelZoomTool\"},{\"attributes\":{},\"id\":\"6447\",\"type\":\"Selection\"},{\"attributes\":{\"line_color\":\"blue\",\"line_width\":2,\"x\":{\"field\":\"year\"},\"y\":{\"field\":\"shelter_costs_owned\"}},\"id\":\"6454\",\"type\":\"Line\"},{\"attributes\":{\"end\":4086.5,\"reset_end\":4086.5,\"reset_start\":0.0,\"tags\":[[[\"value\",\"value\",null]]]},\"id\":\"6636\",\"type\":\"Range1d\"},{\"attributes\":{},\"id\":\"6286\",\"type\":\"CategoricalTicker\"},{\"attributes\":{},\"id\":\"6437\",\"type\":\"ResetTool\"},{\"attributes\":{\"tools\":[{\"id\":\"6637\"},{\"id\":\"6654\"},{\"id\":\"6655\"},{\"id\":\"6656\"},{\"id\":\"6657\"},{\"id\":\"6658\"}]},\"id\":\"6660\",\"type\":\"Toolbar\"},{\"attributes\":{\"line_color\":\"yellow\",\"line_width\":2,\"x\":{\"field\":\"year\"},\"y\":{\"field\":\"shelter_costs_rented\"}},\"id\":\"6523\",\"type\":\"Line\"},{\"attributes\":{},\"id\":\"6252\",\"type\":\"AllLabels\"},{\"attributes\":{\"children\":[{\"id\":\"6553\"},{\"id\":\"6717\"}],\"margin\":[0,0,0,0],\"name\":\"Row13789\"},\"id\":\"6552\",\"type\":\"Row\"},{\"attributes\":{},\"id\":\"6737\",\"type\":\"ResetTool\"},{\"attributes\":{\"coordinates\":null,\"data_source\":{\"id\":\"6376\"},\"glyph\":{\"id\":\"6379\"},\"group\":null,\"hover_glyph\":null,\"muted_glyph\":{\"id\":\"6381\"},\"nonselection_glyph\":{\"id\":\"6380\"},\"selection_glyph\":{\"id\":\"6384\"},\"view\":{\"id\":\"6383\"}},\"id\":\"6382\",\"type\":\"GlyphRenderer\"},{\"attributes\":{\"data\":{\"shelter_costs_rented\":{\"__ndarray__\":\"LL7iK773kEB1UAd1UOuMQMVXfMVX3o9AJUmSJEmhk0A=\",\"dtype\":\"float64\",\"order\":\"little\",\"shape\":[4]},\"year\":[2001,2006,2011,2016]},\"selected\":{\"id\":\"6516\"},\"selection_policy\":{\"id\":\"6539\"}},\"id\":\"6515\",\"type\":\"ColumnDataSource\"},{\"attributes\":{},\"id\":\"6238\",\"type\":\"Selection\"},{\"attributes\":{\"overlay\":{\"id\":\"6297\"}},\"id\":\"6295\",\"type\":\"BoxZoomTool\"}],\"root_ids\":[\"6057\",\"7430\",\"7707\"]},\"title\":\"Bokeh Application\",\"version\":\"2.4.2\"}};\n",
       "    var render_items = [{\"docid\":\"7e1c1eab-0ffd-4e1f-8771-3b22b72bc86e\",\"root_ids\":[\"6057\"],\"roots\":{\"6057\":\"535e6b21-7894-4496-b93c-8abc41bcee80\"}}];\n",
       "    root.Bokeh.embed.embed_items_notebook(docs_json, render_items);\n",
       "  }\n",
       "  if (root.Bokeh !== undefined && root.Bokeh.Panel !== undefined && ( root['Plotly'] !== undefined)) {\n",
       "    embed_document(root);\n",
       "  } else {\n",
       "    var attempts = 0;\n",
       "    var timer = setInterval(function(root) {\n",
       "      if (root.Bokeh !== undefined && root.Bokeh.Panel !== undefined && (root['Plotly'] !== undefined)) {\n",
       "        clearInterval(timer);\n",
       "        embed_document(root);\n",
       "      } else if (document.readyState == \"complete\") {\n",
       "        attempts++;\n",
       "        if (attempts > 200) {\n",
       "          clearInterval(timer);\n",
       "          console.log(\"Bokeh: ERROR: Unable to run BokehJS code because BokehJS library is missing\");\n",
       "        }\n",
       "      }\n",
       "    }, 25, root)\n",
       "  }\n",
       "})(window);</script>"
      ],
      "text/plain": [
       "Column\n",
       "    [0] Column\n",
       "        [0] Markdown(str)\n",
       "    [1] Tabs\n",
       "        [0] Column\n",
       "            [0] Markdown(str)\n",
       "            [1] Plotly(Figure)\n",
       "        [1] Column\n",
       "            [0] Row\n",
       "                [0] HoloViews(Bars)\n",
       "                [1] HoloViews(Bars)\n",
       "            [1] Row\n",
       "                [0] HoloViews(Bars)\n",
       "                [1] HoloViews(Bars)\n",
       "        [2] Column\n",
       "            [0] HoloViews(Curve)\n",
       "            [1] Row\n",
       "                [0] HoloViews(Curve)\n",
       "                [1] HoloViews(Curve)\n",
       "        [3] Row\n",
       "            [0] Column\n",
       "                [0] Row\n",
       "                    [0] HoloViews(DynamicMap)\n",
       "                    [1] Column\n",
       "                        [0] WidgetBox\n",
       "                            [0] Select(margin=(20, 20, 20, 20), name='neighbourhood', options=['Agincourt North', ...], value='Agincourt North', width=250)\n",
       "                        [1] VSpacer()\n",
       "                [1] Row\n",
       "                    [0] HoloViews(DynamicMap)\n",
       "                    [1] Column\n",
       "                        [0] WidgetBox\n",
       "                            [0] Select(margin=(20, 20, 20, 20), name='neighbourhood', options=['Agincourt North', ...], value='Agincourt North', width=250)\n",
       "                        [1] VSpacer()\n",
       "            [1] HoloViews(Bars)"
      ]
     },
     "execution_count": 46,
     "metadata": {
      "application/vnd.holoviews_exec.v0+json": {
       "id": "6057"
      }
     },
     "output_type": "execute_result"
    }
   ],
   "source": [
    "dashboard.servable()"
   ]
  },
  {
   "cell_type": "markdown",
   "metadata": {},
   "source": [
    "# Debugging\n",
    "\n",
    "Note: Some of the Plotly express plots may not render in the notebook through the panel functions.\n",
    "\n",
    "However, you can test each plot by uncommenting the following code"
   ]
  },
  {
   "cell_type": "code",
   "execution_count": null,
   "metadata": {},
   "outputs": [],
   "source": [
    "# neighbourhood_map().show()"
   ]
  },
  {
   "cell_type": "code",
   "execution_count": null,
   "metadata": {},
   "outputs": [],
   "source": [
    "# create_bar_chart(data, title, xlabel, ylabel, color)\n",
    "\n",
    "# # Bar chart for 2001\n",
    "# create_bar_chart(df_dwelling_units.loc[2001], \"Dwelling Types in Toronto in 2001\", \"2001\", \"Dwelling Type Units\", \"red\")\n",
    "\n",
    "# # Bar chart for 2006\n",
    "# create_bar_chart(df_dwelling_units.loc[2006], \"Dwelling Types in Toronto in 2006\", \"2006\", \"Dwelling Type Units\", \"blue\")\n",
    "\n",
    "# # Bar chart for 2011\n",
    "# create_bar_chart(df_dwelling_units.loc[2011], \"Dwelling Types in Toronto in 2011\", \"2011\", \"Dwelling Type Units\", \"orange\")\n",
    "\n",
    "# # Bar chart for 2016\n",
    "# create_bar_chart(df_dwelling_units.loc[2016], \"Dwelling Types in Toronto in 2016\", \"2016\", \"Dwelling Type Units\", \"magenta\")"
   ]
  },
  {
   "cell_type": "code",
   "execution_count": null,
   "metadata": {},
   "outputs": [],
   "source": [
    "# create_line_chart(data, title, xlabel, ylabel, color)\n",
    "\n",
    "# # Line chart for owned dwellings\n",
    "# create_line_chart(df_avg_costs[\"shelter_costs_owned\"], \"Average Monthly Shelter Cost for Owned Dwellings in Toronto\", \"Year\", \"Avg Monthly Shelter Costs\", \"blue\")\n",
    "\n",
    "# # Line chart for rented dwellings\n",
    "# create_line_chart(df_avg_costs[\"shelter_costs_rented\"], \"Average Monthly Shelter Cost for Rented Dwellings in Toronto\", \"Year\", \"Avg Monthly Shelter Costs\", \"orange\")"
   ]
  },
  {
   "cell_type": "code",
   "execution_count": null,
   "metadata": {},
   "outputs": [],
   "source": [
    "# average_house_value()"
   ]
  },
  {
   "cell_type": "code",
   "execution_count": null,
   "metadata": {},
   "outputs": [],
   "source": [
    "# average_value_by_neighbourhood()"
   ]
  },
  {
   "cell_type": "code",
   "execution_count": null,
   "metadata": {},
   "outputs": [],
   "source": [
    "# number_dwelling_types()"
   ]
  },
  {
   "cell_type": "code",
   "execution_count": null,
   "metadata": {},
   "outputs": [],
   "source": [
    "# average_house_value_snapshot()"
   ]
  },
  {
   "cell_type": "code",
   "execution_count": null,
   "metadata": {},
   "outputs": [],
   "source": [
    "# top_most_expensive_neighbourhoods()"
   ]
  },
  {
   "cell_type": "code",
   "execution_count": null,
   "metadata": {},
   "outputs": [],
   "source": [
    "# sunburts_cost_analysis()"
   ]
  }
 ],
 "metadata": {
  "file_extension": ".py",
  "kernelspec": {
   "display_name": "Python [conda env:pyvizenv] *",
   "language": "python",
   "name": "conda-env-pyvizenv-py"
  },
  "language_info": {
   "codemirror_mode": {
    "name": "ipython",
    "version": 3
   },
   "file_extension": ".py",
   "mimetype": "text/x-python",
   "name": "python",
   "nbconvert_exporter": "python",
   "pygments_lexer": "ipython3",
   "version": "3.7.11"
  },
  "mimetype": "text/x-python",
  "name": "python",
  "npconvert_exporter": "python",
  "pygments_lexer": "ipython3",
  "version": 3
 },
 "nbformat": 4,
 "nbformat_minor": 4
}
